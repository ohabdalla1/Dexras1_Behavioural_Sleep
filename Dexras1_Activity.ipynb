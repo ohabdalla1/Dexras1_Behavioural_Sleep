{
 "cells": [
  {
   "cell_type": "markdown",
   "id": "c10b8fde-fb29-4f78-b092-59ac278ca880",
   "metadata": {
    "jp-MarkdownHeadingCollapsed": true,
    "tags": []
   },
   "source": [
    "# <center> Passive Infrared Sensing of Dexras1 knockout and C57 Wild-type Mice\n",
    "\n",
    "# <center> Converting 10-second bins into activity bout data\n",
    "### <center> By Osama Abdalla </center>"
   ]
  },
  {
   "cell_type": "code",
   "execution_count": 1,
   "id": "aaaedf80-a2ce-4474-b9f2-1952aa002857",
   "metadata": {
    "tags": []
   },
   "outputs": [
    {
     "name": "stderr",
     "output_type": "stream",
     "text": [
      "-- \u001b[1mAttaching packages\u001b[22m --------------------------------------- tidyverse 1.3.0 --\n",
      "\n",
      "\u001b[32mv\u001b[39m \u001b[34mggplot2\u001b[39m 3.3.5     \u001b[32mv\u001b[39m \u001b[34mpurrr  \u001b[39m 0.3.4\n",
      "\u001b[32mv\u001b[39m \u001b[34mtibble \u001b[39m 3.0.5     \u001b[32mv\u001b[39m \u001b[34mdplyr  \u001b[39m 1.0.7\n",
      "\u001b[32mv\u001b[39m \u001b[34mtidyr  \u001b[39m 1.1.2     \u001b[32mv\u001b[39m \u001b[34mstringr\u001b[39m 1.4.0\n",
      "\u001b[32mv\u001b[39m \u001b[34mreadr  \u001b[39m 1.4.0     \u001b[32mv\u001b[39m \u001b[34mforcats\u001b[39m 0.5.1\n",
      "\n",
      "Warning message:\n",
      "\"package 'ggplot2' was built under R version 4.1.3\"\n",
      "Warning message:\n",
      "\"package 'purrr' was built under R version 4.1.3\"\n",
      "Warning message:\n",
      "\"package 'forcats' was built under R version 4.1.3\"\n",
      "-- \u001b[1mConflicts\u001b[22m ------------------------------------------ tidyverse_conflicts() --\n",
      "\u001b[31mx\u001b[39m \u001b[34mdplyr\u001b[39m::\u001b[32mfilter()\u001b[39m masks \u001b[34mstats\u001b[39m::filter()\n",
      "\u001b[31mx\u001b[39m \u001b[34mdplyr\u001b[39m::\u001b[32mlag()\u001b[39m    masks \u001b[34mstats\u001b[39m::lag()\n",
      "\n",
      "\n",
      "Attaching package: 'lubridate'\n",
      "\n",
      "\n",
      "The following objects are masked from 'package:base':\n",
      "\n",
      "    date, intersect, setdiff, union\n",
      "\n",
      "\n",
      "Warning message:\n",
      "\"package 'ez' was built under R version 4.1.3\"\n",
      "Registered S3 methods overwritten by 'lme4':\n",
      "  method                          from\n",
      "  cooks.distance.influence.merMod car \n",
      "  influence.merMod                car \n",
      "  dfbeta.influence.merMod         car \n",
      "  dfbetas.influence.merMod        car \n",
      "\n",
      "\n",
      "Attaching package: 'rstatix'\n",
      "\n",
      "\n",
      "The following object is masked from 'package:stats':\n",
      "\n",
      "    filter\n",
      "\n",
      "\n"
     ]
    }
   ],
   "source": [
    "#Loading appropriate packages:\n",
    "library(tidyverse)\n",
    "library(lubridate) #for handling dates\n",
    "library(ez) #for split-plot ANOVA calculations\n",
    "library(plotrix) #for plotting standard errors\n",
    "library(rstatix) #for piping into statistical tests"
   ]
  },
  {
   "cell_type": "markdown",
   "id": "2453320c-7fac-40d9-b144-29d128ceb27a",
   "metadata": {},
   "source": [
    "The data are attached as a csv file called 20220530.csv\n",
    "Let's attach this, call it Tickling_raw, and take a look at the data"
   ]
  },
  {
   "cell_type": "code",
   "execution_count": 2,
   "id": "e33ccf1b-f902-4182-ae5b-2d1024505767",
   "metadata": {},
   "outputs": [
    {
     "data": {
      "text/html": [
       "<table class=\"dataframe\">\n",
       "<caption>A data.frame: 6 × 9</caption>\n",
       "<thead>\n",
       "\t<tr><th></th><th scope=col>Time</th><th scope=col>ID</th><th scope=col>PIR1</th><th scope=col>PIR2</th><th scope=col>PIR3</th><th scope=col>PIR4</th><th scope=col>PIR5</th><th scope=col>PIR6</th><th scope=col>LDR</th></tr>\n",
       "\t<tr><th></th><th scope=col>&lt;chr&gt;</th><th scope=col>&lt;chr&gt;</th><th scope=col>&lt;int&gt;</th><th scope=col>&lt;int&gt;</th><th scope=col>&lt;int&gt;</th><th scope=col>&lt;int&gt;</th><th scope=col>&lt;int&gt;</th><th scope=col>&lt;int&gt;</th><th scope=col>&lt;int&gt;</th></tr>\n",
       "</thead>\n",
       "<tbody>\n",
       "\t<tr><th scope=row>1</th><td>2022-05-30T20:02:19</td><td>COMPASS_Can1</td><td>68</td><td>83</td><td>79</td><td>65</td><td>61</td><td>65</td><td>2999</td></tr>\n",
       "\t<tr><th scope=row>2</th><td>2022-05-30T20:02:29</td><td>COMPASS_Can1</td><td>77</td><td>44</td><td>68</td><td>82</td><td>71</td><td>89</td><td>2985</td></tr>\n",
       "\t<tr><th scope=row>3</th><td>2022-05-30T20:02:39</td><td>COMPASS_Can1</td><td>79</td><td>51</td><td>87</td><td>71</td><td>78</td><td>81</td><td>2997</td></tr>\n",
       "\t<tr><th scope=row>4</th><td>2022-05-30T20:02:49</td><td>COMPASS_Can1</td><td>80</td><td>48</td><td>79</td><td>74</td><td>73</td><td>87</td><td>2975</td></tr>\n",
       "\t<tr><th scope=row>5</th><td>2022-05-30T20:02:59</td><td>COMPASS_Can1</td><td>53</td><td>39</td><td>61</td><td>66</td><td>56</td><td>90</td><td>2980</td></tr>\n",
       "\t<tr><th scope=row>6</th><td>2022-05-30T20:04:02</td><td>COMPASS_Can1</td><td>59</td><td>79</td><td>58</td><td>41</td><td>59</td><td>67</td><td>2934</td></tr>\n",
       "</tbody>\n",
       "</table>\n"
      ],
      "text/latex": [
       "A data.frame: 6 × 9\n",
       "\\begin{tabular}{r|lllllllll}\n",
       "  & Time & ID & PIR1 & PIR2 & PIR3 & PIR4 & PIR5 & PIR6 & LDR\\\\\n",
       "  & <chr> & <chr> & <int> & <int> & <int> & <int> & <int> & <int> & <int>\\\\\n",
       "\\hline\n",
       "\t1 & 2022-05-30T20:02:19 & COMPASS\\_Can1 & 68 & 83 & 79 & 65 & 61 & 65 & 2999\\\\\n",
       "\t2 & 2022-05-30T20:02:29 & COMPASS\\_Can1 & 77 & 44 & 68 & 82 & 71 & 89 & 2985\\\\\n",
       "\t3 & 2022-05-30T20:02:39 & COMPASS\\_Can1 & 79 & 51 & 87 & 71 & 78 & 81 & 2997\\\\\n",
       "\t4 & 2022-05-30T20:02:49 & COMPASS\\_Can1 & 80 & 48 & 79 & 74 & 73 & 87 & 2975\\\\\n",
       "\t5 & 2022-05-30T20:02:59 & COMPASS\\_Can1 & 53 & 39 & 61 & 66 & 56 & 90 & 2980\\\\\n",
       "\t6 & 2022-05-30T20:04:02 & COMPASS\\_Can1 & 59 & 79 & 58 & 41 & 59 & 67 & 2934\\\\\n",
       "\\end{tabular}\n"
      ],
      "text/markdown": [
       "\n",
       "A data.frame: 6 × 9\n",
       "\n",
       "| <!--/--> | Time &lt;chr&gt; | ID &lt;chr&gt; | PIR1 &lt;int&gt; | PIR2 &lt;int&gt; | PIR3 &lt;int&gt; | PIR4 &lt;int&gt; | PIR5 &lt;int&gt; | PIR6 &lt;int&gt; | LDR &lt;int&gt; |\n",
       "|---|---|---|---|---|---|---|---|---|---|\n",
       "| 1 | 2022-05-30T20:02:19 | COMPASS_Can1 | 68 | 83 | 79 | 65 | 61 | 65 | 2999 |\n",
       "| 2 | 2022-05-30T20:02:29 | COMPASS_Can1 | 77 | 44 | 68 | 82 | 71 | 89 | 2985 |\n",
       "| 3 | 2022-05-30T20:02:39 | COMPASS_Can1 | 79 | 51 | 87 | 71 | 78 | 81 | 2997 |\n",
       "| 4 | 2022-05-30T20:02:49 | COMPASS_Can1 | 80 | 48 | 79 | 74 | 73 | 87 | 2975 |\n",
       "| 5 | 2022-05-30T20:02:59 | COMPASS_Can1 | 53 | 39 | 61 | 66 | 56 | 90 | 2980 |\n",
       "| 6 | 2022-05-30T20:04:02 | COMPASS_Can1 | 59 | 79 | 58 | 41 | 59 | 67 | 2934 |\n",
       "\n"
      ],
      "text/plain": [
       "  Time                ID           PIR1 PIR2 PIR3 PIR4 PIR5 PIR6 LDR \n",
       "1 2022-05-30T20:02:19 COMPASS_Can1 68   83   79   65   61   65   2999\n",
       "2 2022-05-30T20:02:29 COMPASS_Can1 77   44   68   82   71   89   2985\n",
       "3 2022-05-30T20:02:39 COMPASS_Can1 79   51   87   71   78   81   2997\n",
       "4 2022-05-30T20:02:49 COMPASS_Can1 80   48   79   74   73   87   2975\n",
       "5 2022-05-30T20:02:59 COMPASS_Can1 53   39   61   66   56   90   2980\n",
       "6 2022-05-30T20:04:02 COMPASS_Can1 59   79   58   41   59   67   2934"
      ]
     },
     "metadata": {},
     "output_type": "display_data"
    }
   ],
   "source": [
    "Tickling_raw <- read.csv(\"20220530.csv\", header=TRUE)\n",
    "head(Tickling_raw)"
   ]
  },
  {
   "cell_type": "markdown",
   "id": "f1850d91-7fb0-421e-8a4f-d23643ebb5a7",
   "metadata": {
    "jupyter": {
     "outputs_hidden": true
    },
    "tags": []
   },
   "source": [
    "PIR sensors are recording activity data every 10 seconds, with values between 0 (no activity) to 100 (full activity) during a 10 second interval. Each animal is hooked onto a single PIR. PIR1,3,5 are recording data for wild-type C57 mice. PIR2,4,6 are recording data for Dexras1 knockout mice. Six animals were thus recorded at the same time. The 'Time' column is inaccurate because the PIR sensor was developed in Greenwich Mean Time, but was used in Eastern Standard Time, which is 4 hours ahead. Lights in the cabinet are turned on at 9AM EST and off at 9PM. The PIR sensors are connected to an Arduino board that is not connected to a computer. This results in a lag in time of about 100 seconds every 2 weeks. To determine 'real-time' the LDR column can be used, which indicates when lights are on (>0) or off (0). Thus, for the first six animals, we will re-define the time column to account for the time zone difference (14400 seconds) and lag (1139 seconds) in a new dataframe defined as Tickling, as follows: "
   ]
  },
  {
   "cell_type": "code",
   "execution_count": 3,
   "id": "f2a522fa-cc74-47a1-beb7-08b8a3d7847e",
   "metadata": {},
   "outputs": [
    {
     "data": {
      "text/html": [
       "<table class=\"dataframe\">\n",
       "<caption>A data.frame: 6 × 9</caption>\n",
       "<thead>\n",
       "\t<tr><th></th><th scope=col>Time</th><th scope=col>PIR1</th><th scope=col>PIR2</th><th scope=col>PIR3</th><th scope=col>PIR4</th><th scope=col>PIR5</th><th scope=col>PIR6</th><th scope=col>LightDark</th><th scope=col>start_hour</th></tr>\n",
       "\t<tr><th></th><th scope=col>&lt;dttm&gt;</th><th scope=col>&lt;int&gt;</th><th scope=col>&lt;int&gt;</th><th scope=col>&lt;int&gt;</th><th scope=col>&lt;int&gt;</th><th scope=col>&lt;int&gt;</th><th scope=col>&lt;int&gt;</th><th scope=col>&lt;chr&gt;</th><th scope=col>&lt;chr&gt;</th></tr>\n",
       "</thead>\n",
       "<tbody>\n",
       "\t<tr><th scope=row>1</th><td>2022-05-30 15:47:10</td><td>68</td><td>83</td><td>79</td><td>65</td><td>61</td><td>65</td><td>L</td><td>2022-05-30 15:00:00</td></tr>\n",
       "\t<tr><th scope=row>2</th><td>2022-05-30 15:47:20</td><td>77</td><td>44</td><td>68</td><td>82</td><td>71</td><td>89</td><td>L</td><td>2022-05-30 15:00:00</td></tr>\n",
       "\t<tr><th scope=row>3</th><td>2022-05-30 15:47:30</td><td>79</td><td>51</td><td>87</td><td>71</td><td>78</td><td>81</td><td>L</td><td>2022-05-30 15:00:00</td></tr>\n",
       "\t<tr><th scope=row>4</th><td>2022-05-30 15:47:40</td><td>80</td><td>48</td><td>79</td><td>74</td><td>73</td><td>87</td><td>L</td><td>2022-05-30 15:00:00</td></tr>\n",
       "\t<tr><th scope=row>5</th><td>2022-05-30 15:47:50</td><td>53</td><td>39</td><td>61</td><td>66</td><td>56</td><td>90</td><td>L</td><td>2022-05-30 15:00:00</td></tr>\n",
       "\t<tr><th scope=row>6</th><td>2022-05-30 15:48:53</td><td>59</td><td>79</td><td>58</td><td>41</td><td>59</td><td>67</td><td>L</td><td>2022-05-30 15:00:00</td></tr>\n",
       "</tbody>\n",
       "</table>\n"
      ],
      "text/latex": [
       "A data.frame: 6 × 9\n",
       "\\begin{tabular}{r|lllllllll}\n",
       "  & Time & PIR1 & PIR2 & PIR3 & PIR4 & PIR5 & PIR6 & LightDark & start\\_hour\\\\\n",
       "  & <dttm> & <int> & <int> & <int> & <int> & <int> & <int> & <chr> & <chr>\\\\\n",
       "\\hline\n",
       "\t1 & 2022-05-30 15:47:10 & 68 & 83 & 79 & 65 & 61 & 65 & L & 2022-05-30 15:00:00\\\\\n",
       "\t2 & 2022-05-30 15:47:20 & 77 & 44 & 68 & 82 & 71 & 89 & L & 2022-05-30 15:00:00\\\\\n",
       "\t3 & 2022-05-30 15:47:30 & 79 & 51 & 87 & 71 & 78 & 81 & L & 2022-05-30 15:00:00\\\\\n",
       "\t4 & 2022-05-30 15:47:40 & 80 & 48 & 79 & 74 & 73 & 87 & L & 2022-05-30 15:00:00\\\\\n",
       "\t5 & 2022-05-30 15:47:50 & 53 & 39 & 61 & 66 & 56 & 90 & L & 2022-05-30 15:00:00\\\\\n",
       "\t6 & 2022-05-30 15:48:53 & 59 & 79 & 58 & 41 & 59 & 67 & L & 2022-05-30 15:00:00\\\\\n",
       "\\end{tabular}\n"
      ],
      "text/markdown": [
       "\n",
       "A data.frame: 6 × 9\n",
       "\n",
       "| <!--/--> | Time &lt;dttm&gt; | PIR1 &lt;int&gt; | PIR2 &lt;int&gt; | PIR3 &lt;int&gt; | PIR4 &lt;int&gt; | PIR5 &lt;int&gt; | PIR6 &lt;int&gt; | LightDark &lt;chr&gt; | start_hour &lt;chr&gt; |\n",
       "|---|---|---|---|---|---|---|---|---|---|\n",
       "| 1 | 2022-05-30 15:47:10 | 68 | 83 | 79 | 65 | 61 | 65 | L | 2022-05-30 15:00:00 |\n",
       "| 2 | 2022-05-30 15:47:20 | 77 | 44 | 68 | 82 | 71 | 89 | L | 2022-05-30 15:00:00 |\n",
       "| 3 | 2022-05-30 15:47:30 | 79 | 51 | 87 | 71 | 78 | 81 | L | 2022-05-30 15:00:00 |\n",
       "| 4 | 2022-05-30 15:47:40 | 80 | 48 | 79 | 74 | 73 | 87 | L | 2022-05-30 15:00:00 |\n",
       "| 5 | 2022-05-30 15:47:50 | 53 | 39 | 61 | 66 | 56 | 90 | L | 2022-05-30 15:00:00 |\n",
       "| 6 | 2022-05-30 15:48:53 | 59 | 79 | 58 | 41 | 59 | 67 | L | 2022-05-30 15:00:00 |\n",
       "\n"
      ],
      "text/plain": [
       "  Time                PIR1 PIR2 PIR3 PIR4 PIR5 PIR6 LightDark\n",
       "1 2022-05-30 15:47:10 68   83   79   65   61   65   L        \n",
       "2 2022-05-30 15:47:20 77   44   68   82   71   89   L        \n",
       "3 2022-05-30 15:47:30 79   51   87   71   78   81   L        \n",
       "4 2022-05-30 15:47:40 80   48   79   74   73   87   L        \n",
       "5 2022-05-30 15:47:50 53   39   61   66   56   90   L        \n",
       "6 2022-05-30 15:48:53 59   79   58   41   59   67   L        \n",
       "  start_hour         \n",
       "1 2022-05-30 15:00:00\n",
       "2 2022-05-30 15:00:00\n",
       "3 2022-05-30 15:00:00\n",
       "4 2022-05-30 15:00:00\n",
       "5 2022-05-30 15:00:00\n",
       "6 2022-05-30 15:00:00"
      ]
     },
     "metadata": {},
     "output_type": "display_data"
    }
   ],
   "source": [
    "Tickling <- Tickling_raw %>% mutate(Time=(ymd_hms(.$Time)-dseconds(15309)), \n",
    "                                LightDark=ifelse(Tickling_raw$LDR>0,\"L\", \"D\"),\n",
    "                                start_hour=format(as.POSIXct(ymd_hms(.$Time)-dseconds(15309)), format=\"%Y-%m-%d %H:00:00\"))%>%\n",
    "                        \n",
    "  select(-c(\"ID\",\"LDR\"))\n",
    "head(Tickling)"
   ]
  },
  {
   "cell_type": "markdown",
   "id": "bed40e67-83ee-44b0-839b-b34aa8043767",
   "metadata": {},
   "source": [
    "Six animals were recorded at the same time, and these made up one cohort. Animals were placed in cabinets and baseline recorded for 7 days (June 18 9AM to June 25 2022 9AM). Animals were then sleep deprived for 6 hours, and placed back in cabinets for recording until June 29 3PM. There were a total of six cohorts, with all these data in the same 20220530.csv file. For convenience, we will relativize the dates of the remaining five cohorts to the first cohort, by subtracting days, such that baseline recordings begin on June 18 9AM for all these animals, and define these into dataframes Tickling1 through 5. The time the PIR is ahead of real-time can be found in the Mouse_Information.csv file."
   ]
  },
  {
   "cell_type": "code",
   "execution_count": 4,
   "id": "4b7b23d5-de9b-4ad4-9536-a03aa59a6d96",
   "metadata": {},
   "outputs": [],
   "source": [
    "Tickling1 <- Tickling_raw %>% mutate(Time=(ymd_hms(.$Time)-dseconds(15398)-ddays(13)), \n",
    "                                LightDark=ifelse(Tickling_raw$LDR>0,\"L\", \"D\"),\n",
    "                                start_hour=format(as.POSIXct(ymd_hms(.$Time)-dseconds(15398)-ddays(13)), format=\"%Y-%m-%d %H:00:00\"))%>%\n",
    "  \n",
    "  select(-c(\"ID\",\"LDR\"))\n",
    "\n",
    "Tickling2 <- Tickling_raw %>% mutate(Time=(ymd_hms(.$Time)-dseconds(15508)-ddays(27)), \n",
    "                                     LightDark=ifelse(Tickling_raw$LDR>0,\"L\", \"D\"),\n",
    "                                     start_hour=format(as.POSIXct(ymd_hms(.$Time)-dseconds(15508)-ddays(27)), format=\"%Y-%m-%d %H:00:00\"))%>%\n",
    "  \n",
    "  select(-c(\"ID\",\"LDR\"))\n",
    "\n",
    "Tickling3 <- Tickling_raw %>% mutate(Time=(ymd_hms(.$Time)-dseconds(15601)-ddays(40)), \n",
    "                                     LightDark=ifelse(Tickling_raw$LDR>0,\"L\", \"D\"),\n",
    "                                     start_hour=format(as.POSIXct(ymd_hms(.$Time)-dseconds(15601)-ddays(40)), format=\"%Y-%m-%d %H:00:00\"))%>%\n",
    "  \n",
    "  select(-c(\"ID\",\"LDR\"))\n",
    "\n",
    "Tickling4 <- Tickling_raw %>% mutate(Time=(ymd_hms(.$Time)-dseconds(15700)-ddays(53)), \n",
    "                                     LightDark=ifelse(Tickling_raw$LDR>0,\"L\", \"D\"),\n",
    "                                     start_hour=format(as.POSIXct(ymd_hms(.$Time)-dseconds(15700)-ddays(53)), format=\"%Y-%m-%d %H:00:00\"))%>%\n",
    "  \n",
    "  select(-c(\"ID\",\"LDR\"))\n",
    "\n",
    "Tickling5 <- Tickling_raw %>% mutate(Time=(ymd_hms(.$Time)-dseconds(15798)-ddays(67)), \n",
    "                                     LightDark=ifelse(Tickling_raw$LDR>0,\"L\", \"D\"),\n",
    "                                     start_hour=format(as.POSIXct(ymd_hms(.$Time)-dseconds(15798)-ddays(67)), format=\"%Y-%m-%d %H:00:00\"))%>%\n",
    "  \n",
    "  select(-c(\"ID\",\"LDR\"))\n"
   ]
  },
  {
   "cell_type": "markdown",
   "id": "554a76fd-c0fb-4688-bcdd-13f7417d9987",
   "metadata": {},
   "source": [
    "The PIR sensors give an indication of whether the animal is active. One question that can be asked is, is there a difference in the distribution of activity bouts between Dexras1 KO and C57 wild-type mice. To answer this question, we can define a rolling function to indicate whether the animal is in an activity bout, as follows:"
   ]
  },
  {
   "cell_type": "code",
   "execution_count": 5,
   "id": "b52c6690-be9d-43d0-9a25-a9d007154bb8",
   "metadata": {},
   "outputs": [],
   "source": [
    "activity_bout <- function(PIR){\n",
    "    PIRroll <- ifelse(PIR==0, 0,1)\n",
    "    PIRnum <- numeric(length(PIRroll))\n",
    "    for (i in 1:length(PIRroll)){\n",
    "      PIRnum[i] <- ifelse(PIRroll[i]==0, 0, PIRnum[i-1]+1)\n",
    "    }\n",
    "    PIRnum\n",
    "  }"
   ]
  },
  {
   "cell_type": "markdown",
   "id": "1a24fd1e-0fa3-45a6-a35a-841fe978c33b",
   "metadata": {},
   "source": [
    "The length of the bout increases as long as the animal continues to be active:"
   ]
  },
  {
   "cell_type": "code",
   "execution_count": 6,
   "id": "dc811bb4-db7c-4050-9291-20f13677fdf4",
   "metadata": {},
   "outputs": [
    {
     "data": {
      "text/html": [
       "<table class=\"dataframe\">\n",
       "<caption>A matrix: 38 × 2 of type dbl</caption>\n",
       "<thead>\n",
       "\t<tr><th scope=col>PIR1</th><th scope=col>Activity_Bout</th></tr>\n",
       "</thead>\n",
       "<tbody>\n",
       "\t<tr><td>68</td><td>NA</td></tr>\n",
       "\t<tr><td>77</td><td>NA</td></tr>\n",
       "\t<tr><td>79</td><td>NA</td></tr>\n",
       "\t<tr><td>80</td><td>NA</td></tr>\n",
       "\t<tr><td>53</td><td>NA</td></tr>\n",
       "\t<tr><td>59</td><td>NA</td></tr>\n",
       "\t<tr><td>83</td><td>NA</td></tr>\n",
       "\t<tr><td>64</td><td>NA</td></tr>\n",
       "\t<tr><td>71</td><td>NA</td></tr>\n",
       "\t<tr><td>56</td><td>NA</td></tr>\n",
       "\t<tr><td>30</td><td>NA</td></tr>\n",
       "\t<tr><td> 0</td><td> 0</td></tr>\n",
       "\t<tr><td> 0</td><td> 0</td></tr>\n",
       "\t<tr><td> 0</td><td> 0</td></tr>\n",
       "\t<tr><td> 0</td><td> 0</td></tr>\n",
       "\t<tr><td> 0</td><td> 0</td></tr>\n",
       "\t<tr><td> 0</td><td> 0</td></tr>\n",
       "\t<tr><td>62</td><td> 1</td></tr>\n",
       "\t<tr><td>67</td><td> 2</td></tr>\n",
       "\t<tr><td>47</td><td> 3</td></tr>\n",
       "\t<tr><td>13</td><td> 4</td></tr>\n",
       "\t<tr><td>53</td><td> 5</td></tr>\n",
       "\t<tr><td>65</td><td> 6</td></tr>\n",
       "\t<tr><td>32</td><td> 7</td></tr>\n",
       "\t<tr><td>44</td><td> 8</td></tr>\n",
       "\t<tr><td>52</td><td> 9</td></tr>\n",
       "\t<tr><td>55</td><td>10</td></tr>\n",
       "\t<tr><td>55</td><td>11</td></tr>\n",
       "\t<tr><td> 0</td><td> 0</td></tr>\n",
       "\t<tr><td> 0</td><td> 0</td></tr>\n",
       "\t<tr><td> 0</td><td> 0</td></tr>\n",
       "\t<tr><td> 0</td><td> 0</td></tr>\n",
       "\t<tr><td> 8</td><td> 1</td></tr>\n",
       "\t<tr><td> 0</td><td> 0</td></tr>\n",
       "\t<tr><td> 8</td><td> 1</td></tr>\n",
       "\t<tr><td>47</td><td> 2</td></tr>\n",
       "\t<tr><td>14</td><td> 3</td></tr>\n",
       "\t<tr><td> 0</td><td> 0</td></tr>\n",
       "</tbody>\n",
       "</table>\n"
      ],
      "text/latex": [
       "A matrix: 38 × 2 of type dbl\n",
       "\\begin{tabular}{ll}\n",
       " PIR1 & Activity\\_Bout\\\\\n",
       "\\hline\n",
       "\t 68 & NA\\\\\n",
       "\t 77 & NA\\\\\n",
       "\t 79 & NA\\\\\n",
       "\t 80 & NA\\\\\n",
       "\t 53 & NA\\\\\n",
       "\t 59 & NA\\\\\n",
       "\t 83 & NA\\\\\n",
       "\t 64 & NA\\\\\n",
       "\t 71 & NA\\\\\n",
       "\t 56 & NA\\\\\n",
       "\t 30 & NA\\\\\n",
       "\t  0 &  0\\\\\n",
       "\t  0 &  0\\\\\n",
       "\t  0 &  0\\\\\n",
       "\t  0 &  0\\\\\n",
       "\t  0 &  0\\\\\n",
       "\t  0 &  0\\\\\n",
       "\t 62 &  1\\\\\n",
       "\t 67 &  2\\\\\n",
       "\t 47 &  3\\\\\n",
       "\t 13 &  4\\\\\n",
       "\t 53 &  5\\\\\n",
       "\t 65 &  6\\\\\n",
       "\t 32 &  7\\\\\n",
       "\t 44 &  8\\\\\n",
       "\t 52 &  9\\\\\n",
       "\t 55 & 10\\\\\n",
       "\t 55 & 11\\\\\n",
       "\t  0 &  0\\\\\n",
       "\t  0 &  0\\\\\n",
       "\t  0 &  0\\\\\n",
       "\t  0 &  0\\\\\n",
       "\t  8 &  1\\\\\n",
       "\t  0 &  0\\\\\n",
       "\t  8 &  1\\\\\n",
       "\t 47 &  2\\\\\n",
       "\t 14 &  3\\\\\n",
       "\t  0 &  0\\\\\n",
       "\\end{tabular}\n"
      ],
      "text/markdown": [
       "\n",
       "A matrix: 38 × 2 of type dbl\n",
       "\n",
       "| PIR1 | Activity_Bout |\n",
       "|---|---|\n",
       "| 68 | NA |\n",
       "| 77 | NA |\n",
       "| 79 | NA |\n",
       "| 80 | NA |\n",
       "| 53 | NA |\n",
       "| 59 | NA |\n",
       "| 83 | NA |\n",
       "| 64 | NA |\n",
       "| 71 | NA |\n",
       "| 56 | NA |\n",
       "| 30 | NA |\n",
       "|  0 |  0 |\n",
       "|  0 |  0 |\n",
       "|  0 |  0 |\n",
       "|  0 |  0 |\n",
       "|  0 |  0 |\n",
       "|  0 |  0 |\n",
       "| 62 |  1 |\n",
       "| 67 |  2 |\n",
       "| 47 |  3 |\n",
       "| 13 |  4 |\n",
       "| 53 |  5 |\n",
       "| 65 |  6 |\n",
       "| 32 |  7 |\n",
       "| 44 |  8 |\n",
       "| 52 |  9 |\n",
       "| 55 | 10 |\n",
       "| 55 | 11 |\n",
       "|  0 |  0 |\n",
       "|  0 |  0 |\n",
       "|  0 |  0 |\n",
       "|  0 |  0 |\n",
       "|  8 |  1 |\n",
       "|  0 |  0 |\n",
       "|  8 |  1 |\n",
       "| 47 |  2 |\n",
       "| 14 |  3 |\n",
       "|  0 |  0 |\n",
       "\n"
      ],
      "text/plain": [
       "      PIR1 Activity_Bout\n",
       " [1,] 68   NA           \n",
       " [2,] 77   NA           \n",
       " [3,] 79   NA           \n",
       " [4,] 80   NA           \n",
       " [5,] 53   NA           \n",
       " [6,] 59   NA           \n",
       " [7,] 83   NA           \n",
       " [8,] 64   NA           \n",
       " [9,] 71   NA           \n",
       "[10,] 56   NA           \n",
       "[11,] 30   NA           \n",
       "[12,]  0    0           \n",
       "[13,]  0    0           \n",
       "[14,]  0    0           \n",
       "[15,]  0    0           \n",
       "[16,]  0    0           \n",
       "[17,]  0    0           \n",
       "[18,] 62    1           \n",
       "[19,] 67    2           \n",
       "[20,] 47    3           \n",
       "[21,] 13    4           \n",
       "[22,] 53    5           \n",
       "[23,] 65    6           \n",
       "[24,] 32    7           \n",
       "[25,] 44    8           \n",
       "[26,] 52    9           \n",
       "[27,] 55   10           \n",
       "[28,] 55   11           \n",
       "[29,]  0    0           \n",
       "[30,]  0    0           \n",
       "[31,]  0    0           \n",
       "[32,]  0    0           \n",
       "[33,]  8    1           \n",
       "[34,]  0    0           \n",
       "[35,]  8    1           \n",
       "[36,] 47    2           \n",
       "[37,] 14    3           \n",
       "[38,]  0    0           "
      ]
     },
     "metadata": {},
     "output_type": "display_data"
    }
   ],
   "source": [
    "head(cbind(PIR1=Tickling$PIR1,Activity_Bout=activity_bout(Tickling$PIR1)),38)"
   ]
  },
  {
   "cell_type": "markdown",
   "id": "9e56e3fb-30c6-4059-a0b2-0afedf0f4384",
   "metadata": {},
   "source": [
    "We can determine how long the bout lasted by defining a function that extracts a non-zero number that is followed by a 0:"
   ]
  },
  {
   "cell_type": "code",
   "execution_count": 7,
   "id": "29cd78fe-a807-4cae-a59c-ad5aee938dcc",
   "metadata": {},
   "outputs": [],
   "source": [
    "activity_bout_duration <- function (Data, PIR){\n",
    "    sleep_bout_duration <- activity_bout(PIR)\n",
    "    PIRMax <- numeric(length(sleep_bout_duration))\n",
    "    for (i in 1:length(sleep_bout_duration)){\n",
    "      PIRMax[i] <- ifelse(!sleep_bout_duration[i]==0 & \n",
    "                            sleep_bout_duration[i+1]==0, sleep_bout_duration[i],0)\n",
    "    }\n",
    "    \n",
    "\n",
    "    PIRMax <- PIRMax[! PIRMax %in% c(0, NA)]\n",
    "    \n",
    "    PIRMax\n",
    "  }"
   ]
  },
  {
   "cell_type": "markdown",
   "id": "ff991acc-06d7-4dd5-bc05-947671bc1f0a",
   "metadata": {},
   "source": [
    "Thus, for PIR1, the first activity_bout is 11, followed by 1 followed by 3:"
   ]
  },
  {
   "cell_type": "code",
   "execution_count": 8,
   "id": "7f3d561c-9eee-4cc7-9929-babbc07bae12",
   "metadata": {},
   "outputs": [
    {
     "data": {
      "text/html": [
       "<style>\n",
       ".list-inline {list-style: none; margin:0; padding: 0}\n",
       ".list-inline>li {display: inline-block}\n",
       ".list-inline>li:not(:last-child)::after {content: \"\\00b7\"; padding: 0 .5ex}\n",
       "</style>\n",
       "<ol class=list-inline><li>11</li><li>1</li><li>3</li><li>2</li><li>8</li><li>1</li><li>9</li><li>6</li><li>6</li><li>1</li><li>4</li><li>15</li><li>27</li><li>7</li><li>2</li></ol>\n"
      ],
      "text/latex": [
       "\\begin{enumerate*}\n",
       "\\item 11\n",
       "\\item 1\n",
       "\\item 3\n",
       "\\item 2\n",
       "\\item 8\n",
       "\\item 1\n",
       "\\item 9\n",
       "\\item 6\n",
       "\\item 6\n",
       "\\item 1\n",
       "\\item 4\n",
       "\\item 15\n",
       "\\item 27\n",
       "\\item 7\n",
       "\\item 2\n",
       "\\end{enumerate*}\n"
      ],
      "text/markdown": [
       "1. 11\n",
       "2. 1\n",
       "3. 3\n",
       "4. 2\n",
       "5. 8\n",
       "6. 1\n",
       "7. 9\n",
       "8. 6\n",
       "9. 6\n",
       "10. 1\n",
       "11. 4\n",
       "12. 15\n",
       "13. 27\n",
       "14. 7\n",
       "15. 2\n",
       "\n",
       "\n"
      ],
      "text/plain": [
       " [1] 11  1  3  2  8  1  9  6  6  1  4 15 27  7  2"
      ]
     },
     "metadata": {},
     "output_type": "display_data"
    }
   ],
   "source": [
    "head(activity_bout_duration(Tickling,Tickling$PIR1),15)"
   ]
  },
  {
   "cell_type": "markdown",
   "id": "2ff76fcd-6942-436d-be5d-6e23b26685ab",
   "metadata": {},
   "source": [
    "We will redefine activity_bout_duration to only include the 7 baseline dates that are relavent to this study (June 18 to June 25):"
   ]
  },
  {
   "cell_type": "code",
   "execution_count": 9,
   "id": "8bd90431-2d1f-4b1e-9e26-9ba9a4700f4f",
   "metadata": {},
   "outputs": [],
   "source": [
    "activity_bout_duration <- function (Data, PIR){\n",
    "    sleep_bout_duration <- activity_bout(PIR)\n",
    "    PIRMax <- numeric(length(sleep_bout_duration))\n",
    "    for (i in 1:length(sleep_bout_duration)){\n",
    "      PIRMax[i] <- ifelse(!sleep_bout_duration[i]==0 & \n",
    "                            sleep_bout_duration[i+1]==0, sleep_bout_duration[i],0)\n",
    "    }\n",
    "    \n",
    "    PIRMax <- PIRMax[ymd_hms(Data[,length(Data)])>=ymd_hms(\"2022-06-18T09:00:00\") & \n",
    "             ymd_hms(Data[,length(Data)])<ymd_hms(\"2022-06-25T09:00:00\")]\n",
    "    PIRMax <- PIRMax[! PIRMax %in% c(0, NA)]\n",
    "    \n",
    "    PIRMax\n",
    "  }"
   ]
  },
  {
   "cell_type": "code",
   "execution_count": 10,
   "id": "6d7e544a-e325-4081-b70c-564058c2f184",
   "metadata": {},
   "outputs": [
    {
     "data": {
      "text/html": [
       "<style>\n",
       ".list-inline {list-style: none; margin:0; padding: 0}\n",
       ".list-inline>li {display: inline-block}\n",
       ".list-inline>li:not(:last-child)::after {content: \"\\00b7\"; padding: 0 .5ex}\n",
       "</style>\n",
       "<ol class=list-inline><li>57</li><li>6</li><li>4</li><li>50</li><li>3</li><li>25</li><li>51</li><li>3</li><li>1</li><li>4</li><li>17</li><li>12</li><li>24</li><li>1</li><li>14</li></ol>\n"
      ],
      "text/latex": [
       "\\begin{enumerate*}\n",
       "\\item 57\n",
       "\\item 6\n",
       "\\item 4\n",
       "\\item 50\n",
       "\\item 3\n",
       "\\item 25\n",
       "\\item 51\n",
       "\\item 3\n",
       "\\item 1\n",
       "\\item 4\n",
       "\\item 17\n",
       "\\item 12\n",
       "\\item 24\n",
       "\\item 1\n",
       "\\item 14\n",
       "\\end{enumerate*}\n"
      ],
      "text/markdown": [
       "1. 57\n",
       "2. 6\n",
       "3. 4\n",
       "4. 50\n",
       "5. 3\n",
       "6. 25\n",
       "7. 51\n",
       "8. 3\n",
       "9. 1\n",
       "10. 4\n",
       "11. 17\n",
       "12. 12\n",
       "13. 24\n",
       "14. 1\n",
       "15. 14\n",
       "\n",
       "\n"
      ],
      "text/plain": [
       " [1] 57  6  4 50  3 25 51  3  1  4 17 12 24  1 14"
      ]
     },
     "metadata": {},
     "output_type": "display_data"
    }
   ],
   "source": [
    "head(activity_bout_duration(Tickling,Tickling$PIR1),15)"
   ]
  },
  {
   "cell_type": "markdown",
   "id": "deff9956-996f-48a8-b2d9-7b048f810947",
   "metadata": {},
   "source": [
    "After filtering, the first bout lasts for 57 10-second intervals, followed by 6, followed by 4."
   ]
  },
  {
   "cell_type": "markdown",
   "id": "1a5b79e1-89e7-47ce-b3b6-6c42b20c445c",
   "metadata": {},
   "source": [
    "We will divide these bouts by 6 for time in minutes the bout lasted. We will define a function to count how many bouts were less than a minute, between 1 and 10 minutes, between 10 and 60 minutes, and above 60 minutes, and we will average this over the 7 days using the function Activity_Bout_Distribution:"
   ]
  },
  {
   "cell_type": "code",
   "execution_count": 11,
   "id": "b262360b-1e19-4c30-8ca8-fac27220ee41",
   "metadata": {},
   "outputs": [],
   "source": [
    "Activity_Bout_Distribution <- function(Data,PIR){\n",
    "    PIR <- activity_bout_duration(Data,PIR)\n",
    "    Dist<-summary(cut(PIR/6, \n",
    "                      breaks=c(0,1,10,60,Inf), \n",
    "                      include.lowest=TRUE, \n",
    "                      right=FALSE, \n",
    "                      labels=c(\"<1\",\"1-10\", \"10-60\",\">60\")))/7\n",
    "    Dist\n",
    "  }"
   ]
  },
  {
   "cell_type": "code",
   "execution_count": 12,
   "id": "38e6f284-eaa1-4b41-8260-a60a0b57ecef",
   "metadata": {},
   "outputs": [
    {
     "data": {
      "text/html": [
       "<style>\n",
       ".dl-inline {width: auto; margin:0; padding: 0}\n",
       ".dl-inline>dt, .dl-inline>dd {float: none; width: auto; display: inline-block}\n",
       ".dl-inline>dt::after {content: \":\\0020\"; padding-right: .5ex}\n",
       ".dl-inline>dt:not(:first-of-type) {padding-left: .5ex}\n",
       "</style><dl class=dl-inline><dt>&lt;1</dt><dd>119</dd><dt>1-10</dt><dd>103.857142857143</dd><dt>10-60</dt><dd>10.4285714285714</dd><dt>&gt;60</dt><dd>0</dd></dl>\n"
      ],
      "text/latex": [
       "\\begin{description*}\n",
       "\\item[<1] 119\n",
       "\\item[1-10] 103.857142857143\n",
       "\\item[10-60] 10.4285714285714\n",
       "\\item[>60] 0\n",
       "\\end{description*}\n"
      ],
      "text/markdown": [
       "&amp;lt;1\n",
       ":   1191-10\n",
       ":   103.85714285714310-60\n",
       ":   10.4285714285714&amp;gt;60\n",
       ":   0\n",
       "\n"
      ],
      "text/plain": [
       "       <1      1-10     10-60       >60 \n",
       "119.00000 103.85714  10.42857   0.00000 "
      ]
     },
     "metadata": {},
     "output_type": "display_data"
    }
   ],
   "source": [
    "Activity_Bout_Distribution(Tickling, Tickling$PIR1)"
   ]
  },
  {
   "cell_type": "markdown",
   "id": "2953d9e4-f2be-416d-8e34-a949685f9271",
   "metadata": {},
   "source": [
    "So, for PIR1, there were 119 bouts that lasted less than 1 minutes, 103.8 bouts that lasted between 1 and 10 minutes, 10.4 bouts that lasted 10 to 60 minutes, and 0 bouts that lasted greater than 60 minutes. We can run this code for all 36 mice, and place them in a dataframe:"
   ]
  },
  {
   "cell_type": "code",
   "execution_count": 13,
   "id": "44a22c0c-0ba8-438d-8b40-8a0dd81fcf4e",
   "metadata": {},
   "outputs": [
    {
     "data": {
      "text/html": [
       "<table class=\"dataframe\">\n",
       "<caption>A tibble: 6 × 6</caption>\n",
       "<thead>\n",
       "\t<tr><th scope=col>Bout_Length_min</th><th scope=col>Animal_Type</th><th scope=col>Sex</th><th scope=col>Number</th><th scope=col>No_of_Activity_Bouts</th><th scope=col>Animal_ID</th></tr>\n",
       "\t<tr><th scope=col>&lt;fct&gt;</th><th scope=col>&lt;chr&gt;</th><th scope=col>&lt;chr&gt;</th><th scope=col>&lt;chr&gt;</th><th scope=col>&lt;dbl&gt;</th><th scope=col>&lt;chr&gt;</th></tr>\n",
       "</thead>\n",
       "<tbody>\n",
       "\t<tr><td>&lt;1</td><td><span style=white-space:pre-wrap>C57      </span></td><td>Male</td><td>1</td><td>119.0000</td><td><span style=white-space:pre-wrap>C57_Male_1      </span></td></tr>\n",
       "\t<tr><td>&lt;1</td><td>Dexras1KO</td><td>Male</td><td>1</td><td>259.0000</td><td>Dexras1KO_Male_1</td></tr>\n",
       "\t<tr><td>&lt;1</td><td><span style=white-space:pre-wrap>C57      </span></td><td>Male</td><td>2</td><td>210.5714</td><td><span style=white-space:pre-wrap>C57_Male_2      </span></td></tr>\n",
       "\t<tr><td>&lt;1</td><td>Dexras1KO</td><td>Male</td><td>2</td><td>273.1429</td><td>Dexras1KO_Male_2</td></tr>\n",
       "\t<tr><td>&lt;1</td><td><span style=white-space:pre-wrap>C57      </span></td><td>Male</td><td>3</td><td>289.0000</td><td><span style=white-space:pre-wrap>C57_Male_3      </span></td></tr>\n",
       "\t<tr><td>&lt;1</td><td>Dexras1KO</td><td>Male</td><td>3</td><td>266.2857</td><td>Dexras1KO_Male_3</td></tr>\n",
       "</tbody>\n",
       "</table>\n"
      ],
      "text/latex": [
       "A tibble: 6 × 6\n",
       "\\begin{tabular}{llllll}\n",
       " Bout\\_Length\\_min & Animal\\_Type & Sex & Number & No\\_of\\_Activity\\_Bouts & Animal\\_ID\\\\\n",
       " <fct> & <chr> & <chr> & <chr> & <dbl> & <chr>\\\\\n",
       "\\hline\n",
       "\t <1 & C57       & Male & 1 & 119.0000 & C57\\_Male\\_1      \\\\\n",
       "\t <1 & Dexras1KO & Male & 1 & 259.0000 & Dexras1KO\\_Male\\_1\\\\\n",
       "\t <1 & C57       & Male & 2 & 210.5714 & C57\\_Male\\_2      \\\\\n",
       "\t <1 & Dexras1KO & Male & 2 & 273.1429 & Dexras1KO\\_Male\\_2\\\\\n",
       "\t <1 & C57       & Male & 3 & 289.0000 & C57\\_Male\\_3      \\\\\n",
       "\t <1 & Dexras1KO & Male & 3 & 266.2857 & Dexras1KO\\_Male\\_3\\\\\n",
       "\\end{tabular}\n"
      ],
      "text/markdown": [
       "\n",
       "A tibble: 6 × 6\n",
       "\n",
       "| Bout_Length_min &lt;fct&gt; | Animal_Type &lt;chr&gt; | Sex &lt;chr&gt; | Number &lt;chr&gt; | No_of_Activity_Bouts &lt;dbl&gt; | Animal_ID &lt;chr&gt; |\n",
       "|---|---|---|---|---|---|\n",
       "| &lt;1 | C57       | Male | 1 | 119.0000 | C57_Male_1       |\n",
       "| &lt;1 | Dexras1KO | Male | 1 | 259.0000 | Dexras1KO_Male_1 |\n",
       "| &lt;1 | C57       | Male | 2 | 210.5714 | C57_Male_2       |\n",
       "| &lt;1 | Dexras1KO | Male | 2 | 273.1429 | Dexras1KO_Male_2 |\n",
       "| &lt;1 | C57       | Male | 3 | 289.0000 | C57_Male_3       |\n",
       "| &lt;1 | Dexras1KO | Male | 3 | 266.2857 | Dexras1KO_Male_3 |\n",
       "\n"
      ],
      "text/plain": [
       "  Bout_Length_min Animal_Type Sex  Number No_of_Activity_Bouts Animal_ID       \n",
       "1 <1              C57         Male 1      119.0000             C57_Male_1      \n",
       "2 <1              Dexras1KO   Male 1      259.0000             Dexras1KO_Male_1\n",
       "3 <1              C57         Male 2      210.5714             C57_Male_2      \n",
       "4 <1              Dexras1KO   Male 2      273.1429             Dexras1KO_Male_2\n",
       "5 <1              C57         Male 3      289.0000             C57_Male_3      \n",
       "6 <1              Dexras1KO   Male 3      266.2857             Dexras1KO_Male_3"
      ]
     },
     "metadata": {},
     "output_type": "display_data"
    }
   ],
   "source": [
    "Activity_Distribution <- as.data.frame(cbind(Bout_Length_min=c(\"<1\",\"1-10\",\"10-60\",\">60\"),\n",
    "        C57_Male_1=Activity_Bout_Distribution(Tickling, Tickling$PIR1),\n",
    "        Dexras1KO_Male_1=Activity_Bout_Distribution(Tickling, Tickling$PIR2),\n",
    "        C57_Male_2=Activity_Bout_Distribution(Tickling, Tickling$PIR3),\n",
    "        Dexras1KO_Male_2=Activity_Bout_Distribution(Tickling, Tickling$PIR4),\n",
    "        C57_Male_3=Activity_Bout_Distribution(Tickling, Tickling$PIR5),\n",
    "        Dexras1KO_Male_3=Activity_Bout_Distribution(Tickling, Tickling$PIR6),\n",
    "        C57_Male_4=Activity_Bout_Distribution(Tickling1, Tickling1$PIR1),\n",
    "        Dexras1KO_Male_4=Activity_Bout_Distribution(Tickling1, Tickling1$PIR2),\n",
    "        C57_Male_5=Activity_Bout_Distribution(Tickling1, Tickling1$PIR3),\n",
    "        Dexras1KO_Male_5=Activity_Bout_Distribution(Tickling1, Tickling1$PIR4),\n",
    "        C57_Male_6=Activity_Bout_Distribution(Tickling1, Tickling1$PIR5),\n",
    "        Dexras1KO_Male_6=Activity_Bout_Distribution(Tickling1, Tickling1$PIR6),\n",
    "        C57_Female_1=Activity_Bout_Distribution(Tickling2, Tickling2$PIR1),\n",
    "        Dexras1KO_Female_1=Activity_Bout_Distribution(Tickling2, Tickling2$PIR2),\n",
    "        C57_Female_2=Activity_Bout_Distribution(Tickling2, Tickling2$PIR3),\n",
    "        Dexras1KO_Female_2=Activity_Bout_Distribution(Tickling2, Tickling2$PIR4),\n",
    "        C57_Female_3=Activity_Bout_Distribution(Tickling2, Tickling2$PIR5),\n",
    "        Dexras1KO_Female_3=Activity_Bout_Distribution(Tickling2, Tickling2$PIR6),\n",
    "        C57_Female_4=Activity_Bout_Distribution(Tickling3, Tickling3$PIR1),\n",
    "        Dexras1KO_Female_4=Activity_Bout_Distribution(Tickling3, Tickling3$PIR2),\n",
    "        C57_Female_5=Activity_Bout_Distribution(Tickling3, Tickling3$PIR3),\n",
    "        Dexras1KO_Female_5=Activity_Bout_Distribution(Tickling3, Tickling3$PIR4),\n",
    "        C57_Female_6=Activity_Bout_Distribution(Tickling3, Tickling3$PIR5),\n",
    "        Dexras1KO_Female_6=Activity_Bout_Distribution(Tickling3, Tickling3$PIR6),\n",
    "        C57_Male_7=Activity_Bout_Distribution(Tickling4, Tickling4$PIR1),\n",
    "        Dexras1KO_Male_7=Activity_Bout_Distribution(Tickling4, Tickling4$PIR2),\n",
    "        C57_Male_8=Activity_Bout_Distribution(Tickling4, Tickling4$PIR3),\n",
    "        Dexras1KO_Male_8=Activity_Bout_Distribution(Tickling4, Tickling4$PIR4),\n",
    "        C57_Male_9=Activity_Bout_Distribution(Tickling4, Tickling4$PIR5),\n",
    "        Dexras1KO_Male_9=Activity_Bout_Distribution(Tickling4, Tickling4$PIR6),\n",
    "        C57_Female_7=Activity_Bout_Distribution(Tickling5, Tickling5$PIR1),\n",
    "        Dexras1KO_Female_7=Activity_Bout_Distribution(Tickling5, Tickling5$PIR2),\n",
    "        C57_Female_8=Activity_Bout_Distribution(Tickling5, Tickling5$PIR3),\n",
    "        Dexras1KO_Female_8=Activity_Bout_Distribution(Tickling5, Tickling5$PIR4),\n",
    "        C57_Female_9=Activity_Bout_Distribution(Tickling5, Tickling5$PIR5),\n",
    "        Dexras1KO_Female_9=Activity_Bout_Distribution(Tickling5, Tickling5$PIR6)))%>%\n",
    "    pivot_longer(cols=c(2:37), names_to=\"Animal\", values_to=\"No_of_Activity_Bouts\")%>%\n",
    "    mutate(Animal_ID=Animal, No_of_Activity_Bouts=as.numeric(No_of_Activity_Bouts), \n",
    "           Bout_Length_min=fct_relevel(Bout_Length_min, c(\"<1\",\"1-10\", \"10-60\",\">60\")))%>%\n",
    "    separate(col=\"Animal\", into=c(\"Animal_Type\", \"Sex\", \"Number\"), sep = \"_\")\n",
    "head(Activity_Distribution)"
   ]
  },
  {
   "cell_type": "markdown",
   "id": "824c3537-4ba6-400b-8bcf-ec2c3b7c0d98",
   "metadata": {
    "jp-MarkdownHeadingCollapsed": true,
    "tags": []
   },
   "source": [
    "## <center> Activity Bout Distributions Bar Graphs"
   ]
  },
  {
   "cell_type": "markdown",
   "id": "a87c3cd5-d9b9-4b09-9fe4-b8c51c7a7f7a",
   "metadata": {},
   "source": [
    "We will produce a graphing function to make plotting the activity bout distributions easier for males, females and both sexes together:"
   ]
  },
  {
   "cell_type": "code",
   "execution_count": 14,
   "id": "dfbe43dc-0ced-4737-a307-c0ba58022336",
   "metadata": {},
   "outputs": [],
   "source": [
    "Activity_Distribution_Figure <- function(Data, label1){\n",
    "  Data%>%\n",
    "    group_by(Animal_Type, Bout_Length_min)%>%\n",
    "    summarise(mean=mean(No_of_Activity_Bouts),\n",
    "              sd=std.error(No_of_Activity_Bouts))%>%\n",
    "    ggplot(aes(x=Bout_Length_min, y=mean, fill=Animal_Type))+\n",
    "    geom_bar(stat=\"identity\",position = position_dodge(width=.9), alpha = 0.75, color=\"black\")+\n",
    "    geom_errorbar(aes(ymax=mean+sd, ymin=mean-sd, color=Animal_Type), width=.3,position = position_dodge(width=.9), alpha = 0.75, color=\"black\")+\n",
    "    scale_fill_manual(values=c(\"black\", \"red\"), labels=label1)+\n",
    "    scale_y_continuous(breaks=c(0, 50,100,150,200,250,300),expand=expansion(mult=c(0,0.01)),limits=c(0,300))+\n",
    "    labs(x=\"Bout Length (min)\", y=\"No. of Activity Bouts\")+\n",
    "    theme_bw()+\n",
    "    theme(legend.text=element_text(size=13),axis.text=element_text(size=26, color=\"black\", face=\"bold\"),\n",
    "          axis.text.x = element_text(angle = 0, vjust = 0.5, hjust=0.5),\n",
    "          axis.title.y=element_text(vjust=+1.8),\n",
    "          axis.title=element_text(size=26, face=\"bold\"),\n",
    "          axis.ticks= element_line(size=1),\n",
    "          axis.line = element_line(size=1),\n",
    "          axis.title.x=element_text(vjust=-0.5),\n",
    "          panel.border = element_blank(),\n",
    "          panel.grid.major = element_blank(), panel.grid.minor = element_blank(),\n",
    "          legend.title=element_blank())\n",
    "  }"
   ]
  },
  {
   "cell_type": "code",
   "execution_count": 15,
   "id": "3e0d81f4-2ede-4b69-b70f-5d2fca8e2f80",
   "metadata": {},
   "outputs": [
    {
     "name": "stderr",
     "output_type": "stream",
     "text": [
      "Warning message:\n",
      "\"Converting \"Animal_ID\" to factor for ANOVA.\"\n",
      "Warning message:\n",
      "\"Converting \"Animal_Type\" to factor for ANOVA.\"\n"
     ]
    },
    {
     "data": {
      "text/html": [
       "<dl>\n",
       "\t<dt>$ANOVA</dt>\n",
       "\t\t<dd><table class=\"dataframe\">\n",
       "<caption>A data.frame: 3 × 7</caption>\n",
       "<thead>\n",
       "\t<tr><th></th><th scope=col>Effect</th><th scope=col>DFn</th><th scope=col>DFd</th><th scope=col>F</th><th scope=col>p</th><th scope=col>p&lt;.05</th><th scope=col>ges</th></tr>\n",
       "\t<tr><th></th><th scope=col>&lt;chr&gt;</th><th scope=col>&lt;dbl&gt;</th><th scope=col>&lt;dbl&gt;</th><th scope=col>&lt;dbl&gt;</th><th scope=col>&lt;dbl&gt;</th><th scope=col>&lt;chr&gt;</th><th scope=col>&lt;dbl&gt;</th></tr>\n",
       "</thead>\n",
       "<tbody>\n",
       "\t<tr><th scope=row>2</th><td>Animal_Type                </td><td>1</td><td> 34</td><td>  6.333072</td><td>1.673429e-02</td><td>*</td><td>0.04774291</td></tr>\n",
       "\t<tr><th scope=row>3</th><td>Bout_Length_min            </td><td>3</td><td>102</td><td>307.121180</td><td>6.518636e-51</td><td>*</td><td>0.86844895</td></tr>\n",
       "\t<tr><th scope=row>4</th><td>Animal_Type:Bout_Length_min</td><td>3</td><td>102</td><td>  4.534374</td><td>5.016510e-03</td><td>*</td><td>0.08881086</td></tr>\n",
       "</tbody>\n",
       "</table>\n",
       "</dd>\n",
       "\t<dt>$`Mauchly's Test for Sphericity`</dt>\n",
       "\t\t<dd><table class=\"dataframe\">\n",
       "<caption>A data.frame: 2 × 4</caption>\n",
       "<thead>\n",
       "\t<tr><th></th><th scope=col>Effect</th><th scope=col>W</th><th scope=col>p</th><th scope=col>p&lt;.05</th></tr>\n",
       "\t<tr><th></th><th scope=col>&lt;chr&gt;</th><th scope=col>&lt;dbl&gt;</th><th scope=col>&lt;dbl&gt;</th><th scope=col>&lt;chr&gt;</th></tr>\n",
       "</thead>\n",
       "<tbody>\n",
       "\t<tr><th scope=row>3</th><td>Bout_Length_min            </td><td>0.0009572597</td><td>6.202873e-47</td><td>*</td></tr>\n",
       "\t<tr><th scope=row>4</th><td>Animal_Type:Bout_Length_min</td><td>0.0009572597</td><td>6.202873e-47</td><td>*</td></tr>\n",
       "</tbody>\n",
       "</table>\n",
       "</dd>\n",
       "\t<dt>$`Sphericity Corrections`</dt>\n",
       "\t\t<dd><table class=\"dataframe\">\n",
       "<caption>A data.frame: 2 × 7</caption>\n",
       "<thead>\n",
       "\t<tr><th></th><th scope=col>Effect</th><th scope=col>GGe</th><th scope=col>p[GG]</th><th scope=col>p[GG]&lt;.05</th><th scope=col>HFe</th><th scope=col>p[HF]</th><th scope=col>p[HF]&lt;.05</th></tr>\n",
       "\t<tr><th></th><th scope=col>&lt;chr&gt;</th><th scope=col>&lt;dbl&gt;</th><th scope=col>&lt;dbl&gt;</th><th scope=col>&lt;chr&gt;</th><th scope=col>&lt;dbl&gt;</th><th scope=col>&lt;dbl&gt;</th><th scope=col>&lt;chr&gt;</th></tr>\n",
       "</thead>\n",
       "<tbody>\n",
       "\t<tr><th scope=row>3</th><td>Bout_Length_min            </td><td>0.3728242</td><td>1.620529e-20</td><td>*</td><td>0.3765695</td><td>1.065584e-20</td><td>*</td></tr>\n",
       "\t<tr><th scope=row>4</th><td>Animal_Type:Bout_Length_min</td><td>0.3728242</td><td>3.583251e-02</td><td>*</td><td>0.3765695</td><td>3.541346e-02</td><td>*</td></tr>\n",
       "</tbody>\n",
       "</table>\n",
       "</dd>\n",
       "</dl>\n"
      ],
      "text/latex": [
       "\\begin{description}\n",
       "\\item[\\$ANOVA] A data.frame: 3 × 7\n",
       "\\begin{tabular}{r|lllllll}\n",
       "  & Effect & DFn & DFd & F & p & p<.05 & ges\\\\\n",
       "  & <chr> & <dbl> & <dbl> & <dbl> & <dbl> & <chr> & <dbl>\\\\\n",
       "\\hline\n",
       "\t2 & Animal\\_Type                 & 1 &  34 &   6.333072 & 1.673429e-02 & * & 0.04774291\\\\\n",
       "\t3 & Bout\\_Length\\_min             & 3 & 102 & 307.121180 & 6.518636e-51 & * & 0.86844895\\\\\n",
       "\t4 & Animal\\_Type:Bout\\_Length\\_min & 3 & 102 &   4.534374 & 5.016510e-03 & * & 0.08881086\\\\\n",
       "\\end{tabular}\n",
       "\n",
       "\\item[\\$`Mauchly's Test for Sphericity`] A data.frame: 2 × 4\n",
       "\\begin{tabular}{r|llll}\n",
       "  & Effect & W & p & p<.05\\\\\n",
       "  & <chr> & <dbl> & <dbl> & <chr>\\\\\n",
       "\\hline\n",
       "\t3 & Bout\\_Length\\_min             & 0.0009572597 & 6.202873e-47 & *\\\\\n",
       "\t4 & Animal\\_Type:Bout\\_Length\\_min & 0.0009572597 & 6.202873e-47 & *\\\\\n",
       "\\end{tabular}\n",
       "\n",
       "\\item[\\$`Sphericity Corrections`] A data.frame: 2 × 7\n",
       "\\begin{tabular}{r|lllllll}\n",
       "  & Effect & GGe & p{[}GG{]} & p{[}GG{]}<.05 & HFe & p{[}HF{]} & p{[}HF{]}<.05\\\\\n",
       "  & <chr> & <dbl> & <dbl> & <chr> & <dbl> & <dbl> & <chr>\\\\\n",
       "\\hline\n",
       "\t3 & Bout\\_Length\\_min             & 0.3728242 & 1.620529e-20 & * & 0.3765695 & 1.065584e-20 & *\\\\\n",
       "\t4 & Animal\\_Type:Bout\\_Length\\_min & 0.3728242 & 3.583251e-02 & * & 0.3765695 & 3.541346e-02 & *\\\\\n",
       "\\end{tabular}\n",
       "\n",
       "\\end{description}\n"
      ],
      "text/markdown": [
       "$ANOVA\n",
       ":   \n",
       "A data.frame: 3 × 7\n",
       "\n",
       "| <!--/--> | Effect &lt;chr&gt; | DFn &lt;dbl&gt; | DFd &lt;dbl&gt; | F &lt;dbl&gt; | p &lt;dbl&gt; | p&lt;.05 &lt;chr&gt; | ges &lt;dbl&gt; |\n",
       "|---|---|---|---|---|---|---|---|\n",
       "| 2 | Animal_Type                 | 1 |  34 |   6.333072 | 1.673429e-02 | * | 0.04774291 |\n",
       "| 3 | Bout_Length_min             | 3 | 102 | 307.121180 | 6.518636e-51 | * | 0.86844895 |\n",
       "| 4 | Animal_Type:Bout_Length_min | 3 | 102 |   4.534374 | 5.016510e-03 | * | 0.08881086 |\n",
       "\n",
       "\n",
       "$`Mauchly's Test for Sphericity`\n",
       ":   \n",
       "A data.frame: 2 × 4\n",
       "\n",
       "| <!--/--> | Effect &lt;chr&gt; | W &lt;dbl&gt; | p &lt;dbl&gt; | p&lt;.05 &lt;chr&gt; |\n",
       "|---|---|---|---|---|\n",
       "| 3 | Bout_Length_min             | 0.0009572597 | 6.202873e-47 | * |\n",
       "| 4 | Animal_Type:Bout_Length_min | 0.0009572597 | 6.202873e-47 | * |\n",
       "\n",
       "\n",
       "$`Sphericity Corrections`\n",
       ":   \n",
       "A data.frame: 2 × 7\n",
       "\n",
       "| <!--/--> | Effect &lt;chr&gt; | GGe &lt;dbl&gt; | p[GG] &lt;dbl&gt; | p[GG]&lt;.05 &lt;chr&gt; | HFe &lt;dbl&gt; | p[HF] &lt;dbl&gt; | p[HF]&lt;.05 &lt;chr&gt; |\n",
       "|---|---|---|---|---|---|---|---|\n",
       "| 3 | Bout_Length_min             | 0.3728242 | 1.620529e-20 | * | 0.3765695 | 1.065584e-20 | * |\n",
       "| 4 | Animal_Type:Bout_Length_min | 0.3728242 | 3.583251e-02 | * | 0.3765695 | 3.541346e-02 | * |\n",
       "\n",
       "\n",
       "\n",
       "\n"
      ],
      "text/plain": [
       "$ANOVA\n",
       "                       Effect DFn DFd          F            p p<.05        ges\n",
       "2                 Animal_Type   1  34   6.333072 1.673429e-02     * 0.04774291\n",
       "3             Bout_Length_min   3 102 307.121180 6.518636e-51     * 0.86844895\n",
       "4 Animal_Type:Bout_Length_min   3 102   4.534374 5.016510e-03     * 0.08881086\n",
       "\n",
       "$`Mauchly's Test for Sphericity`\n",
       "                       Effect            W            p p<.05\n",
       "3             Bout_Length_min 0.0009572597 6.202873e-47     *\n",
       "4 Animal_Type:Bout_Length_min 0.0009572597 6.202873e-47     *\n",
       "\n",
       "$`Sphericity Corrections`\n",
       "                       Effect       GGe        p[GG] p[GG]<.05       HFe\n",
       "3             Bout_Length_min 0.3728242 1.620529e-20         * 0.3765695\n",
       "4 Animal_Type:Bout_Length_min 0.3728242 3.583251e-02         * 0.3765695\n",
       "         p[HF] p[HF]<.05\n",
       "3 1.065584e-20         *\n",
       "4 3.541346e-02         *\n"
      ]
     },
     "metadata": {},
     "output_type": "display_data"
    },
    {
     "name": "stderr",
     "output_type": "stream",
     "text": [
      "Coefficient covariances computed by hccm()\n",
      "\n",
      "Coefficient covariances computed by hccm()\n",
      "\n",
      "Coefficient covariances computed by hccm()\n",
      "\n",
      "Coefficient covariances computed by hccm()\n",
      "\n"
     ]
    },
    {
     "data": {
      "text/html": [
       "<table class=\"dataframe\">\n",
       "<caption>A grouped_anova_test: 4 × 9</caption>\n",
       "<thead>\n",
       "\t<tr><th></th><th scope=col>Bout_Length_min</th><th scope=col>Effect</th><th scope=col>DFn</th><th scope=col>DFd</th><th scope=col>F</th><th scope=col>p</th><th scope=col>p&lt;.05</th><th scope=col>ges</th><th scope=col>p.adj</th></tr>\n",
       "\t<tr><th></th><th scope=col>&lt;fct&gt;</th><th scope=col>&lt;chr&gt;</th><th scope=col>&lt;dbl&gt;</th><th scope=col>&lt;dbl&gt;</th><th scope=col>&lt;dbl&gt;</th><th scope=col>&lt;dbl&gt;</th><th scope=col>&lt;chr&gt;</th><th scope=col>&lt;dbl&gt;</th><th scope=col>&lt;dbl&gt;</th></tr>\n",
       "</thead>\n",
       "<tbody>\n",
       "\t<tr><th scope=row>1</th><td><span style=white-space:pre-wrap>&lt;1   </span></td><td>Animal_Type</td><td>1</td><td>34</td><td>4.977</td><td>0.032</td><td>*</td><td>0.128</td><td>0.04533333</td></tr>\n",
       "\t<tr><th scope=row>2</th><td>1-10 </td><td>Animal_Type</td><td>1</td><td>34</td><td>5.719</td><td>0.022</td><td>*</td><td>0.144</td><td>0.04533333</td></tr>\n",
       "\t<tr><th scope=row>3</th><td>10-60</td><td>Animal_Type</td><td>1</td><td>34</td><td>3.745</td><td>0.061</td><td> </td><td>0.099</td><td>0.06100000</td></tr>\n",
       "\t<tr><th scope=row>4</th><td><span style=white-space:pre-wrap>&gt;60  </span></td><td>Animal_Type</td><td>1</td><td>34</td><td>4.857</td><td>0.034</td><td>*</td><td>0.125</td><td>0.04533333</td></tr>\n",
       "</tbody>\n",
       "</table>\n"
      ],
      "text/latex": [
       "A grouped\\_anova\\_test: 4 × 9\n",
       "\\begin{tabular}{r|lllllllll}\n",
       "  & Bout\\_Length\\_min & Effect & DFn & DFd & F & p & p<.05 & ges & p.adj\\\\\n",
       "  & <fct> & <chr> & <dbl> & <dbl> & <dbl> & <dbl> & <chr> & <dbl> & <dbl>\\\\\n",
       "\\hline\n",
       "\t1 & <1    & Animal\\_Type & 1 & 34 & 4.977 & 0.032 & * & 0.128 & 0.04533333\\\\\n",
       "\t2 & 1-10  & Animal\\_Type & 1 & 34 & 5.719 & 0.022 & * & 0.144 & 0.04533333\\\\\n",
       "\t3 & 10-60 & Animal\\_Type & 1 & 34 & 3.745 & 0.061 &   & 0.099 & 0.06100000\\\\\n",
       "\t4 & >60   & Animal\\_Type & 1 & 34 & 4.857 & 0.034 & * & 0.125 & 0.04533333\\\\\n",
       "\\end{tabular}\n"
      ],
      "text/markdown": [
       "\n",
       "A grouped_anova_test: 4 × 9\n",
       "\n",
       "| <!--/--> | Bout_Length_min &lt;fct&gt; | Effect &lt;chr&gt; | DFn &lt;dbl&gt; | DFd &lt;dbl&gt; | F &lt;dbl&gt; | p &lt;dbl&gt; | p&lt;.05 &lt;chr&gt; | ges &lt;dbl&gt; | p.adj &lt;dbl&gt; |\n",
       "|---|---|---|---|---|---|---|---|---|---|\n",
       "| 1 | &lt;1    | Animal_Type | 1 | 34 | 4.977 | 0.032 | * | 0.128 | 0.04533333 |\n",
       "| 2 | 1-10  | Animal_Type | 1 | 34 | 5.719 | 0.022 | * | 0.144 | 0.04533333 |\n",
       "| 3 | 10-60 | Animal_Type | 1 | 34 | 3.745 | 0.061 | <!----> | 0.099 | 0.06100000 |\n",
       "| 4 | &gt;60   | Animal_Type | 1 | 34 | 4.857 | 0.034 | * | 0.125 | 0.04533333 |\n",
       "\n"
      ],
      "text/plain": [
       "  Bout_Length_min Effect      DFn DFd F     p     p<.05 ges   p.adj     \n",
       "1 <1              Animal_Type 1   34  4.977 0.032 *     0.128 0.04533333\n",
       "2 1-10            Animal_Type 1   34  5.719 0.022 *     0.144 0.04533333\n",
       "3 10-60           Animal_Type 1   34  3.745 0.061       0.099 0.06100000\n",
       "4 >60             Animal_Type 1   34  4.857 0.034 *     0.125 0.04533333"
      ]
     },
     "metadata": {},
     "output_type": "display_data"
    },
    {
     "name": "stderr",
     "output_type": "stream",
     "text": [
      "`summarise()` has grouped output by 'Animal_Type'. You can override using the `.groups` argument.\n"
     ]
    },
    {
     "data": {
      "image/png": "[encoded data removed]",
      "text/plain": [
       "plot without title"
      ]
     },
     "metadata": {
      "image/png": {
       "height": 354.3307,
       "width": 448.8189
      }
     },
     "output_type": "display_data"
    }
   ],
   "source": [
    "#Split-Plot ANOVA - Activity Bout Distribution - Both Sexes\n",
    "ezANOVA(Activity_Distribution, dv=.(No_of_Activity_Bouts), wid=.(Animal_ID), within=.(Bout_Length_min), between=.(Animal_Type))\n",
    "#Post-hoc tests  - Activity Bout Distribution - Both Sexes\n",
    "p_adjust_activity_bout <- Activity_Distribution%>%group_by(Bout_Length_min)%>%\n",
    "    anova_test(dv = No_of_Activity_Bouts, wid = Animal_ID, between = Animal_Type) %>%\n",
    "    get_anova_table() %>%\n",
    "    adjust_pvalue(method = \"BH\")\n",
    "p_adjust_activity_bout\n",
    "#Plotting Activity Bout Distribution - Both Sexes\n",
    "options(repr.plot.width=19/2.54, repr.plot.height=15/2.54)\n",
    "Activity_Distribution_Figure(Activity_Distribution, c(\"wild_type\", \"Dexras1 KO\"))+\n",
    "    annotate(\"text\",x=\"<1\", y=250, label=\"*\", angle=0, size=10)+\n",
    "    annotate(\"text\",x=\"1-10\", y=120, label=\"*\", angle=0, size=10)+\n",
    "    annotate(\"text\",x=\">60\", y=5, label=\"*\", angle=0, size=10)\n",
    "  ggsave(\"Plots/Activity_Bout_Distribution.png\",width=19, height=15,units = \"cm\")"
   ]
  },
  {
   "cell_type": "code",
   "execution_count": 16,
   "id": "348c8b1e-1d53-4f46-aba9-c91bf59578fb",
   "metadata": {},
   "outputs": [
    {
     "name": "stderr",
     "output_type": "stream",
     "text": [
      "Warning message:\n",
      "\"Converting \"Animal_ID\" to factor for ANOVA.\"\n",
      "Warning message:\n",
      "\"Converting \"Animal_Type\" to factor for ANOVA.\"\n"
     ]
    },
    {
     "data": {
      "text/html": [
       "<dl>\n",
       "\t<dt>$ANOVA</dt>\n",
       "\t\t<dd><table class=\"dataframe\">\n",
       "<caption>A data.frame: 3 × 7</caption>\n",
       "<thead>\n",
       "\t<tr><th></th><th scope=col>Effect</th><th scope=col>DFn</th><th scope=col>DFd</th><th scope=col>F</th><th scope=col>p</th><th scope=col>p&lt;.05</th><th scope=col>ges</th></tr>\n",
       "\t<tr><th></th><th scope=col>&lt;chr&gt;</th><th scope=col>&lt;dbl&gt;</th><th scope=col>&lt;dbl&gt;</th><th scope=col>&lt;dbl&gt;</th><th scope=col>&lt;dbl&gt;</th><th scope=col>&lt;chr&gt;</th><th scope=col>&lt;dbl&gt;</th></tr>\n",
       "</thead>\n",
       "<tbody>\n",
       "\t<tr><th scope=row>2</th><td>Animal_Type                </td><td>1</td><td>16</td><td>  1.708022</td><td>2.097148e-01</td><td> </td><td>0.02284572</td></tr>\n",
       "\t<tr><th scope=row>3</th><td>Bout_Length_min            </td><td>3</td><td>48</td><td>254.557244</td><td>1.824826e-29</td><td>*</td><td>0.92551422</td></tr>\n",
       "\t<tr><th scope=row>4</th><td>Animal_Type:Bout_Length_min</td><td>3</td><td>48</td><td>  1.479759</td><td>2.318666e-01</td><td> </td><td>0.06736395</td></tr>\n",
       "</tbody>\n",
       "</table>\n",
       "</dd>\n",
       "\t<dt>$`Mauchly's Test for Sphericity`</dt>\n",
       "\t\t<dd><table class=\"dataframe\">\n",
       "<caption>A data.frame: 2 × 4</caption>\n",
       "<thead>\n",
       "\t<tr><th></th><th scope=col>Effect</th><th scope=col>W</th><th scope=col>p</th><th scope=col>p&lt;.05</th></tr>\n",
       "\t<tr><th></th><th scope=col>&lt;chr&gt;</th><th scope=col>&lt;dbl&gt;</th><th scope=col>&lt;dbl&gt;</th><th scope=col>&lt;chr&gt;</th></tr>\n",
       "</thead>\n",
       "<tbody>\n",
       "\t<tr><th scope=row>3</th><td>Bout_Length_min            </td><td>0.000264989</td><td>3.312257e-24</td><td>*</td></tr>\n",
       "\t<tr><th scope=row>4</th><td>Animal_Type:Bout_Length_min</td><td>0.000264989</td><td>3.312257e-24</td><td>*</td></tr>\n",
       "</tbody>\n",
       "</table>\n",
       "</dd>\n",
       "\t<dt>$`Sphericity Corrections`</dt>\n",
       "\t\t<dd><table class=\"dataframe\">\n",
       "<caption>A data.frame: 2 × 7</caption>\n",
       "<thead>\n",
       "\t<tr><th></th><th scope=col>Effect</th><th scope=col>GGe</th><th scope=col>p[GG]</th><th scope=col>p[GG]&lt;.05</th><th scope=col>HFe</th><th scope=col>p[HF]</th><th scope=col>p[HF]&lt;.05</th></tr>\n",
       "\t<tr><th></th><th scope=col>&lt;chr&gt;</th><th scope=col>&lt;dbl&gt;</th><th scope=col>&lt;dbl&gt;</th><th scope=col>&lt;chr&gt;</th><th scope=col>&lt;dbl&gt;</th><th scope=col>&lt;dbl&gt;</th><th scope=col>&lt;chr&gt;</th></tr>\n",
       "</thead>\n",
       "<tbody>\n",
       "\t<tr><th scope=row>3</th><td>Bout_Length_min            </td><td>0.3521371</td><td>9.177360e-12</td><td>*</td><td>0.355983</td><td>7.194766e-12</td><td>*</td></tr>\n",
       "\t<tr><th scope=row>4</th><td>Animal_Type:Bout_Length_min</td><td>0.3521371</td><td>2.424473e-01</td><td> </td><td>0.355983</td><td>2.426270e-01</td><td> </td></tr>\n",
       "</tbody>\n",
       "</table>\n",
       "</dd>\n",
       "</dl>\n"
      ],
      "text/latex": [
       "\\begin{description}\n",
       "\\item[\\$ANOVA] A data.frame: 3 × 7\n",
       "\\begin{tabular}{r|lllllll}\n",
       "  & Effect & DFn & DFd & F & p & p<.05 & ges\\\\\n",
       "  & <chr> & <dbl> & <dbl> & <dbl> & <dbl> & <chr> & <dbl>\\\\\n",
       "\\hline\n",
       "\t2 & Animal\\_Type                 & 1 & 16 &   1.708022 & 2.097148e-01 &   & 0.02284572\\\\\n",
       "\t3 & Bout\\_Length\\_min             & 3 & 48 & 254.557244 & 1.824826e-29 & * & 0.92551422\\\\\n",
       "\t4 & Animal\\_Type:Bout\\_Length\\_min & 3 & 48 &   1.479759 & 2.318666e-01 &   & 0.06736395\\\\\n",
       "\\end{tabular}\n",
       "\n",
       "\\item[\\$`Mauchly's Test for Sphericity`] A data.frame: 2 × 4\n",
       "\\begin{tabular}{r|llll}\n",
       "  & Effect & W & p & p<.05\\\\\n",
       "  & <chr> & <dbl> & <dbl> & <chr>\\\\\n",
       "\\hline\n",
       "\t3 & Bout\\_Length\\_min             & 0.000264989 & 3.312257e-24 & *\\\\\n",
       "\t4 & Animal\\_Type:Bout\\_Length\\_min & 0.000264989 & 3.312257e-24 & *\\\\\n",
       "\\end{tabular}\n",
       "\n",
       "\\item[\\$`Sphericity Corrections`] A data.frame: 2 × 7\n",
       "\\begin{tabular}{r|lllllll}\n",
       "  & Effect & GGe & p{[}GG{]} & p{[}GG{]}<.05 & HFe & p{[}HF{]} & p{[}HF{]}<.05\\\\\n",
       "  & <chr> & <dbl> & <dbl> & <chr> & <dbl> & <dbl> & <chr>\\\\\n",
       "\\hline\n",
       "\t3 & Bout\\_Length\\_min             & 0.3521371 & 9.177360e-12 & * & 0.355983 & 7.194766e-12 & *\\\\\n",
       "\t4 & Animal\\_Type:Bout\\_Length\\_min & 0.3521371 & 2.424473e-01 &   & 0.355983 & 2.426270e-01 &  \\\\\n",
       "\\end{tabular}\n",
       "\n",
       "\\end{description}\n"
      ],
      "text/markdown": [
       "$ANOVA\n",
       ":   \n",
       "A data.frame: 3 × 7\n",
       "\n",
       "| <!--/--> | Effect &lt;chr&gt; | DFn &lt;dbl&gt; | DFd &lt;dbl&gt; | F &lt;dbl&gt; | p &lt;dbl&gt; | p&lt;.05 &lt;chr&gt; | ges &lt;dbl&gt; |\n",
       "|---|---|---|---|---|---|---|---|\n",
       "| 2 | Animal_Type                 | 1 | 16 |   1.708022 | 2.097148e-01 | <!----> | 0.02284572 |\n",
       "| 3 | Bout_Length_min             | 3 | 48 | 254.557244 | 1.824826e-29 | * | 0.92551422 |\n",
       "| 4 | Animal_Type:Bout_Length_min | 3 | 48 |   1.479759 | 2.318666e-01 | <!----> | 0.06736395 |\n",
       "\n",
       "\n",
       "$`Mauchly's Test for Sphericity`\n",
       ":   \n",
       "A data.frame: 2 × 4\n",
       "\n",
       "| <!--/--> | Effect &lt;chr&gt; | W &lt;dbl&gt; | p &lt;dbl&gt; | p&lt;.05 &lt;chr&gt; |\n",
       "|---|---|---|---|---|\n",
       "| 3 | Bout_Length_min             | 0.000264989 | 3.312257e-24 | * |\n",
       "| 4 | Animal_Type:Bout_Length_min | 0.000264989 | 3.312257e-24 | * |\n",
       "\n",
       "\n",
       "$`Sphericity Corrections`\n",
       ":   \n",
       "A data.frame: 2 × 7\n",
       "\n",
       "| <!--/--> | Effect &lt;chr&gt; | GGe &lt;dbl&gt; | p[GG] &lt;dbl&gt; | p[GG]&lt;.05 &lt;chr&gt; | HFe &lt;dbl&gt; | p[HF] &lt;dbl&gt; | p[HF]&lt;.05 &lt;chr&gt; |\n",
       "|---|---|---|---|---|---|---|---|\n",
       "| 3 | Bout_Length_min             | 0.3521371 | 9.177360e-12 | * | 0.355983 | 7.194766e-12 | * |\n",
       "| 4 | Animal_Type:Bout_Length_min | 0.3521371 | 2.424473e-01 | <!----> | 0.355983 | 2.426270e-01 | <!----> |\n",
       "\n",
       "\n",
       "\n",
       "\n"
      ],
      "text/plain": [
       "$ANOVA\n",
       "                       Effect DFn DFd          F            p p<.05        ges\n",
       "2                 Animal_Type   1  16   1.708022 2.097148e-01       0.02284572\n",
       "3             Bout_Length_min   3  48 254.557244 1.824826e-29     * 0.92551422\n",
       "4 Animal_Type:Bout_Length_min   3  48   1.479759 2.318666e-01       0.06736395\n",
       "\n",
       "$`Mauchly's Test for Sphericity`\n",
       "                       Effect           W            p p<.05\n",
       "3             Bout_Length_min 0.000264989 3.312257e-24     *\n",
       "4 Animal_Type:Bout_Length_min 0.000264989 3.312257e-24     *\n",
       "\n",
       "$`Sphericity Corrections`\n",
       "                       Effect       GGe        p[GG] p[GG]<.05      HFe\n",
       "3             Bout_Length_min 0.3521371 9.177360e-12         * 0.355983\n",
       "4 Animal_Type:Bout_Length_min 0.3521371 2.424473e-01           0.355983\n",
       "         p[HF] p[HF]<.05\n",
       "3 7.194766e-12         *\n",
       "4 2.426270e-01          \n"
      ]
     },
     "metadata": {},
     "output_type": "display_data"
    },
    {
     "name": "stderr",
     "output_type": "stream",
     "text": [
      "`summarise()` has grouped output by 'Animal_Type'. You can override using the `.groups` argument.\n"
     ]
    },
    {
     "data": {
      "image/png": "[encoded data removed]",
      "text/plain": [
       "plot without title"
      ]
     },
     "metadata": {
      "image/png": {
       "height": 354.3307,
       "width": 448.8189
      }
     },
     "output_type": "display_data"
    }
   ],
   "source": [
    "#Split-Plot ANOVA - Activity Bout Distribution - Males \n",
    "ezANOVA(Activity_Distribution %>% filter(Sex==\"Male\"), dv=.(No_of_Activity_Bouts), wid=.(Animal_ID), within=.(Bout_Length_min), between=.(Animal_Type))\n",
    "#Plotting Activity Bout Distribution - Males\n",
    "options(repr.plot.width=19/2.54, repr.plot.height=15/2.54)\n",
    "Activity_Distribution_Figure(Activity_Distribution%>% filter(Sex==\"Male\"), c(\"wild_type Male\", \"Dexras1 KO Male\"))\n",
    "  ggsave(\"Plots/Activity_Bout_Distribution_M.png\",width=19, height=15,units = \"cm\")"
   ]
  },
  {
   "cell_type": "code",
   "execution_count": 17,
   "id": "fbfeb0e2-463a-4b06-a83b-df3d4be11052",
   "metadata": {},
   "outputs": [
    {
     "name": "stderr",
     "output_type": "stream",
     "text": [
      "Warning message:\n",
      "\"Converting \"Animal_ID\" to factor for ANOVA.\"\n",
      "Warning message:\n",
      "\"Converting \"Animal_Type\" to factor for ANOVA.\"\n"
     ]
    },
    {
     "data": {
      "text/html": [
       "<dl>\n",
       "\t<dt>$ANOVA</dt>\n",
       "\t\t<dd><table class=\"dataframe\">\n",
       "<caption>A data.frame: 3 × 7</caption>\n",
       "<thead>\n",
       "\t<tr><th></th><th scope=col>Effect</th><th scope=col>DFn</th><th scope=col>DFd</th><th scope=col>F</th><th scope=col>p</th><th scope=col>p&lt;.05</th><th scope=col>ges</th></tr>\n",
       "\t<tr><th></th><th scope=col>&lt;chr&gt;</th><th scope=col>&lt;dbl&gt;</th><th scope=col>&lt;dbl&gt;</th><th scope=col>&lt;dbl&gt;</th><th scope=col>&lt;dbl&gt;</th><th scope=col>&lt;chr&gt;</th><th scope=col>&lt;dbl&gt;</th></tr>\n",
       "</thead>\n",
       "<tbody>\n",
       "\t<tr><th scope=row>2</th><td>Animal_Type                </td><td>1</td><td>16</td><td>  7.065404</td><td>1.718343e-02</td><td>*</td><td>0.1281664</td></tr>\n",
       "\t<tr><th scope=row>3</th><td>Bout_Length_min            </td><td>3</td><td>48</td><td>161.840485</td><td>4.244071e-25</td><td>*</td><td>0.8709288</td></tr>\n",
       "\t<tr><th scope=row>4</th><td>Animal_Type:Bout_Length_min</td><td>3</td><td>48</td><td>  5.825182</td><td>1.772139e-03</td><td>*</td><td>0.1954112</td></tr>\n",
       "</tbody>\n",
       "</table>\n",
       "</dd>\n",
       "\t<dt>$`Mauchly's Test for Sphericity`</dt>\n",
       "\t\t<dd><table class=\"dataframe\">\n",
       "<caption>A data.frame: 2 × 4</caption>\n",
       "<thead>\n",
       "\t<tr><th></th><th scope=col>Effect</th><th scope=col>W</th><th scope=col>p</th><th scope=col>p&lt;.05</th></tr>\n",
       "\t<tr><th></th><th scope=col>&lt;chr&gt;</th><th scope=col>&lt;dbl&gt;</th><th scope=col>&lt;dbl&gt;</th><th scope=col>&lt;chr&gt;</th></tr>\n",
       "</thead>\n",
       "<tbody>\n",
       "\t<tr><th scope=row>3</th><td>Bout_Length_min            </td><td>0.001163065</td><td>1.117468e-19</td><td>*</td></tr>\n",
       "\t<tr><th scope=row>4</th><td>Animal_Type:Bout_Length_min</td><td>0.001163065</td><td>1.117468e-19</td><td>*</td></tr>\n",
       "</tbody>\n",
       "</table>\n",
       "</dd>\n",
       "\t<dt>$`Sphericity Corrections`</dt>\n",
       "\t\t<dd><table class=\"dataframe\">\n",
       "<caption>A data.frame: 2 × 7</caption>\n",
       "<thead>\n",
       "\t<tr><th></th><th scope=col>Effect</th><th scope=col>GGe</th><th scope=col>p[GG]</th><th scope=col>p[GG]&lt;.05</th><th scope=col>HFe</th><th scope=col>p[HF]</th><th scope=col>p[HF]&lt;.05</th></tr>\n",
       "\t<tr><th></th><th scope=col>&lt;chr&gt;</th><th scope=col>&lt;dbl&gt;</th><th scope=col>&lt;dbl&gt;</th><th scope=col>&lt;chr&gt;</th><th scope=col>&lt;dbl&gt;</th><th scope=col>&lt;dbl&gt;</th><th scope=col>&lt;chr&gt;</th></tr>\n",
       "</thead>\n",
       "<tbody>\n",
       "\t<tr><th scope=row>3</th><td>Bout_Length_min            </td><td>0.3720161</td><td>1.120018e-10</td><td>*</td><td>0.3801146</td><td>7.279083e-11</td><td>*</td></tr>\n",
       "\t<tr><th scope=row>4</th><td>Animal_Type:Bout_Length_min</td><td>0.3720161</td><td>2.391364e-02</td><td>*</td><td>0.3801146</td><td>2.311064e-02</td><td>*</td></tr>\n",
       "</tbody>\n",
       "</table>\n",
       "</dd>\n",
       "</dl>\n"
      ],
      "text/latex": [
       "\\begin{description}\n",
       "\\item[\\$ANOVA] A data.frame: 3 × 7\n",
       "\\begin{tabular}{r|lllllll}\n",
       "  & Effect & DFn & DFd & F & p & p<.05 & ges\\\\\n",
       "  & <chr> & <dbl> & <dbl> & <dbl> & <dbl> & <chr> & <dbl>\\\\\n",
       "\\hline\n",
       "\t2 & Animal\\_Type                 & 1 & 16 &   7.065404 & 1.718343e-02 & * & 0.1281664\\\\\n",
       "\t3 & Bout\\_Length\\_min             & 3 & 48 & 161.840485 & 4.244071e-25 & * & 0.8709288\\\\\n",
       "\t4 & Animal\\_Type:Bout\\_Length\\_min & 3 & 48 &   5.825182 & 1.772139e-03 & * & 0.1954112\\\\\n",
       "\\end{tabular}\n",
       "\n",
       "\\item[\\$`Mauchly's Test for Sphericity`] A data.frame: 2 × 4\n",
       "\\begin{tabular}{r|llll}\n",
       "  & Effect & W & p & p<.05\\\\\n",
       "  & <chr> & <dbl> & <dbl> & <chr>\\\\\n",
       "\\hline\n",
       "\t3 & Bout\\_Length\\_min             & 0.001163065 & 1.117468e-19 & *\\\\\n",
       "\t4 & Animal\\_Type:Bout\\_Length\\_min & 0.001163065 & 1.117468e-19 & *\\\\\n",
       "\\end{tabular}\n",
       "\n",
       "\\item[\\$`Sphericity Corrections`] A data.frame: 2 × 7\n",
       "\\begin{tabular}{r|lllllll}\n",
       "  & Effect & GGe & p{[}GG{]} & p{[}GG{]}<.05 & HFe & p{[}HF{]} & p{[}HF{]}<.05\\\\\n",
       "  & <chr> & <dbl> & <dbl> & <chr> & <dbl> & <dbl> & <chr>\\\\\n",
       "\\hline\n",
       "\t3 & Bout\\_Length\\_min             & 0.3720161 & 1.120018e-10 & * & 0.3801146 & 7.279083e-11 & *\\\\\n",
       "\t4 & Animal\\_Type:Bout\\_Length\\_min & 0.3720161 & 2.391364e-02 & * & 0.3801146 & 2.311064e-02 & *\\\\\n",
       "\\end{tabular}\n",
       "\n",
       "\\end{description}\n"
      ],
      "text/markdown": [
       "$ANOVA\n",
       ":   \n",
       "A data.frame: 3 × 7\n",
       "\n",
       "| <!--/--> | Effect &lt;chr&gt; | DFn &lt;dbl&gt; | DFd &lt;dbl&gt; | F &lt;dbl&gt; | p &lt;dbl&gt; | p&lt;.05 &lt;chr&gt; | ges &lt;dbl&gt; |\n",
       "|---|---|---|---|---|---|---|---|\n",
       "| 2 | Animal_Type                 | 1 | 16 |   7.065404 | 1.718343e-02 | * | 0.1281664 |\n",
       "| 3 | Bout_Length_min             | 3 | 48 | 161.840485 | 4.244071e-25 | * | 0.8709288 |\n",
       "| 4 | Animal_Type:Bout_Length_min | 3 | 48 |   5.825182 | 1.772139e-03 | * | 0.1954112 |\n",
       "\n",
       "\n",
       "$`Mauchly's Test for Sphericity`\n",
       ":   \n",
       "A data.frame: 2 × 4\n",
       "\n",
       "| <!--/--> | Effect &lt;chr&gt; | W &lt;dbl&gt; | p &lt;dbl&gt; | p&lt;.05 &lt;chr&gt; |\n",
       "|---|---|---|---|---|\n",
       "| 3 | Bout_Length_min             | 0.001163065 | 1.117468e-19 | * |\n",
       "| 4 | Animal_Type:Bout_Length_min | 0.001163065 | 1.117468e-19 | * |\n",
       "\n",
       "\n",
       "$`Sphericity Corrections`\n",
       ":   \n",
       "A data.frame: 2 × 7\n",
       "\n",
       "| <!--/--> | Effect &lt;chr&gt; | GGe &lt;dbl&gt; | p[GG] &lt;dbl&gt; | p[GG]&lt;.05 &lt;chr&gt; | HFe &lt;dbl&gt; | p[HF] &lt;dbl&gt; | p[HF]&lt;.05 &lt;chr&gt; |\n",
       "|---|---|---|---|---|---|---|---|\n",
       "| 3 | Bout_Length_min             | 0.3720161 | 1.120018e-10 | * | 0.3801146 | 7.279083e-11 | * |\n",
       "| 4 | Animal_Type:Bout_Length_min | 0.3720161 | 2.391364e-02 | * | 0.3801146 | 2.311064e-02 | * |\n",
       "\n",
       "\n",
       "\n",
       "\n"
      ],
      "text/plain": [
       "$ANOVA\n",
       "                       Effect DFn DFd          F            p p<.05       ges\n",
       "2                 Animal_Type   1  16   7.065404 1.718343e-02     * 0.1281664\n",
       "3             Bout_Length_min   3  48 161.840485 4.244071e-25     * 0.8709288\n",
       "4 Animal_Type:Bout_Length_min   3  48   5.825182 1.772139e-03     * 0.1954112\n",
       "\n",
       "$`Mauchly's Test for Sphericity`\n",
       "                       Effect           W            p p<.05\n",
       "3             Bout_Length_min 0.001163065 1.117468e-19     *\n",
       "4 Animal_Type:Bout_Length_min 0.001163065 1.117468e-19     *\n",
       "\n",
       "$`Sphericity Corrections`\n",
       "                       Effect       GGe        p[GG] p[GG]<.05       HFe\n",
       "3             Bout_Length_min 0.3720161 1.120018e-10         * 0.3801146\n",
       "4 Animal_Type:Bout_Length_min 0.3720161 2.391364e-02         * 0.3801146\n",
       "         p[HF] p[HF]<.05\n",
       "3 7.279083e-11         *\n",
       "4 2.311064e-02         *\n"
      ]
     },
     "metadata": {},
     "output_type": "display_data"
    },
    {
     "name": "stderr",
     "output_type": "stream",
     "text": [
      "Coefficient covariances computed by hccm()\n",
      "\n",
      "Coefficient covariances computed by hccm()\n",
      "\n",
      "Coefficient covariances computed by hccm()\n",
      "\n",
      "Coefficient covariances computed by hccm()\n",
      "\n"
     ]
    },
    {
     "data": {
      "text/html": [
       "<table class=\"dataframe\">\n",
       "<caption>A grouped_anova_test: 4 × 9</caption>\n",
       "<thead>\n",
       "\t<tr><th></th><th scope=col>Bout_Length_min</th><th scope=col>Effect</th><th scope=col>DFn</th><th scope=col>DFd</th><th scope=col>F</th><th scope=col>p</th><th scope=col>p&lt;.05</th><th scope=col>ges</th><th scope=col>p.adj</th></tr>\n",
       "\t<tr><th></th><th scope=col>&lt;fct&gt;</th><th scope=col>&lt;chr&gt;</th><th scope=col>&lt;dbl&gt;</th><th scope=col>&lt;dbl&gt;</th><th scope=col>&lt;dbl&gt;</th><th scope=col>&lt;dbl&gt;</th><th scope=col>&lt;chr&gt;</th><th scope=col>&lt;dbl&gt;</th><th scope=col>&lt;dbl&gt;</th></tr>\n",
       "</thead>\n",
       "<tbody>\n",
       "\t<tr><th scope=row>1</th><td><span style=white-space:pre-wrap>&lt;1   </span></td><td>Animal_Type</td><td>1</td><td>16</td><td>6.037</td><td>0.026</td><td>*</td><td>0.274</td><td>0.041</td></tr>\n",
       "\t<tr><th scope=row>2</th><td>1-10 </td><td>Animal_Type</td><td>1</td><td>16</td><td>7.728</td><td>0.013</td><td>*</td><td>0.326</td><td>0.041</td></tr>\n",
       "\t<tr><th scope=row>3</th><td>10-60</td><td>Animal_Type</td><td>1</td><td>16</td><td>4.962</td><td>0.041</td><td>*</td><td>0.237</td><td>0.041</td></tr>\n",
       "\t<tr><th scope=row>4</th><td><span style=white-space:pre-wrap>&gt;60  </span></td><td>Animal_Type</td><td>1</td><td>16</td><td>4.990</td><td>0.040</td><td>*</td><td>0.238</td><td>0.041</td></tr>\n",
       "</tbody>\n",
       "</table>\n"
      ],
      "text/latex": [
       "A grouped\\_anova\\_test: 4 × 9\n",
       "\\begin{tabular}{r|lllllllll}\n",
       "  & Bout\\_Length\\_min & Effect & DFn & DFd & F & p & p<.05 & ges & p.adj\\\\\n",
       "  & <fct> & <chr> & <dbl> & <dbl> & <dbl> & <dbl> & <chr> & <dbl> & <dbl>\\\\\n",
       "\\hline\n",
       "\t1 & <1    & Animal\\_Type & 1 & 16 & 6.037 & 0.026 & * & 0.274 & 0.041\\\\\n",
       "\t2 & 1-10  & Animal\\_Type & 1 & 16 & 7.728 & 0.013 & * & 0.326 & 0.041\\\\\n",
       "\t3 & 10-60 & Animal\\_Type & 1 & 16 & 4.962 & 0.041 & * & 0.237 & 0.041\\\\\n",
       "\t4 & >60   & Animal\\_Type & 1 & 16 & 4.990 & 0.040 & * & 0.238 & 0.041\\\\\n",
       "\\end{tabular}\n"
      ],
      "text/markdown": [
       "\n",
       "A grouped_anova_test: 4 × 9\n",
       "\n",
       "| <!--/--> | Bout_Length_min &lt;fct&gt; | Effect &lt;chr&gt; | DFn &lt;dbl&gt; | DFd &lt;dbl&gt; | F &lt;dbl&gt; | p &lt;dbl&gt; | p&lt;.05 &lt;chr&gt; | ges &lt;dbl&gt; | p.adj &lt;dbl&gt; |\n",
       "|---|---|---|---|---|---|---|---|---|---|\n",
       "| 1 | &lt;1    | Animal_Type | 1 | 16 | 6.037 | 0.026 | * | 0.274 | 0.041 |\n",
       "| 2 | 1-10  | Animal_Type | 1 | 16 | 7.728 | 0.013 | * | 0.326 | 0.041 |\n",
       "| 3 | 10-60 | Animal_Type | 1 | 16 | 4.962 | 0.041 | * | 0.237 | 0.041 |\n",
       "| 4 | &gt;60   | Animal_Type | 1 | 16 | 4.990 | 0.040 | * | 0.238 | 0.041 |\n",
       "\n"
      ],
      "text/plain": [
       "  Bout_Length_min Effect      DFn DFd F     p     p<.05 ges   p.adj\n",
       "1 <1              Animal_Type 1   16  6.037 0.026 *     0.274 0.041\n",
       "2 1-10            Animal_Type 1   16  7.728 0.013 *     0.326 0.041\n",
       "3 10-60           Animal_Type 1   16  4.962 0.041 *     0.237 0.041\n",
       "4 >60             Animal_Type 1   16  4.990 0.040 *     0.238 0.041"
      ]
     },
     "metadata": {},
     "output_type": "display_data"
    },
    {
     "name": "stderr",
     "output_type": "stream",
     "text": [
      "`summarise()` has grouped output by 'Animal_Type'. You can override using the `.groups` argument.\n"
     ]
    },
    {
     "data": {
      "image/png": "[encoded data removed]",
      "text/plain": [
       "plot without title"
      ]
     },
     "metadata": {
      "image/png": {
       "height": 354.3307,
       "width": 448.8189
      }
     },
     "output_type": "display_data"
    }
   ],
   "source": [
    "#Split-Plot ANOVA - Activity Bout Distribution - Females \n",
    "ezANOVA(Activity_Distribution %>% filter(Sex==\"Female\"), dv=.(No_of_Activity_Bouts), wid=.(Animal_ID), within=.(Bout_Length_min), between=.(Animal_Type))\n",
    "#Post-hoc tests  - Activity Bout Distribution - Females\n",
    "p_adjust_activity_bout_Female <- Activity_Distribution%>%filter(Sex==\"Female\")%>%group_by(Bout_Length_min)%>%\n",
    "    anova_test(dv = No_of_Activity_Bouts, wid = Animal_ID, between = Animal_Type) %>%\n",
    "    get_anova_table() %>%\n",
    "    adjust_pvalue(method = \"BH\")\n",
    "p_adjust_activity_bout_Female\n",
    "#Plotting Activity Bout Distribution - Females \n",
    "options(repr.plot.width=19/2.54, repr.plot.height=15/2.54)\n",
    "Activity_Distribution_Figure(Activity_Distribution%>% filter(Sex==\"Female\"), c(\"wild_type Female\", \"Dexras1 KO Female\"))+\n",
    "    annotate(\"text\",x=\"<1\", y=225, label=\"*\", angle=0, size=10)+\n",
    "    annotate(\"text\",x=\"1-10\", y=125, label=\"*\", angle=0, size=10)+\n",
    "    annotate(\"text\",x=\"10-60\", y=20, label=\"*\", angle=0, size=10)+\n",
    "    annotate(\"text\",x=\">60\", y=5, label=\"*\", angle=0, size=10)\n",
    "  ggsave(\"Plots/Activity_Bout_Distribution_F.png\",width=19, height=15,units = \"cm\")"
   ]
  },
  {
   "cell_type": "markdown",
   "id": "79603dab-6c51-49c8-9545-bcdac0cae1c6",
   "metadata": {
    "jp-MarkdownHeadingCollapsed": true,
    "tags": []
   },
   "source": [
    "# <center> Calculating Baseline Intraday Variability and Interdaily Stability"
   ]
  },
  {
   "cell_type": "markdown",
   "id": "1b7f5688-9f81-40f3-bcc0-db7ccc2d41b2",
   "metadata": {},
   "source": [
    "We can get other measures of activity by calculating intraday variability and interdaily stability.\n",
    " - Interdaily stability is a measure of how much the animal's activity varies between days.\n",
    " - Intraday variability is a measure of how much the animal's activity varies within the day\n",
    " \n",
    "The raw PIR values represent the activity of the animal during a 10-second interval. Recall there were six mice per cohort (each having a PIR), with a total of six cohorts. The Tickling files all contain the same information, except their dates are relativized to the first cohort. We will resample the filtered PIR data into one-minute bins to have a high resolution, and add these into a data-frame called Activity_Intra_Inter for all 36 animals:"
   ]
  },
  {
   "cell_type": "code",
   "execution_count": 18,
   "id": "ba7bccde-3722-4bf2-ba3e-863d8e58b643",
   "metadata": {},
   "outputs": [
    {
     "data": {
      "text/html": [
       "<table class=\"dataframe\">\n",
       "<caption>A tibble: 6 × 6</caption>\n",
       "<thead>\n",
       "\t<tr><th scope=col>start_hour</th><th scope=col>Animal_Type</th><th scope=col>Sex</th><th scope=col>Number</th><th scope=col>Activity</th><th scope=col>Animal_ID</th></tr>\n",
       "\t<tr><th scope=col>&lt;dttm&gt;</th><th scope=col>&lt;chr&gt;</th><th scope=col>&lt;chr&gt;</th><th scope=col>&lt;chr&gt;</th><th scope=col>&lt;dbl&gt;</th><th scope=col>&lt;chr&gt;</th></tr>\n",
       "</thead>\n",
       "<tbody>\n",
       "\t<tr><td>2022-06-18 09:00:00</td><td>C57      </td><td>Male</td><td>1</td><td>63.33333</td><td>C57_Male_1      </td></tr>\n",
       "\t<tr><td>2022-06-18 09:00:00</td><td>Dexras1KO</td><td>Male</td><td>1</td><td>70.50000</td><td>Dexras1KO_Male_1</td></tr>\n",
       "\t<tr><td>2022-06-18 09:00:00</td><td>C57      </td><td>Male</td><td>2</td><td>61.16667</td><td>C57_Male_2      </td></tr>\n",
       "\t<tr><td>2022-06-18 09:00:00</td><td>Dexras1KO</td><td>Male</td><td>2</td><td>70.83333</td><td>Dexras1KO_Male_2</td></tr>\n",
       "\t<tr><td>2022-06-18 09:00:00</td><td>C57      </td><td>Male</td><td>3</td><td>75.50000</td><td>C57_Male_3      </td></tr>\n",
       "\t<tr><td>2022-06-18 09:00:00</td><td>Dexras1KO</td><td>Male</td><td>3</td><td>58.83333</td><td>Dexras1KO_Male_3</td></tr>\n",
       "</tbody>\n",
       "</table>\n"
      ],
      "text/latex": [
       "A tibble: 6 × 6\n",
       "\\begin{tabular}{llllll}\n",
       " start\\_hour & Animal\\_Type & Sex & Number & Activity & Animal\\_ID\\\\\n",
       " <dttm> & <chr> & <chr> & <chr> & <dbl> & <chr>\\\\\n",
       "\\hline\n",
       "\t 2022-06-18 09:00:00 & C57       & Male & 1 & 63.33333 & C57\\_Male\\_1      \\\\\n",
       "\t 2022-06-18 09:00:00 & Dexras1KO & Male & 1 & 70.50000 & Dexras1KO\\_Male\\_1\\\\\n",
       "\t 2022-06-18 09:00:00 & C57       & Male & 2 & 61.16667 & C57\\_Male\\_2      \\\\\n",
       "\t 2022-06-18 09:00:00 & Dexras1KO & Male & 2 & 70.83333 & Dexras1KO\\_Male\\_2\\\\\n",
       "\t 2022-06-18 09:00:00 & C57       & Male & 3 & 75.50000 & C57\\_Male\\_3      \\\\\n",
       "\t 2022-06-18 09:00:00 & Dexras1KO & Male & 3 & 58.83333 & Dexras1KO\\_Male\\_3\\\\\n",
       "\\end{tabular}\n"
      ],
      "text/markdown": [
       "\n",
       "A tibble: 6 × 6\n",
       "\n",
       "| start_hour &lt;dttm&gt; | Animal_Type &lt;chr&gt; | Sex &lt;chr&gt; | Number &lt;chr&gt; | Activity &lt;dbl&gt; | Animal_ID &lt;chr&gt; |\n",
       "|---|---|---|---|---|---|\n",
       "| 2022-06-18 09:00:00 | C57       | Male | 1 | 63.33333 | C57_Male_1       |\n",
       "| 2022-06-18 09:00:00 | Dexras1KO | Male | 1 | 70.50000 | Dexras1KO_Male_1 |\n",
       "| 2022-06-18 09:00:00 | C57       | Male | 2 | 61.16667 | C57_Male_2       |\n",
       "| 2022-06-18 09:00:00 | Dexras1KO | Male | 2 | 70.83333 | Dexras1KO_Male_2 |\n",
       "| 2022-06-18 09:00:00 | C57       | Male | 3 | 75.50000 | C57_Male_3       |\n",
       "| 2022-06-18 09:00:00 | Dexras1KO | Male | 3 | 58.83333 | Dexras1KO_Male_3 |\n",
       "\n"
      ],
      "text/plain": [
       "  start_hour          Animal_Type Sex  Number Activity Animal_ID       \n",
       "1 2022-06-18 09:00:00 C57         Male 1      63.33333 C57_Male_1      \n",
       "2 2022-06-18 09:00:00 Dexras1KO   Male 1      70.50000 Dexras1KO_Male_1\n",
       "3 2022-06-18 09:00:00 C57         Male 2      61.16667 C57_Male_2      \n",
       "4 2022-06-18 09:00:00 Dexras1KO   Male 2      70.83333 Dexras1KO_Male_2\n",
       "5 2022-06-18 09:00:00 C57         Male 3      75.50000 C57_Male_3      \n",
       "6 2022-06-18 09:00:00 Dexras1KO   Male 3      58.83333 Dexras1KO_Male_3"
      ]
     },
     "metadata": {},
     "output_type": "display_data"
    }
   ],
   "source": [
    "Activity_Intra_Inter <- cbind(Tickling%>%\n",
    "                                  filter(ymd_hms(start_hour)>=ymd_hms(\"2022-06-18T09:00:00\") & \n",
    "                                           ymd_hms(start_hour)<ymd_hms(\"2022-06-25T09:00:00\"))%>% #filter for baseline data only\n",
    "                                  group_by(start_hour=floor_date(Time, \"minute\"))%>%summarize_at(2:7, mean)%>% #calculate means from 10-second intervals that fall within a given minute\n",
    "                                  ungroup()%>%transmute(start_hour, C57_Male_1=PIR1, \n",
    "                                            Dexras1KO_Male_1=PIR2,\n",
    "                                            C57_Male_2=PIR3, \n",
    "                                            Dexras1KO_Male_2=PIR4,\n",
    "                                            C57_Male_3=PIR5, \n",
    "                                            Dexras1KO_Male_3=PIR6), \n",
    "                                Tickling1%>% filter(ymd_hms(start_hour)>=ymd_hms(\"2022-06-18T09:00:00\") & \n",
    "                                                      ymd_hms(start_hour)<ymd_hms(\"2022-06-25T09:00:00\"))%>%\n",
    "                                  group_by(start_hour=floor_date(Time, \"minute\"))%>%summarize_at(2:7, mean)%>%\n",
    "                                  ungroup()%>%transmute(start_hour, C57_Male_4=PIR1, \n",
    "                                            Dexras1KO_Male_4=PIR2,\n",
    "                                            C57_Male_5=PIR3, \n",
    "                                            Dexras1KO_Male_5=PIR4,\n",
    "                                            C57_Male_6=PIR5, \n",
    "                                            Dexras1KO_Male_6=PIR6),\n",
    "                                Tickling2%>% filter(ymd_hms(start_hour)>=ymd_hms(\"2022-06-18T09:00:00\") & \n",
    "                                                      ymd_hms(start_hour)<ymd_hms(\"2022-06-25T09:00:00\"))%>%\n",
    "                                  group_by(start_hour=floor_date(Time, \"minute\"))%>%summarize_at(2:7, mean)%>%\n",
    "                                  ungroup()%>%transmute(start_hour, C57_Female_1=PIR1, \n",
    "                                            Dexras1KO_Female_1=PIR2,\n",
    "                                            C57_Female_2=PIR3, \n",
    "                                            Dexras1KO_Female_2=PIR4,\n",
    "                                            C57_Female_3=PIR5, \n",
    "                                            Dexras1KO_Female_3=PIR6),\n",
    "                                Tickling3%>% filter(ymd_hms(start_hour)>=ymd_hms(\"2022-06-18T09:00:00\") & \n",
    "                                                      ymd_hms(start_hour)<ymd_hms(\"2022-06-25T09:00:00\"))%>%\n",
    "                                  group_by(start_hour=floor_date(Time, \"minute\"))%>%summarize_at(2:7, mean)%>%\n",
    "                                  ungroup()%>%transmute(start_hour, C57_Female_4=PIR1, \n",
    "                                                        Dexras1KO_Female_4=PIR2,\n",
    "                                                        C57_Female_5=PIR3, \n",
    "                                                        Dexras1KO_Female_5=PIR4,\n",
    "                                                        C57_Female_6=PIR5, \n",
    "                                                        Dexras1KO_Female_6=PIR6),\n",
    "                                Tickling4%>%\n",
    "                                  filter(ymd_hms(start_hour)>=ymd_hms(\"2022-06-18T09:00:00\") & \n",
    "                                           ymd_hms(start_hour)<ymd_hms(\"2022-06-25T09:00:00\"))%>%\n",
    "                                  group_by(start_hour=floor_date(Time, \"minute\"))%>%summarize_at(2:7, mean)%>%\n",
    "                                  ungroup()%>%transmute(start_hour, C57_Male_7=PIR1, \n",
    "                                                        Dexras1KO_Male_7=PIR2,\n",
    "                                                        C57_Male_8=PIR3, \n",
    "                                                        Dexras1KO_Male_8=PIR4,\n",
    "                                                        C57_Male_9=PIR5, \n",
    "                                                        Dexras1KO_Male_9=PIR6),\n",
    "                                Tickling5%>%\n",
    "                                  filter(ymd_hms(start_hour)>=ymd_hms(\"2022-06-18T09:00:00\") & \n",
    "                                           ymd_hms(start_hour)<ymd_hms(\"2022-06-25T09:00:00\"))%>%\n",
    "                                  group_by(start_hour=floor_date(Time, \"minute\"))%>%summarize_at(2:7, mean)%>%\n",
    "                                  ungroup()%>%transmute(start_hour, C57_Female_7=PIR1, \n",
    "                                                        Dexras1KO_Female_7=PIR2,\n",
    "                                                        C57_Female_8=PIR3, \n",
    "                                                        Dexras1KO_Female_8=PIR4,\n",
    "                                                        C57_Female_9=PIR5, \n",
    "                                                        Dexras1KO_Female_9=PIR6))%>%\n",
    "    pivot_longer(cols=c(2:37), names_to=\"Animal\", values_to=\"Activity\")%>% #pivot to longer format for plotting and statistics\n",
    "    mutate(Animal_ID=Animal)%>%\n",
    "    separate(col=\"Animal\", into=c(\"Animal_Type\", \"Sex\", \"Number\"), sep = \"_\")%>%\n",
    "    ungroup()\n",
    "head(Activity_Intra_Inter)"
   ]
  },
  {
   "cell_type": "markdown",
   "id": "a2fc5f05-1fc3-45f3-b43b-dddca7bfb475",
   "metadata": {},
   "source": [
    "We will take each minute to be an individual data point. The calculations are modified from Someren et al (1996): van Someren EJ, Hagebeuk EE, Lijzenga C, Scheltens P, de Rooij SE, Jonker C, et al. Circadian rest–activity rhythm disturbances in Alzheimer’s disease. Biol Psychiatry. 1996;40:259–70.\n",
    "\n",
    "Interdaily Stability = $\\frac{n\\sum_{m=1}^p(\\bar{x_m}-\\bar{x})^2}{p\\sum_{i=1}^n(x_i-\\bar{x})^2}$\n",
    "\n",
    "Intraday Variability = $\\frac{n\\sum_{i=2}^n(x_i-x_{i-1})^2}{(n-1)\\sum_{i=1}^n(x_i-\\bar{x})^2}$\n",
    "\n",
    "where $n$ is the total number of data, $p$ the number of data per day, $\\bar{x_m}$ the means per minute over the 7 days, $\\bar{x}$ the mean of all data, and $x_i$ the individual data points. \n",
    "\n",
    "We first calculate interdaily stability below:"
   ]
  },
  {
   "cell_type": "markdown",
   "id": "311cc111-ce72-44a4-942f-98a529c77695",
   "metadata": {
    "jp-MarkdownHeadingCollapsed": true,
    "tags": []
   },
   "source": [
    "## <center> Interdaily Stability Calculation and Figures"
   ]
  },
  {
   "cell_type": "code",
   "execution_count": 19,
   "id": "43f77085-9d36-4eb7-ad75-5aac670e50f1",
   "metadata": {},
   "outputs": [
    {
     "name": "stderr",
     "output_type": "stream",
     "text": [
      "`summarise()` has grouped output by 'format(start_hour, format = \"%H:%M:%S\")', 'Animal_ID', 'Animal_Type', 'Sex'. You can override using the `.groups` argument.\n",
      "`summarise()` has grouped output by 'Animal_ID', 'Animal_Type'. You can override using the `.groups` argument.\n"
     ]
    },
    {
     "data": {
      "text/html": [
       "<table class=\"dataframe\">\n",
       "<caption>A grouped_df: 6 × 6</caption>\n",
       "<thead>\n",
       "\t<tr><th scope=col>Animal_ID</th><th scope=col>Animal_Type</th><th scope=col>Sex</th><th scope=col>numerator</th><th scope=col>Denominator</th><th scope=col>interday_stability</th></tr>\n",
       "\t<tr><th scope=col>&lt;chr&gt;</th><th scope=col>&lt;chr&gt;</th><th scope=col>&lt;chr&gt;</th><th scope=col>&lt;dbl&gt;</th><th scope=col>&lt;dbl&gt;</th><th scope=col>&lt;dbl&gt;</th></tr>\n",
       "</thead>\n",
       "<tbody>\n",
       "\t<tr><td>C57_Female_1</td><td>C57</td><td>Female</td><td>9370320750</td><td>15794244857</td><td>0.5932744</td></tr>\n",
       "\t<tr><td>C57_Female_2</td><td>C57</td><td>Female</td><td>4171803934</td><td> 9394500734</td><td>0.4440687</td></tr>\n",
       "\t<tr><td>C57_Female_3</td><td>C57</td><td>Female</td><td>3513119412</td><td> 7579086572</td><td>0.4635281</td></tr>\n",
       "\t<tr><td>C57_Female_4</td><td>C57</td><td>Female</td><td>8167874250</td><td>12479584825</td><td>0.6544989</td></tr>\n",
       "\t<tr><td>C57_Female_5</td><td>C57</td><td>Female</td><td>6083094267</td><td>10427386446</td><td>0.5833767</td></tr>\n",
       "\t<tr><td>C57_Female_6</td><td>C57</td><td>Female</td><td>9109455806</td><td>14712740442</td><td>0.6191543</td></tr>\n",
       "</tbody>\n",
       "</table>\n"
      ],
      "text/latex": [
       "A grouped\\_df: 6 × 6\n",
       "\\begin{tabular}{llllll}\n",
       " Animal\\_ID & Animal\\_Type & Sex & numerator & Denominator & interday\\_stability\\\\\n",
       " <chr> & <chr> & <chr> & <dbl> & <dbl> & <dbl>\\\\\n",
       "\\hline\n",
       "\t C57\\_Female\\_1 & C57 & Female & 9370320750 & 15794244857 & 0.5932744\\\\\n",
       "\t C57\\_Female\\_2 & C57 & Female & 4171803934 &  9394500734 & 0.4440687\\\\\n",
       "\t C57\\_Female\\_3 & C57 & Female & 3513119412 &  7579086572 & 0.4635281\\\\\n",
       "\t C57\\_Female\\_4 & C57 & Female & 8167874250 & 12479584825 & 0.6544989\\\\\n",
       "\t C57\\_Female\\_5 & C57 & Female & 6083094267 & 10427386446 & 0.5833767\\\\\n",
       "\t C57\\_Female\\_6 & C57 & Female & 9109455806 & 14712740442 & 0.6191543\\\\\n",
       "\\end{tabular}\n"
      ],
      "text/markdown": [
       "\n",
       "A grouped_df: 6 × 6\n",
       "\n",
       "| Animal_ID &lt;chr&gt; | Animal_Type &lt;chr&gt; | Sex &lt;chr&gt; | numerator &lt;dbl&gt; | Denominator &lt;dbl&gt; | interday_stability &lt;dbl&gt; |\n",
       "|---|---|---|---|---|---|\n",
       "| C57_Female_1 | C57 | Female | 9370320750 | 15794244857 | 0.5932744 |\n",
       "| C57_Female_2 | C57 | Female | 4171803934 |  9394500734 | 0.4440687 |\n",
       "| C57_Female_3 | C57 | Female | 3513119412 |  7579086572 | 0.4635281 |\n",
       "| C57_Female_4 | C57 | Female | 8167874250 | 12479584825 | 0.6544989 |\n",
       "| C57_Female_5 | C57 | Female | 6083094267 | 10427386446 | 0.5833767 |\n",
       "| C57_Female_6 | C57 | Female | 9109455806 | 14712740442 | 0.6191543 |\n",
       "\n"
      ],
      "text/plain": [
       "  Animal_ID    Animal_Type Sex    numerator  Denominator interday_stability\n",
       "1 C57_Female_1 C57         Female 9370320750 15794244857 0.5932744         \n",
       "2 C57_Female_2 C57         Female 4171803934  9394500734 0.4440687         \n",
       "3 C57_Female_3 C57         Female 3513119412  7579086572 0.4635281         \n",
       "4 C57_Female_4 C57         Female 8167874250 12479584825 0.6544989         \n",
       "5 C57_Female_5 C57         Female 6083094267 10427386446 0.5833767         \n",
       "6 C57_Female_6 C57         Female 9109455806 14712740442 0.6191543         "
      ]
     },
     "metadata": {},
     "output_type": "display_data"
    }
   ],
   "source": [
    "   Numerator_Inter <- Activity_Intra_Inter%>%group_by(Animal_ID)%>%mutate(grand_mean=mean(Activity))%>%#mean of all data per animal\n",
    "     ungroup()%>%group_by(format(start_hour,format = \"%H:%M:%S\"), Animal_ID, Animal_Type, Sex)%>%#group by each minute over the 7 days\n",
    "    summarize(to_sum=(mean(Activity)-grand_mean)^2)%>% #subtract means per minute over 7 days and mean of all data then square this\n",
    "     ungroup()%>%distinct()%>% #leads to 24*60=1440 rows per animal, one for each minute of one day\n",
    "    group_by(Animal_ID, Animal_Type, Sex)%>%summarize(numerator=(nrow(Activity_Intra_Inter)/36)*sum(to_sum)) #divide by 36 since total number of data is per animal\n",
    "    \n",
    "     Denominator_Inter <- Activity_Intra_Inter%>%group_by(Animal_ID)%>%mutate(grand_mean=mean(Activity))%>%#mean of all data per animal\n",
    "     ungroup()%>%mutate(Denominator=(Activity-grand_mean)^2)%>%group_by(Animal_ID)%>%#individual data points subtract mean of all data \n",
    "     summarize(Denominator=((nrow(Activity_Intra_Inter)/36)/7)*sum(Denominator))#divide by 36/7 for the number of data per day per animal\n",
    "\n",
    "Inter_Day_Stability <- left_join(Numerator_Inter, Denominator_Inter, by=\"Animal_ID\")%>%\n",
    "  mutate(interday_stability=numerator/Denominator) #Interdaily stability is the quotient of numerator and Denominator\n",
    "head(Inter_Day_Stability)"
   ]
  },
  {
   "cell_type": "markdown",
   "id": "dcd0450b-813a-4934-bdcc-852fa3aa1f27",
   "metadata": {},
   "source": [
    "We plot these data using a graphing function to make plotting individual sexes easier:"
   ]
  },
  {
   "cell_type": "code",
   "execution_count": 20,
   "id": "c653e8de-d8aa-4e6a-942f-7dd32d2a4603",
   "metadata": {},
   "outputs": [],
   "source": [
    "Inter_Day_Stability_Figure <- function(Data, label1){\n",
    "Data %>%group_by(Animal_Type)%>%\n",
    "  summarize(mean=mean(interday_stability), sd=std.error(interday_stability))%>%\n",
    "  ggplot(aes(x=Animal_Type, y=mean))+\n",
    "  geom_boxplot(width=.5,position=position_dodge(.05), lwd=.25)+\n",
    "  geom_errorbar(aes(ymin=mean-sd, ymax=mean+sd, color=Animal_Type), width=.35)+\n",
    "  geom_jitter(data=Data%>%\n",
    "                group_by(Animal_Type), aes(x=Animal_Type, y=interday_stability, \n",
    "                                           color=Animal_Type, shape=Animal_Type), size=2.1, \n",
    "              position=position_jitter(w = 0.1, h = 0))+\n",
    "  scale_y_continuous(breaks=c(0,.1,.2,.3,.4,.5,.6,.7),expand=expansion(mult=c(0,0.01)),limits = c(0,.7))+\n",
    "  labs(x=\"\",y=\"Interday Stability (IS)\")+\n",
    "  theme_bw()+\n",
    "  theme(legend.text=element_text(size=13),axis.text=element_text(size=12, color=\"black\", face=\"bold\"),\n",
    "        axis.text.x = element_text(angle = 0, vjust = 0.5, hjust=0.5),\n",
    "        axis.title.y=element_text(vjust=+1.8),\n",
    "        axis.title=element_text(size=13, face=\"bold\"),\n",
    "        axis.ticks= element_line(size=1, color=\"black\"),\n",
    "        axis.line = element_line(size=1),\n",
    "        axis.title.x=element_text(vjust=-0.5),\n",
    "        panel.border = element_blank(),\n",
    "        panel.grid.major = element_blank(), panel.grid.minor = element_blank(),\n",
    "        legend.title=element_blank(),\n",
    "        legend.position=\"none\")+\n",
    "  scale_color_manual(values=c(\"black\", \"red\"), labels=label1)+\n",
    "  scale_shape_manual(values=c(\"square\", \"circle\"), labels=label1)+\n",
    "  scale_x_discrete(labels=label1)\n",
    "}"
   ]
  },
  {
   "cell_type": "code",
   "execution_count": 21,
   "id": "e9675dcb-3659-4547-9851-dec5c71d2037",
   "metadata": {},
   "outputs": [
    {
     "data": {
      "text/plain": [
       "\n",
       "\tTwo Sample t-test\n",
       "\n",
       "data:  Inter_Day_Stability$interday_stability by Inter_Day_Stability$Animal_Type\n",
       "t = 1.1228, df = 34, p-value = 0.2694\n",
       "alternative hypothesis: true difference in means between group C57 and group Dexras1KO is not equal to 0\n",
       "95 percent confidence interval:\n",
       " -0.02238391  0.07765654\n",
       "sample estimates:\n",
       "      mean in group C57 mean in group Dexras1KO \n",
       "              0.4902000               0.4625637 \n"
      ]
     },
     "metadata": {},
     "output_type": "display_data"
    },
    {
     "data": {
      "image/png": "[encoded data removed]",
      "text/plain": [
       "plot without title"
      ]
     },
     "metadata": {
      "image/png": {
       "height": 212.5984,
       "width": 188.9764
      }
     },
     "output_type": "display_data"
    }
   ],
   "source": [
    "#t-test Interdaily Stability - Both Sexes\n",
    "t.test(Inter_Day_Stability$interday_stability~Inter_Day_Stability$Animal_Type, var.equal=TRUE)\n",
    "#Plot Interdaily Stability - Both Sexes\n",
    "options(repr.plot.width=8/2.54, repr.plot.height=9/2.54)\n",
    "Inter_Day_Stability_Figure(Inter_Day_Stability,c(\"wild_type\",\"Dexras1 KO\") )\n",
    "ggsave(\"Plots/InterDayStability_Plot.png\",width=8, height=9,units = \"cm\")"
   ]
  },
  {
   "cell_type": "code",
   "execution_count": 22,
   "id": "bca7422a-1e13-42aa-9048-7f2a9f1ec180",
   "metadata": {},
   "outputs": [
    {
     "data": {
      "text/plain": [
       "\n",
       "\tTwo Sample t-test\n",
       "\n",
       "data:  Inter_Day_Stability$interday_stability[Inter_Day_Stability$Sex == \"Male\"] by Inter_Day_Stability$Animal_Type[Inter_Day_Stability$Sex == \"Male\"]\n",
       "t = 0.0013687, df = 16, p-value = 0.9989\n",
       "alternative hypothesis: true difference in means between group C57 and group Dexras1KO is not equal to 0\n",
       "95 percent confidence interval:\n",
       " -0.03540790  0.03545365\n",
       "sample estimates:\n",
       "      mean in group C57 mean in group Dexras1KO \n",
       "              0.4314339               0.4314110 \n"
      ]
     },
     "metadata": {},
     "output_type": "display_data"
    },
    {
     "data": {
      "image/png": "[encoded data removed]",
      "text/plain": [
       "plot without title"
      ]
     },
     "metadata": {
      "image/png": {
       "height": 212.5984,
       "width": 188.9764
      }
     },
     "output_type": "display_data"
    }
   ],
   "source": [
    "#t-test Interday Stability - Males\n",
    "t.test(Inter_Day_Stability$interday_stability[Inter_Day_Stability$Sex==\"Male\"]~Inter_Day_Stability$Animal_Type[Inter_Day_Stability$Sex==\"Male\"], var.equal=TRUE)\n",
    "#Plot Interday Stability - Males\n",
    "options(repr.plot.width=8/2.54, repr.plot.height=9/2.54)\n",
    "Inter_Day_Stability_Figure(Inter_Day_Stability%>%filter(Sex==\"Male\"),c(\"wild_type M\",\"Dexras1 KO M\") )\n",
    "ggsave(\"Plots/InterDayStability_Plot_M.png\",width=8, height=9,units = \"cm\")\n"
   ]
  },
  {
   "cell_type": "code",
   "execution_count": 23,
   "id": "7d2fc3d1-84ea-4a87-abb9-393344e7ee0a",
   "metadata": {},
   "outputs": [
    {
     "data": {
      "text/plain": [
       "\n",
       "\tTwo Sample t-test\n",
       "\n",
       "data:  Inter_Day_Stability$interday_stability[Inter_Day_Stability$Sex == \"Female\"] by Inter_Day_Stability$Animal_Type[Inter_Day_Stability$Sex == \"Female\"]\n",
       "t = 1.602, df = 16, p-value = 0.1287\n",
       "alternative hypothesis: true difference in means between group C57 and group Dexras1KO is not equal to 0\n",
       "95 percent confidence interval:\n",
       " -0.01786051  0.12836002\n",
       "sample estimates:\n",
       "      mean in group C57 mean in group Dexras1KO \n",
       "              0.5489660               0.4937163 \n"
      ]
     },
     "metadata": {},
     "output_type": "display_data"
    },
    {
     "data": {
      "image/png": "[encoded data removed]",
      "text/plain": [
       "plot without title"
      ]
     },
     "metadata": {
      "image/png": {
       "height": 212.5984,
       "width": 188.9764
      }
     },
     "output_type": "display_data"
    }
   ],
   "source": [
    "#t-test Interday Stability - Females\n",
    "t.test(Inter_Day_Stability$interday_stability[Inter_Day_Stability$Sex==\"Female\"]~Inter_Day_Stability$Animal_Type[Inter_Day_Stability$Sex==\"Female\"], var.equal=TRUE)\n",
    "#Plot Interday Stability - Females\n",
    "options(repr.plot.width=8/2.54, repr.plot.height=9/2.54)\n",
    "Inter_Day_Stability_Figure(Inter_Day_Stability%>%filter(Sex==\"Female\"),c(\"wild_type F\",\"Dexras1 KO F\") )\n",
    "ggsave(\"Plots/InterDayStability_Plot_F.png\",width=8, height=9,units = \"cm\")"
   ]
  },
  {
   "cell_type": "markdown",
   "id": "052d2660-811a-4473-9466-b7afd8063b0c",
   "metadata": {
    "jp-MarkdownHeadingCollapsed": true,
    "tags": []
   },
   "source": [
    "## <center> Intraday Variability Calculation and Figures"
   ]
  },
  {
   "cell_type": "markdown",
   "id": "0dbe00fb-a740-4b25-8a19-fd97e6ec9155",
   "metadata": {},
   "source": [
    "We can also calculate Intraday variability:\n",
    "\n",
    "Intraday Variability = $\\frac{n\\sum_{i=2}^n(x_i-x_{i-1})^2}{(n-1)\\sum_{i=1}^n(x_i-\\bar{x})^2}$\n",
    "\n",
    "where $n$ is the total number of data, $p$ the number of data per day, $\\bar{x_m}$ the means per minute over the 7 days, $\\bar{x}$ the mean of all data, and $x_i$ the individual data points."
   ]
  },
  {
   "cell_type": "code",
   "execution_count": 24,
   "id": "78fbd8a2-e6ac-43a6-bc7a-5a339126edc4",
   "metadata": {},
   "outputs": [
    {
     "name": "stderr",
     "output_type": "stream",
     "text": [
      "`summarise()` has grouped output by 'Animal_ID', 'Animal_Type'. You can override using the `.groups` argument.\n"
     ]
    },
    {
     "data": {
      "text/html": [
       "<table class=\"dataframe\">\n",
       "<caption>A grouped_df: 6 × 6</caption>\n",
       "<thead>\n",
       "\t<tr><th scope=col>Animal_ID</th><th scope=col>Animal_Type</th><th scope=col>Sex</th><th scope=col>Numerator</th><th scope=col>denominator</th><th scope=col>intraday_variability</th></tr>\n",
       "\t<tr><th scope=col>&lt;chr&gt;</th><th scope=col>&lt;chr&gt;</th><th scope=col>&lt;chr&gt;</th><th scope=col>&lt;dbl&gt;</th><th scope=col>&lt;dbl&gt;</th><th scope=col>&lt;dbl&gt;</th></tr>\n",
       "</thead>\n",
       "<tbody>\n",
       "\t<tr><td>C57_Female_1</td><td>C57</td><td>Female</td><td>17985753632</td><td>110548745774</td><td>0.1626952</td></tr>\n",
       "\t<tr><td>C57_Female_2</td><td>C57</td><td>Female</td><td>21199412248</td><td> 65754981181</td><td>0.3224001</td></tr>\n",
       "\t<tr><td>C57_Female_3</td><td>C57</td><td>Female</td><td>20053891906</td><td> 53048342752</td><td>0.3780305</td></tr>\n",
       "\t<tr><td>C57_Female_4</td><td>C57</td><td>Female</td><td>18963761488</td><td> 87348427400</td><td>0.2171048</td></tr>\n",
       "\t<tr><td>C57_Female_5</td><td>C57</td><td>Female</td><td>23399706736</td><td> 72984463879</td><td>0.3206122</td></tr>\n",
       "\t<tr><td>C57_Female_6</td><td>C57</td><td>Female</td><td>18713363368</td><td>102978965912</td><td>0.1817202</td></tr>\n",
       "</tbody>\n",
       "</table>\n"
      ],
      "text/latex": [
       "A grouped\\_df: 6 × 6\n",
       "\\begin{tabular}{llllll}\n",
       " Animal\\_ID & Animal\\_Type & Sex & Numerator & denominator & intraday\\_variability\\\\\n",
       " <chr> & <chr> & <chr> & <dbl> & <dbl> & <dbl>\\\\\n",
       "\\hline\n",
       "\t C57\\_Female\\_1 & C57 & Female & 17985753632 & 110548745774 & 0.1626952\\\\\n",
       "\t C57\\_Female\\_2 & C57 & Female & 21199412248 &  65754981181 & 0.3224001\\\\\n",
       "\t C57\\_Female\\_3 & C57 & Female & 20053891906 &  53048342752 & 0.3780305\\\\\n",
       "\t C57\\_Female\\_4 & C57 & Female & 18963761488 &  87348427400 & 0.2171048\\\\\n",
       "\t C57\\_Female\\_5 & C57 & Female & 23399706736 &  72984463879 & 0.3206122\\\\\n",
       "\t C57\\_Female\\_6 & C57 & Female & 18713363368 & 102978965912 & 0.1817202\\\\\n",
       "\\end{tabular}\n"
      ],
      "text/markdown": [
       "\n",
       "A grouped_df: 6 × 6\n",
       "\n",
       "| Animal_ID &lt;chr&gt; | Animal_Type &lt;chr&gt; | Sex &lt;chr&gt; | Numerator &lt;dbl&gt; | denominator &lt;dbl&gt; | intraday_variability &lt;dbl&gt; |\n",
       "|---|---|---|---|---|---|\n",
       "| C57_Female_1 | C57 | Female | 17985753632 | 110548745774 | 0.1626952 |\n",
       "| C57_Female_2 | C57 | Female | 21199412248 |  65754981181 | 0.3224001 |\n",
       "| C57_Female_3 | C57 | Female | 20053891906 |  53048342752 | 0.3780305 |\n",
       "| C57_Female_4 | C57 | Female | 18963761488 |  87348427400 | 0.2171048 |\n",
       "| C57_Female_5 | C57 | Female | 23399706736 |  72984463879 | 0.3206122 |\n",
       "| C57_Female_6 | C57 | Female | 18713363368 | 102978965912 | 0.1817202 |\n",
       "\n"
      ],
      "text/plain": [
       "  Animal_ID    Animal_Type Sex    Numerator   denominator  intraday_variability\n",
       "1 C57_Female_1 C57         Female 17985753632 110548745774 0.1626952           \n",
       "2 C57_Female_2 C57         Female 21199412248  65754981181 0.3224001           \n",
       "3 C57_Female_3 C57         Female 20053891906  53048342752 0.3780305           \n",
       "4 C57_Female_4 C57         Female 18963761488  87348427400 0.2171048           \n",
       "5 C57_Female_5 C57         Female 23399706736  72984463879 0.3206122           \n",
       "6 C57_Female_6 C57         Female 18713363368 102978965912 0.1817202           "
      ]
     },
     "metadata": {},
     "output_type": "display_data"
    }
   ],
   "source": [
    "  #Intra-Day Variability from PIR Activity Data\n",
    "Numerator_Intra <-Activity_Intra_Inter%>%arrange(desc(Animal_ID))%>% #arrange in descending order of Animal_ID to subtract from the same animal (except for the first subtraction of each animal, which will be accounted in the for-loop below e.g. datapoint 10081)\n",
    "  mutate(to_subtract=c(NA,Activity[-length(Activity)]))%>% #create column of previous data points (i-1)\n",
    "    mutate(to_sum=(Activity-to_subtract)^2) #subtract individual data points (i) and previous data points (i-1) and square these into to_sum column\n",
    "to_sum1 <- Numerator_Intra$to_sum # define the difference squared (to_sum) as to_sum1, which will be used in for-loop to remove any difference squared values that come from different animals (first subtraction of each animal e.g. datapoint 10081)\n",
    " for (i in 2:nrow(Numerator_Intra)){  #to all rows except the very first, which does not have a previous value to query\n",
    "   to_sum1[i]<- ifelse(Numerator_Intra$Animal_ID[i-1]==Numerator_Intra$Animal_ID[i],  #If difference squared comes from the same animal\n",
    "         to_sum1[i], NA) #then keep to_sum1 value; otherwise, append the value to NA\n",
    " }\n",
    "\n",
    "  Numerator_Intra<-Numerator_Intra%>%mutate(to_sum=to_sum1)%>%na.omit()%>% # replace to_sum column with to_sum1 and remove any rows with NA values (first difference squared of animals)\n",
    "    group_by(Animal_ID, Animal_Type, Sex)%>%summarize(Numerator=(nrow(Activity_Intra_Inter)/36)*sum(to_sum)) # number of rows divide by 36 to get total data per animal multiplied by the sum of to_sum\n",
    "\n",
    "Denominator_Intra <- Activity_Intra_Inter%>%group_by(Animal_ID)%>%\n",
    "  mutate(grand_mean=mean(Activity))%>%#mean of all data\n",
    "  ungroup()%>%mutate(denominator=(Activity-grand_mean)^2)%>%group_by(Animal_ID)%>% #subtract individual data points and mean of all data, and square these\n",
    "  summarize(denominator=((nrow(Activity_Intra_Inter)/36)-1)*sum(denominator)) #divide by 36 to get total data per animal and subtract 1\n",
    "\n",
    "Intra_Day_Variability <- left_join(Numerator_Intra, Denominator_Intra, by=\"Animal_ID\")%>% \n",
    "  mutate(intraday_variability=Numerator/denominator) #Intraday variability is the quotient of Numerator and denominator\n",
    "head(Intra_Day_Variability)"
   ]
  },
  {
   "cell_type": "markdown",
   "id": "acbdbe11-b19e-429a-a9fd-6ce56051582b",
   "metadata": {},
   "source": [
    "We will produce a graphing function to make plotting males and females easily:"
   ]
  },
  {
   "cell_type": "code",
   "execution_count": 25,
   "id": "f224bcd0-38dc-48da-a787-a769d020702e",
   "metadata": {},
   "outputs": [],
   "source": [
    "Intra_Day_Variability_Figure <- function(Data, label1){\n",
    "Data %>%group_by(Animal_Type)%>%\n",
    "  summarize(mean=mean(intraday_variability), sd=std.error(intraday_variability))%>%\n",
    "  ggplot(aes(x=Animal_Type, y=mean))+\n",
    "  geom_boxplot(width=.5,position=position_dodge(.05), lwd=.25)+\n",
    "  geom_errorbar(aes(ymin=mean-sd, ymax=mean+sd, color=Animal_Type), width=.35)+\n",
    "  geom_jitter(data=Data%>%\n",
    "                group_by(Animal_Type), aes(x=Animal_Type, y=intraday_variability, \n",
    "                                           color=Animal_Type, shape=Animal_Type), size=2.1, \n",
    "              position=position_jitter(w = 0.1, h = 0))+\n",
    "  scale_y_continuous(breaks=c(0,.1,.2,.3,.4,.5),expand=expansion(mult=c(0,0.01)),limits = c(0,.5))+\n",
    "  labs(x=\"\",y=\"Intraday Variability (IV)\")+\n",
    "  theme_bw()+\n",
    "  theme(legend.text=element_text(size=13),axis.text=element_text(size=12, color=\"black\", face=\"bold\"),\n",
    "        axis.text.x = element_text(angle = 0, vjust = 0.5, hjust=0.5),\n",
    "        axis.title.y=element_text(vjust=+1.8),\n",
    "        axis.title=element_text(size=13, face=\"bold\"),\n",
    "        axis.ticks= element_line(size=1, color=\"black\"),\n",
    "        axis.line = element_line(size=1),\n",
    "        axis.title.x=element_text(vjust=-0.5),\n",
    "        panel.border = element_blank(),\n",
    "        panel.grid.major = element_blank(), panel.grid.minor = element_blank(),\n",
    "        legend.title=element_blank(),\n",
    "        legend.position=\"none\")+\n",
    "  scale_color_manual(values=c(\"black\", \"red\"), labels=label1)+\n",
    "  scale_shape_manual(values=c(\"square\", \"circle\"), labels=label1)+\n",
    "  scale_x_discrete(labels=label1)\n",
    "}\n"
   ]
  },
  {
   "cell_type": "code",
   "execution_count": 26,
   "id": "4b7db307-f413-4bd2-a70a-ecdd5a0d4562",
   "metadata": {},
   "outputs": [
    {
     "data": {
      "text/plain": [
       "\n",
       "\tTwo Sample t-test\n",
       "\n",
       "data:  Intra_Day_Variability$intraday_variability by Intra_Day_Variability$Animal_Type\n",
       "t = -3.0452, df = 34, p-value = 0.004469\n",
       "alternative hypothesis: true difference in means between group C57 and group Dexras1KO is not equal to 0\n",
       "95 percent confidence interval:\n",
       " -0.12557813 -0.02505342\n",
       "sample estimates:\n",
       "      mean in group C57 mean in group Dexras1KO \n",
       "              0.3188040               0.3941197 \n"
      ]
     },
     "metadata": {},
     "output_type": "display_data"
    },
    {
     "data": {
      "image/png": "[encoded data removed]",
      "text/plain": [
       "plot without title"
      ]
     },
     "metadata": {
      "image/png": {
       "height": 212.5984,
       "width": 188.9764
      }
     },
     "output_type": "display_data"
    }
   ],
   "source": [
    "#t-test Intraday Variability - Both sexes\n",
    "t.test(Intra_Day_Variability$intraday_variability~Intra_Day_Variability$Animal_Type, var.equal=TRUE)\n",
    "#Plot Intraday Variability - Both sexes\n",
    "options(repr.plot.width=8/2.54, repr.plot.height=9/2.54)\n",
    "Intra_Day_Variability_Figure(Intra_Day_Variability,c(\"wild_type\", \"Dexras1 KO\"))+\n",
    "  annotate(\"text\",x=1.5, y=.48, label=\"**\", angle=0, size=8)\n",
    "ggsave(\"Plots/IntraDayVariability_Plot.png\",width=8, height=9,units = \"cm\")"
   ]
  },
  {
   "cell_type": "code",
   "execution_count": 27,
   "id": "a3affcc9-342a-4fcf-a762-65ba20e9648c",
   "metadata": {},
   "outputs": [
    {
     "data": {
      "text/plain": [
       "\n",
       "\tTwo Sample t-test\n",
       "\n",
       "data:  Intra_Day_Variability$intraday_variability[Intra_Day_Variability$Sex == \"Male\"] by Intra_Day_Variability$Animal_Type[Intra_Day_Variability$Sex == \"Male\"]\n",
       "t = -0.95093, df = 16, p-value = 0.3558\n",
       "alternative hypothesis: true difference in means between group C57 and group Dexras1KO is not equal to 0\n",
       "95 percent confidence interval:\n",
       " -0.0715762  0.0272469\n",
       "sample estimates:\n",
       "      mean in group C57 mean in group Dexras1KO \n",
       "              0.3624770               0.3846416 \n"
      ]
     },
     "metadata": {},
     "output_type": "display_data"
    },
    {
     "data": {
      "image/png": "[encoded data removed]",
      "text/plain": [
       "plot without title"
      ]
     },
     "metadata": {
      "image/png": {
       "height": 212.5984,
       "width": 188.9764
      }
     },
     "output_type": "display_data"
    }
   ],
   "source": [
    "#t-test Intraday Variability - Males\n",
    "t.test(Intra_Day_Variability$intraday_variability[Intra_Day_Variability$Sex==\"Male\"]~Intra_Day_Variability$Animal_Type[Intra_Day_Variability$Sex==\"Male\"], var.equal=TRUE)\n",
    "#Plot Intraday Variability - Males\n",
    "options(repr.plot.width=8/2.54, repr.plot.height=9/2.54)\n",
    "Intra_Day_Variability_Figure(Intra_Day_Variability%>%filter(Sex==\"Male\"),c(\"wild_type M\", \"Dexras1 KO M\"))\n",
    "ggsave(\"Plots/IntraDayVariability_Plot_M.png\",width=8, height=9,units = \"cm\")"
   ]
  },
  {
   "cell_type": "code",
   "execution_count": 28,
   "id": "7030923f-4007-4bda-b2a8-0f129562e7cb",
   "metadata": {},
   "outputs": [
    {
     "data": {
      "text/plain": [
       "\n",
       "\tTwo Sample t-test\n",
       "\n",
       "data:  Intra_Day_Variability$intraday_variability[Intra_Day_Variability$Sex == \"Female\"] by Intra_Day_Variability$Animal_Type[Intra_Day_Variability$Sex == \"Female\"]\n",
       "t = -3.2556, df = 16, p-value = 0.004962\n",
       "alternative hypothesis: true difference in means between group C57 and group Dexras1KO is not equal to 0\n",
       "95 percent confidence interval:\n",
       " -0.21211926 -0.04481455\n",
       "sample estimates:\n",
       "      mean in group C57 mean in group Dexras1KO \n",
       "              0.2751310               0.4035979 \n"
      ]
     },
     "metadata": {},
     "output_type": "display_data"
    },
    {
     "data": {
      "image/png": "[encoded data removed]",
      "text/plain": [
       "plot without title"
      ]
     },
     "metadata": {
      "image/png": {
       "height": 212.5984,
       "width": 188.9764
      }
     },
     "output_type": "display_data"
    }
   ],
   "source": [
    "#t-test Intraday Variability - Females\n",
    "t.test(Intra_Day_Variability$intraday_variability[Intra_Day_Variability$Sex==\"Female\"]~Intra_Day_Variability$Animal_Type[Intra_Day_Variability$Sex==\"Female\"], var.equal=TRUE)\n",
    "#Plot Intraday Variability - Females\n",
    "options(repr.plot.width=8/2.54, repr.plot.height=9/2.54)\n",
    "Intra_Day_Variability_Figure(Intra_Day_Variability%>%filter(Sex==\"Female\"),c(\"wild_type F\", \"Dexras1 KO F\"))+\n",
    "  annotate(\"text\",x=1.5, y=.48, label=\"**\", angle=0, size=8)\n",
    "ggsave(\"Plots/IntraDayVariability_Plot_F.png\",width=8, height=9,units = \"cm\")"
   ]
  },
  {
   "cell_type": "markdown",
   "id": "615fd9c7-4a70-422e-8b84-50b7d9db1482",
   "metadata": {
    "jp-MarkdownHeadingCollapsed": true,
    "tags": []
   },
   "source": [
    "# <center> Baseline Activity by the Hour"
   ]
  },
  {
   "cell_type": "markdown",
   "id": "73ff171b-cae0-4a85-b2d0-6502a7384ffb",
   "metadata": {},
   "source": [
    "In terms of activity differences between Dexras1 KO and C57 wild-type mice, we can also ask if there is a difference in the mean activity per hour. Recall there were six mice per cohort (each having a PIR), with a total of six cohorts. The Tickling files all contain the same information, except their dates are relativized to the first cohort. We will define a dataframe (called Activity) which takes the mean activity per animal per hour, with data filtered by dates to only include baseline data:"
   ]
  },
  {
   "cell_type": "code",
   "execution_count": 29,
   "id": "bbdea97d-c315-4a59-96cd-2ca72de7e775",
   "metadata": {},
   "outputs": [
    {
     "name": "stderr",
     "output_type": "stream",
     "text": [
      "`summarise()` has grouped output by 'hour', 'Animal_Type', 'Sex', 'Number'. You can override using the `.groups` argument.\n"
     ]
    },
    {
     "data": {
      "text/html": [
       "<table class=\"dataframe\">\n",
       "<caption>A tibble: 6 × 6</caption>\n",
       "<thead>\n",
       "\t<tr><th scope=col>hour</th><th scope=col>Animal_Type</th><th scope=col>Sex</th><th scope=col>Number</th><th scope=col>Animal_ID</th><th scope=col>Activity1</th></tr>\n",
       "\t<tr><th scope=col>&lt;int&gt;</th><th scope=col>&lt;chr&gt;</th><th scope=col>&lt;chr&gt;</th><th scope=col>&lt;chr&gt;</th><th scope=col>&lt;chr&gt;</th><th scope=col>&lt;dbl&gt;</th></tr>\n",
       "</thead>\n",
       "<tbody>\n",
       "\t<tr><td>0</td><td>C57</td><td>Female</td><td>1</td><td>C57_Female_1</td><td>46.42076</td></tr>\n",
       "\t<tr><td>0</td><td>C57</td><td>Female</td><td>2</td><td>C57_Female_2</td><td>36.25750</td></tr>\n",
       "\t<tr><td>0</td><td>C57</td><td>Female</td><td>3</td><td>C57_Female_3</td><td>38.98377</td></tr>\n",
       "\t<tr><td>0</td><td>C57</td><td>Female</td><td>4</td><td>C57_Female_4</td><td>35.05311</td></tr>\n",
       "\t<tr><td>0</td><td>C57</td><td>Female</td><td>5</td><td>C57_Female_5</td><td>19.94203</td></tr>\n",
       "\t<tr><td>0</td><td>C57</td><td>Female</td><td>6</td><td>C57_Female_6</td><td>44.20103</td></tr>\n",
       "</tbody>\n",
       "</table>\n"
      ],
      "text/latex": [
       "A tibble: 6 × 6\n",
       "\\begin{tabular}{llllll}\n",
       " hour & Animal\\_Type & Sex & Number & Animal\\_ID & Activity1\\\\\n",
       " <int> & <chr> & <chr> & <chr> & <chr> & <dbl>\\\\\n",
       "\\hline\n",
       "\t 0 & C57 & Female & 1 & C57\\_Female\\_1 & 46.42076\\\\\n",
       "\t 0 & C57 & Female & 2 & C57\\_Female\\_2 & 36.25750\\\\\n",
       "\t 0 & C57 & Female & 3 & C57\\_Female\\_3 & 38.98377\\\\\n",
       "\t 0 & C57 & Female & 4 & C57\\_Female\\_4 & 35.05311\\\\\n",
       "\t 0 & C57 & Female & 5 & C57\\_Female\\_5 & 19.94203\\\\\n",
       "\t 0 & C57 & Female & 6 & C57\\_Female\\_6 & 44.20103\\\\\n",
       "\\end{tabular}\n"
      ],
      "text/markdown": [
       "\n",
       "A tibble: 6 × 6\n",
       "\n",
       "| hour &lt;int&gt; | Animal_Type &lt;chr&gt; | Sex &lt;chr&gt; | Number &lt;chr&gt; | Animal_ID &lt;chr&gt; | Activity1 &lt;dbl&gt; |\n",
       "|---|---|---|---|---|---|\n",
       "| 0 | C57 | Female | 1 | C57_Female_1 | 46.42076 |\n",
       "| 0 | C57 | Female | 2 | C57_Female_2 | 36.25750 |\n",
       "| 0 | C57 | Female | 3 | C57_Female_3 | 38.98377 |\n",
       "| 0 | C57 | Female | 4 | C57_Female_4 | 35.05311 |\n",
       "| 0 | C57 | Female | 5 | C57_Female_5 | 19.94203 |\n",
       "| 0 | C57 | Female | 6 | C57_Female_6 | 44.20103 |\n",
       "\n"
      ],
      "text/plain": [
       "  hour Animal_Type Sex    Number Animal_ID    Activity1\n",
       "1 0    C57         Female 1      C57_Female_1 46.42076 \n",
       "2 0    C57         Female 2      C57_Female_2 36.25750 \n",
       "3 0    C57         Female 3      C57_Female_3 38.98377 \n",
       "4 0    C57         Female 4      C57_Female_4 35.05311 \n",
       "5 0    C57         Female 5      C57_Female_5 19.94203 \n",
       "6 0    C57         Female 6      C57_Female_6 44.20103 "
      ]
     },
     "metadata": {},
     "output_type": "display_data"
    }
   ],
   "source": [
    "Activity <- cbind(Tickling%>%\n",
    "                                                filter(ymd_hms(start_hour)>=ymd_hms(\"2022-06-18T09:00:00\") & \n",
    "                                                         ymd_hms(start_hour)<ymd_hms(\"2022-06-25T09:00:00\"))%>% # filter for baseline data only\n",
    "                                                group_by(start_hour)%>%summarize_at(2:7, mean)%>% # take the means of 10-second interval that fall within a given hour\n",
    "                                                transmute(start_hour, C57_Male_1=PIR1, \n",
    "                                                          Dexras1KO_Male_1=PIR2,\n",
    "                                                          C57_Male_2=PIR3, \n",
    "                                                          Dexras1KO_Male_2=PIR4,\n",
    "                                                          C57_Male_3=PIR5, \n",
    "                                                          Dexras1KO_Male_3=PIR6), \n",
    "                                              Tickling1%>% filter(ymd_hms(start_hour)>=ymd_hms(\"2022-06-18T09:00:00\") & \n",
    "                                                                    ymd_hms(start_hour)<ymd_hms(\"2022-06-25T09:00:00\"))%>%\n",
    "                                                group_by(start_hour)%>%summarize_at(2:7, mean)%>%\n",
    "                                                transmute(start_hour, C57_Male_4=PIR1, \n",
    "                                                          Dexras1KO_Male_4=PIR2,\n",
    "                                                          C57_Male_5=PIR3, \n",
    "                                                          Dexras1KO_Male_5=PIR4,\n",
    "                                                          C57_Male_6=PIR5, \n",
    "                                                          Dexras1KO_Male_6=PIR6),\n",
    "                                              Tickling2%>% filter(ymd_hms(start_hour)>=ymd_hms(\"2022-06-18T09:00:00\") & \n",
    "                                                                    ymd_hms(start_hour)<ymd_hms(\"2022-06-25T09:00:00\"))%>%\n",
    "                                                group_by(start_hour)%>%summarize_at(2:7, mean)%>%\n",
    "                                                transmute(start_hour, C57_Female_1=PIR1, \n",
    "                                                          Dexras1KO_Female_1=PIR2,\n",
    "                                                          C57_Female_2=PIR3, \n",
    "                                                          Dexras1KO_Female_2=PIR4,\n",
    "                                                          C57_Female_3=PIR5, \n",
    "                                                          Dexras1KO_Female_3=PIR6),\n",
    "                                              Tickling3%>% filter(ymd_hms(start_hour)>=ymd_hms(\"2022-06-18T09:00:00\") & \n",
    "                                                                     ymd_hms(start_hour)<ymd_hms(\"2022-06-25T09:00:00\"))%>%\n",
    "                                                 group_by(start_hour)%>%summarize_at(2:7, mean)%>%\n",
    "                                                  transmute(start_hour, C57_Female_4=PIR1, \n",
    "                                              Dexras1KO_Female_4=PIR2,\n",
    "                                              C57_Female_5=PIR3, \n",
    "                                              Dexras1KO_Female_5=PIR4,\n",
    "                                              C57_Female_6=PIR5, \n",
    "                                              Dexras1KO_Female_6=PIR6),\n",
    "                      Tickling4%>% filter(ymd_hms(start_hour)>=ymd_hms(\"2022-06-18T09:00:00\") & \n",
    "                                            ymd_hms(start_hour)<ymd_hms(\"2022-06-25T09:00:00\"))%>%\n",
    "                        group_by(start_hour)%>%summarize_at(2:7, mean)%>%\n",
    "                        transmute(start_hour, C57_Male_7=PIR1, \n",
    "                                  Dexras1KO_Male_7=PIR2,\n",
    "                                  C57_Male_8=PIR3, \n",
    "                                  Dexras1KO_Male_8=PIR4,\n",
    "                                  C57_Male_9=PIR5, \n",
    "                                  Dexras1KO_Male_9=PIR6),\n",
    "                      Tickling5%>% filter(ymd_hms(start_hour)>=ymd_hms(\"2022-06-18T09:00:00\") & \n",
    "                                            ymd_hms(start_hour)<ymd_hms(\"2022-06-25T09:00:00\"))%>%\n",
    "                        group_by(start_hour)%>%summarize_at(2:7, mean)%>%\n",
    "                        transmute(start_hour, C57_Female_7=PIR1, \n",
    "                                  Dexras1KO_Female_7=PIR2,\n",
    "                                  C57_Female_8=PIR3, \n",
    "                                  Dexras1KO_Female_8=PIR4,\n",
    "                                  C57_Female_9=PIR5, \n",
    "                                  Dexras1KO_Female_9=PIR6)\n",
    "                      )%>%\n",
    "  pivot_longer(cols=c(2:37), names_to=\"Animal\", values_to=\"Activity\")%>% #pivot to longer format for plotting and statistics\n",
    "  mutate(Animal_ID=Animal)%>%\n",
    "  separate(col=\"Animal\", into=c(\"Animal_Type\", \"Sex\", \"Number\"), sep = \"_\")%>%\n",
    "  ungroup()%>%\n",
    "      mutate(start_hour=ymd_hms(start_hour)-hours(9))%>%\n",
    "      group_by(hour=hour(start_hour), Animal_Type, Sex, Number, Animal_ID)%>%\n",
    "      summarize(Activity1=mean(Activity))%>%ungroup()\n",
    "\n",
    "head(Activity)"
   ]
  },
  {
   "cell_type": "markdown",
   "id": "ef524847-167e-4981-bc3f-3bfe209db942",
   "metadata": {
    "jp-MarkdownHeadingCollapsed": true,
    "tags": []
   },
   "source": [
    "## <center> Baseline Hourly Activity - Line Graphs"
   ]
  },
  {
   "cell_type": "code",
   "execution_count": 30,
   "id": "5fcd8049-613c-4c4d-8d76-1d27a2f1136b",
   "metadata": {},
   "outputs": [],
   "source": [
    "Activity_Day_Figure <- function(Data, label1){\n",
    "    Data%>%group_by(hour, Animal_Type)%>%\n",
    "      summarize(mean=mean(Activity1), sd=std.error(Activity1))%>%\n",
    "      ggplot(aes(x=hour, y=mean))+\n",
    "      coord_cartesian(xlim = c(0, 23), clip = \"off\")+\n",
    "      annotate(\"rect\", xmin=12, xmax=24, ymin=-Inf, ymax=Inf, fill=\"#ECECEC\")+\n",
    "      labs(x=\"ZT\", y=\"% Activity (mean of hour)\")+\n",
    "      geom_line(size=1.1,aes(color=Animal_Type))+\n",
    "      geom_point(aes(color=Animal_Type, shape=Animal_Type), size=3)+\n",
    "      scale_y_continuous(expand=expansion(mult=c(0,0.01)),limits = c(0,60))+\n",
    "      geom_errorbar(aes(ymin=mean-sd, ymax=mean+sd, color=Animal_Type),width=.2)+\n",
    "      theme_bw()+\n",
    "      theme(legend.text=element_text(size=13),axis.text=element_text(size=26, color=\"black\", face=\"bold\"),\n",
    "            axis.text.x = element_text(angle = 0, vjust = 0.5, hjust=0.5),\n",
    "            axis.title.y=element_text(vjust=+1.8),\n",
    "            axis.title=element_text(size=26, face=\"bold\"),\n",
    "            axis.ticks= element_line(size=1, color=\"black\"),\n",
    "            axis.line = element_line(size=1),\n",
    "            axis.title.x=element_text(vjust=-0.5),\n",
    "            panel.border = element_blank(),\n",
    "            panel.grid.major = element_blank(), panel.grid.minor = element_blank(),\n",
    "            legend.title=element_blank())+\n",
    "            #legend.position=\"none\")+\n",
    "      scale_x_continuous(breaks=c(0,4,8,12,16,20))+\n",
    "      scale_color_manual(values=c(\"black\", \"red\"), labels=label1)+\n",
    "      scale_shape_manual(values=c(\"square\", \"circle\"), labels=label1)\n",
    "    }\n",
    "    "
   ]
  },
  {
   "cell_type": "code",
   "execution_count": 31,
   "id": "ebf82a02-5985-4dcd-9795-741e06fef8ee",
   "metadata": {},
   "outputs": [
    {
     "name": "stderr",
     "output_type": "stream",
     "text": [
      "Warning message:\n",
      "\"Converting \"Animal_ID\" to factor for ANOVA.\"\n",
      "Warning message:\n",
      "\"Converting \"Animal_Type\" to factor for ANOVA.\"\n"
     ]
    },
    {
     "data": {
      "text/html": [
       "<dl>\n",
       "\t<dt>$ANOVA</dt>\n",
       "\t\t<dd><table class=\"dataframe\">\n",
       "<caption>A data.frame: 3 × 7</caption>\n",
       "<thead>\n",
       "\t<tr><th></th><th scope=col>Effect</th><th scope=col>DFn</th><th scope=col>DFd</th><th scope=col>F</th><th scope=col>p</th><th scope=col>p&lt;.05</th><th scope=col>ges</th></tr>\n",
       "\t<tr><th></th><th scope=col>&lt;chr&gt;</th><th scope=col>&lt;dbl&gt;</th><th scope=col>&lt;dbl&gt;</th><th scope=col>&lt;dbl&gt;</th><th scope=col>&lt;dbl&gt;</th><th scope=col>&lt;chr&gt;</th><th scope=col>&lt;dbl&gt;</th></tr>\n",
       "</thead>\n",
       "<tbody>\n",
       "\t<tr><th scope=row>2</th><td>Animal_Type     </td><td> 1</td><td> 34</td><td>  5.025426</td><td> 3.161274e-02</td><td>*</td><td>0.05058427</td></tr>\n",
       "\t<tr><th scope=row>3</th><td>hour            </td><td>23</td><td>782</td><td>121.954944</td><td>2.730333e-240</td><td>*</td><td>0.69641298</td></tr>\n",
       "\t<tr><th scope=row>4</th><td>Animal_Type:hour</td><td>23</td><td>782</td><td>  3.526509</td><td> 6.200418e-08</td><td>*</td><td>0.06220660</td></tr>\n",
       "</tbody>\n",
       "</table>\n",
       "</dd>\n",
       "\t<dt>$`Mauchly's Test for Sphericity`</dt>\n",
       "\t\t<dd><table class=\"dataframe\">\n",
       "<caption>A data.frame: 2 × 4</caption>\n",
       "<thead>\n",
       "\t<tr><th></th><th scope=col>Effect</th><th scope=col>W</th><th scope=col>p</th><th scope=col>p&lt;.05</th></tr>\n",
       "\t<tr><th></th><th scope=col>&lt;chr&gt;</th><th scope=col>&lt;dbl&gt;</th><th scope=col>&lt;dbl&gt;</th><th scope=col>&lt;chr&gt;</th></tr>\n",
       "</thead>\n",
       "<tbody>\n",
       "\t<tr><th scope=row>3</th><td>hour            </td><td>3.015531e-20</td><td>8.979514e-110</td><td>*</td></tr>\n",
       "\t<tr><th scope=row>4</th><td>Animal_Type:hour</td><td>3.015531e-20</td><td>8.979514e-110</td><td>*</td></tr>\n",
       "</tbody>\n",
       "</table>\n",
       "</dd>\n",
       "\t<dt>$`Sphericity Corrections`</dt>\n",
       "\t\t<dd><table class=\"dataframe\">\n",
       "<caption>A data.frame: 2 × 7</caption>\n",
       "<thead>\n",
       "\t<tr><th></th><th scope=col>Effect</th><th scope=col>GGe</th><th scope=col>p[GG]</th><th scope=col>p[GG]&lt;.05</th><th scope=col>HFe</th><th scope=col>p[HF]</th><th scope=col>p[HF]&lt;.05</th></tr>\n",
       "\t<tr><th></th><th scope=col>&lt;chr&gt;</th><th scope=col>&lt;dbl&gt;</th><th scope=col>&lt;dbl&gt;</th><th scope=col>&lt;chr&gt;</th><th scope=col>&lt;dbl&gt;</th><th scope=col>&lt;dbl&gt;</th><th scope=col>&lt;chr&gt;</th></tr>\n",
       "</thead>\n",
       "<tbody>\n",
       "\t<tr><th scope=row>3</th><td>hour            </td><td>0.1254014</td><td>2.094527e-32</td><td>*</td><td>0.1382609</td><td>1.786718e-35</td><td>*</td></tr>\n",
       "\t<tr><th scope=row>4</th><td>Animal_Type:hour</td><td>0.1254014</td><td>1.905408e-02</td><td>*</td><td>0.1382609</td><td>1.559536e-02</td><td>*</td></tr>\n",
       "</tbody>\n",
       "</table>\n",
       "</dd>\n",
       "</dl>\n"
      ],
      "text/latex": [
       "\\begin{description}\n",
       "\\item[\\$ANOVA] A data.frame: 3 × 7\n",
       "\\begin{tabular}{r|lllllll}\n",
       "  & Effect & DFn & DFd & F & p & p<.05 & ges\\\\\n",
       "  & <chr> & <dbl> & <dbl> & <dbl> & <dbl> & <chr> & <dbl>\\\\\n",
       "\\hline\n",
       "\t2 & Animal\\_Type      &  1 &  34 &   5.025426 &  3.161274e-02 & * & 0.05058427\\\\\n",
       "\t3 & hour             & 23 & 782 & 121.954944 & 2.730333e-240 & * & 0.69641298\\\\\n",
       "\t4 & Animal\\_Type:hour & 23 & 782 &   3.526509 &  6.200418e-08 & * & 0.06220660\\\\\n",
       "\\end{tabular}\n",
       "\n",
       "\\item[\\$`Mauchly's Test for Sphericity`] A data.frame: 2 × 4\n",
       "\\begin{tabular}{r|llll}\n",
       "  & Effect & W & p & p<.05\\\\\n",
       "  & <chr> & <dbl> & <dbl> & <chr>\\\\\n",
       "\\hline\n",
       "\t3 & hour             & 3.015531e-20 & 8.979514e-110 & *\\\\\n",
       "\t4 & Animal\\_Type:hour & 3.015531e-20 & 8.979514e-110 & *\\\\\n",
       "\\end{tabular}\n",
       "\n",
       "\\item[\\$`Sphericity Corrections`] A data.frame: 2 × 7\n",
       "\\begin{tabular}{r|lllllll}\n",
       "  & Effect & GGe & p{[}GG{]} & p{[}GG{]}<.05 & HFe & p{[}HF{]} & p{[}HF{]}<.05\\\\\n",
       "  & <chr> & <dbl> & <dbl> & <chr> & <dbl> & <dbl> & <chr>\\\\\n",
       "\\hline\n",
       "\t3 & hour             & 0.1254014 & 2.094527e-32 & * & 0.1382609 & 1.786718e-35 & *\\\\\n",
       "\t4 & Animal\\_Type:hour & 0.1254014 & 1.905408e-02 & * & 0.1382609 & 1.559536e-02 & *\\\\\n",
       "\\end{tabular}\n",
       "\n",
       "\\end{description}\n"
      ],
      "text/markdown": [
       "$ANOVA\n",
       ":   \n",
       "A data.frame: 3 × 7\n",
       "\n",
       "| <!--/--> | Effect &lt;chr&gt; | DFn &lt;dbl&gt; | DFd &lt;dbl&gt; | F &lt;dbl&gt; | p &lt;dbl&gt; | p&lt;.05 &lt;chr&gt; | ges &lt;dbl&gt; |\n",
       "|---|---|---|---|---|---|---|---|\n",
       "| 2 | Animal_Type      |  1 |  34 |   5.025426 |  3.161274e-02 | * | 0.05058427 |\n",
       "| 3 | hour             | 23 | 782 | 121.954944 | 2.730333e-240 | * | 0.69641298 |\n",
       "| 4 | Animal_Type:hour | 23 | 782 |   3.526509 |  6.200418e-08 | * | 0.06220660 |\n",
       "\n",
       "\n",
       "$`Mauchly's Test for Sphericity`\n",
       ":   \n",
       "A data.frame: 2 × 4\n",
       "\n",
       "| <!--/--> | Effect &lt;chr&gt; | W &lt;dbl&gt; | p &lt;dbl&gt; | p&lt;.05 &lt;chr&gt; |\n",
       "|---|---|---|---|---|\n",
       "| 3 | hour             | 3.015531e-20 | 8.979514e-110 | * |\n",
       "| 4 | Animal_Type:hour | 3.015531e-20 | 8.979514e-110 | * |\n",
       "\n",
       "\n",
       "$`Sphericity Corrections`\n",
       ":   \n",
       "A data.frame: 2 × 7\n",
       "\n",
       "| <!--/--> | Effect &lt;chr&gt; | GGe &lt;dbl&gt; | p[GG] &lt;dbl&gt; | p[GG]&lt;.05 &lt;chr&gt; | HFe &lt;dbl&gt; | p[HF] &lt;dbl&gt; | p[HF]&lt;.05 &lt;chr&gt; |\n",
       "|---|---|---|---|---|---|---|---|\n",
       "| 3 | hour             | 0.1254014 | 2.094527e-32 | * | 0.1382609 | 1.786718e-35 | * |\n",
       "| 4 | Animal_Type:hour | 0.1254014 | 1.905408e-02 | * | 0.1382609 | 1.559536e-02 | * |\n",
       "\n",
       "\n",
       "\n",
       "\n"
      ],
      "text/plain": [
       "$ANOVA\n",
       "            Effect DFn DFd          F             p p<.05        ges\n",
       "2      Animal_Type   1  34   5.025426  3.161274e-02     * 0.05058427\n",
       "3             hour  23 782 121.954944 2.730333e-240     * 0.69641298\n",
       "4 Animal_Type:hour  23 782   3.526509  6.200418e-08     * 0.06220660\n",
       "\n",
       "$`Mauchly's Test for Sphericity`\n",
       "            Effect            W             p p<.05\n",
       "3             hour 3.015531e-20 8.979514e-110     *\n",
       "4 Animal_Type:hour 3.015531e-20 8.979514e-110     *\n",
       "\n",
       "$`Sphericity Corrections`\n",
       "            Effect       GGe        p[GG] p[GG]<.05       HFe        p[HF]\n",
       "3             hour 0.1254014 2.094527e-32         * 0.1382609 1.786718e-35\n",
       "4 Animal_Type:hour 0.1254014 1.905408e-02         * 0.1382609 1.559536e-02\n",
       "  p[HF]<.05\n",
       "3         *\n",
       "4         *\n"
      ]
     },
     "metadata": {},
     "output_type": "display_data"
    },
    {
     "name": "stderr",
     "output_type": "stream",
     "text": [
      "Coefficient covariances computed by hccm()\n",
      "\n",
      "Coefficient covariances computed by hccm()\n",
      "\n",
      "Coefficient covariances computed by hccm()\n",
      "\n",
      "Coefficient covariances computed by hccm()\n",
      "\n",
      "Coefficient covariances computed by hccm()\n",
      "\n",
      "Coefficient covariances computed by hccm()\n",
      "\n",
      "Coefficient covariances computed by hccm()\n",
      "\n",
      "Coefficient covariances computed by hccm()\n",
      "\n",
      "Coefficient covariances computed by hccm()\n",
      "\n",
      "Coefficient covariances computed by hccm()\n",
      "\n",
      "Coefficient covariances computed by hccm()\n",
      "\n",
      "Coefficient covariances computed by hccm()\n",
      "\n",
      "Coefficient covariances computed by hccm()\n",
      "\n",
      "Coefficient covariances computed by hccm()\n",
      "\n",
      "Coefficient covariances computed by hccm()\n",
      "\n",
      "Coefficient covariances computed by hccm()\n",
      "\n",
      "Coefficient covariances computed by hccm()\n",
      "\n",
      "Coefficient covariances computed by hccm()\n",
      "\n",
      "Coefficient covariances computed by hccm()\n",
      "\n",
      "Coefficient covariances computed by hccm()\n",
      "\n",
      "Coefficient covariances computed by hccm()\n",
      "\n",
      "Coefficient covariances computed by hccm()\n",
      "\n",
      "Coefficient covariances computed by hccm()\n",
      "\n",
      "Coefficient covariances computed by hccm()\n",
      "\n"
     ]
    },
    {
     "data": {
      "text/html": [
       "<table class=\"dataframe\">\n",
       "<caption>A grouped_anova_test: 24 × 9</caption>\n",
       "<thead>\n",
       "\t<tr><th></th><th scope=col>hour</th><th scope=col>Effect</th><th scope=col>DFn</th><th scope=col>DFd</th><th scope=col>F</th><th scope=col>p</th><th scope=col>p&lt;.05</th><th scope=col>ges</th><th scope=col>p.adj</th></tr>\n",
       "\t<tr><th></th><th scope=col>&lt;int&gt;</th><th scope=col>&lt;chr&gt;</th><th scope=col>&lt;dbl&gt;</th><th scope=col>&lt;dbl&gt;</th><th scope=col>&lt;dbl&gt;</th><th scope=col>&lt;dbl&gt;</th><th scope=col>&lt;chr&gt;</th><th scope=col>&lt;dbl&gt;</th><th scope=col>&lt;dbl&gt;</th></tr>\n",
       "</thead>\n",
       "<tbody>\n",
       "\t<tr><th scope=row>1</th><td> 0</td><td>Animal_Type</td><td>1</td><td>34</td><td> 8.064</td><td>0.008</td><td>*</td><td>0.192</td><td>0.03840000</td></tr>\n",
       "\t<tr><th scope=row>2</th><td> 1</td><td>Animal_Type</td><td>1</td><td>34</td><td> 8.928</td><td>0.005</td><td>*</td><td>0.208</td><td>0.03000000</td></tr>\n",
       "\t<tr><th scope=row>3</th><td> 2</td><td>Animal_Type</td><td>1</td><td>34</td><td> 4.834</td><td>0.035</td><td>*</td><td>0.124</td><td>0.07000000</td></tr>\n",
       "\t<tr><th scope=row>4</th><td> 3</td><td>Animal_Type</td><td>1</td><td>34</td><td> 4.105</td><td>0.051</td><td> </td><td>0.108</td><td>0.08550000</td></tr>\n",
       "\t<tr><th scope=row>5</th><td> 4</td><td>Animal_Type</td><td>1</td><td>34</td><td>12.502</td><td>0.001</td><td>*</td><td>0.269</td><td>0.02400000</td></tr>\n",
       "\t<tr><th scope=row>6</th><td> 5</td><td>Animal_Type</td><td>1</td><td>34</td><td>10.248</td><td>0.003</td><td>*</td><td>0.232</td><td>0.02400000</td></tr>\n",
       "\t<tr><th scope=row>7</th><td> 6</td><td>Animal_Type</td><td>1</td><td>34</td><td>11.505</td><td>0.002</td><td>*</td><td>0.253</td><td>0.02400000</td></tr>\n",
       "\t<tr><th scope=row>8</th><td> 7</td><td>Animal_Type</td><td>1</td><td>34</td><td> 2.962</td><td>0.094</td><td> </td><td>0.080</td><td>0.13270588</td></tr>\n",
       "\t<tr><th scope=row>9</th><td> 8</td><td>Animal_Type</td><td>1</td><td>34</td><td> 7.143</td><td>0.011</td><td>*</td><td>0.174</td><td>0.04400000</td></tr>\n",
       "\t<tr><th scope=row>10</th><td> 9</td><td>Animal_Type</td><td>1</td><td>34</td><td> 4.623</td><td>0.039</td><td>*</td><td>0.120</td><td>0.07200000</td></tr>\n",
       "\t<tr><th scope=row>11</th><td>10</td><td>Animal_Type</td><td>1</td><td>34</td><td> 2.041</td><td>0.162</td><td> </td><td>0.057</td><td>0.21600000</td></tr>\n",
       "\t<tr><th scope=row>12</th><td>11</td><td>Animal_Type</td><td>1</td><td>34</td><td> 0.606</td><td>0.442</td><td> </td><td>0.018</td><td>0.46121739</td></tr>\n",
       "\t<tr><th scope=row>13</th><td>12</td><td>Animal_Type</td><td>1</td><td>34</td><td> 0.077</td><td>0.783</td><td> </td><td>0.002</td><td>0.78300000</td></tr>\n",
       "\t<tr><th scope=row>14</th><td>13</td><td>Animal_Type</td><td>1</td><td>34</td><td> 0.801</td><td>0.377</td><td> </td><td>0.023</td><td>0.41127273</td></tr>\n",
       "\t<tr><th scope=row>15</th><td>14</td><td>Animal_Type</td><td>1</td><td>34</td><td> 1.278</td><td>0.266</td><td> </td><td>0.036</td><td>0.33600000</td></tr>\n",
       "\t<tr><th scope=row>16</th><td>15</td><td>Animal_Type</td><td>1</td><td>34</td><td> 3.973</td><td>0.054</td><td> </td><td>0.105</td><td>0.08550000</td></tr>\n",
       "\t<tr><th scope=row>17</th><td>16</td><td>Animal_Type</td><td>1</td><td>34</td><td> 6.903</td><td>0.013</td><td>*</td><td>0.169</td><td>0.04457143</td></tr>\n",
       "\t<tr><th scope=row>18</th><td>17</td><td>Animal_Type</td><td>1</td><td>34</td><td> 6.065</td><td>0.019</td><td>*</td><td>0.151</td><td>0.05040000</td></tr>\n",
       "\t<tr><th scope=row>19</th><td>18</td><td>Animal_Type</td><td>1</td><td>34</td><td> 5.571</td><td>0.024</td><td>*</td><td>0.141</td><td>0.05236364</td></tr>\n",
       "\t<tr><th scope=row>20</th><td>19</td><td>Animal_Type</td><td>1</td><td>34</td><td> 0.959</td><td>0.334</td><td> </td><td>0.027</td><td>0.38171429</td></tr>\n",
       "\t<tr><th scope=row>21</th><td>20</td><td>Animal_Type</td><td>1</td><td>34</td><td> 3.870</td><td>0.057</td><td> </td><td>0.102</td><td>0.08550000</td></tr>\n",
       "\t<tr><th scope=row>22</th><td>21</td><td>Animal_Type</td><td>1</td><td>34</td><td> 1.137</td><td>0.294</td><td> </td><td>0.032</td><td>0.35280000</td></tr>\n",
       "\t<tr><th scope=row>23</th><td>22</td><td>Animal_Type</td><td>1</td><td>34</td><td> 5.878</td><td>0.021</td><td>*</td><td>0.147</td><td>0.05040000</td></tr>\n",
       "\t<tr><th scope=row>24</th><td>23</td><td>Animal_Type</td><td>1</td><td>34</td><td> 6.411</td><td>0.016</td><td>*</td><td>0.159</td><td>0.04800000</td></tr>\n",
       "</tbody>\n",
       "</table>\n"
      ],
      "text/latex": [
       "A grouped\\_anova\\_test: 24 × 9\n",
       "\\begin{tabular}{r|lllllllll}\n",
       "  & hour & Effect & DFn & DFd & F & p & p<.05 & ges & p.adj\\\\\n",
       "  & <int> & <chr> & <dbl> & <dbl> & <dbl> & <dbl> & <chr> & <dbl> & <dbl>\\\\\n",
       "\\hline\n",
       "\t1 &  0 & Animal\\_Type & 1 & 34 &  8.064 & 0.008 & * & 0.192 & 0.03840000\\\\\n",
       "\t2 &  1 & Animal\\_Type & 1 & 34 &  8.928 & 0.005 & * & 0.208 & 0.03000000\\\\\n",
       "\t3 &  2 & Animal\\_Type & 1 & 34 &  4.834 & 0.035 & * & 0.124 & 0.07000000\\\\\n",
       "\t4 &  3 & Animal\\_Type & 1 & 34 &  4.105 & 0.051 &   & 0.108 & 0.08550000\\\\\n",
       "\t5 &  4 & Animal\\_Type & 1 & 34 & 12.502 & 0.001 & * & 0.269 & 0.02400000\\\\\n",
       "\t6 &  5 & Animal\\_Type & 1 & 34 & 10.248 & 0.003 & * & 0.232 & 0.02400000\\\\\n",
       "\t7 &  6 & Animal\\_Type & 1 & 34 & 11.505 & 0.002 & * & 0.253 & 0.02400000\\\\\n",
       "\t8 &  7 & Animal\\_Type & 1 & 34 &  2.962 & 0.094 &   & 0.080 & 0.13270588\\\\\n",
       "\t9 &  8 & Animal\\_Type & 1 & 34 &  7.143 & 0.011 & * & 0.174 & 0.04400000\\\\\n",
       "\t10 &  9 & Animal\\_Type & 1 & 34 &  4.623 & 0.039 & * & 0.120 & 0.07200000\\\\\n",
       "\t11 & 10 & Animal\\_Type & 1 & 34 &  2.041 & 0.162 &   & 0.057 & 0.21600000\\\\\n",
       "\t12 & 11 & Animal\\_Type & 1 & 34 &  0.606 & 0.442 &   & 0.018 & 0.46121739\\\\\n",
       "\t13 & 12 & Animal\\_Type & 1 & 34 &  0.077 & 0.783 &   & 0.002 & 0.78300000\\\\\n",
       "\t14 & 13 & Animal\\_Type & 1 & 34 &  0.801 & 0.377 &   & 0.023 & 0.41127273\\\\\n",
       "\t15 & 14 & Animal\\_Type & 1 & 34 &  1.278 & 0.266 &   & 0.036 & 0.33600000\\\\\n",
       "\t16 & 15 & Animal\\_Type & 1 & 34 &  3.973 & 0.054 &   & 0.105 & 0.08550000\\\\\n",
       "\t17 & 16 & Animal\\_Type & 1 & 34 &  6.903 & 0.013 & * & 0.169 & 0.04457143\\\\\n",
       "\t18 & 17 & Animal\\_Type & 1 & 34 &  6.065 & 0.019 & * & 0.151 & 0.05040000\\\\\n",
       "\t19 & 18 & Animal\\_Type & 1 & 34 &  5.571 & 0.024 & * & 0.141 & 0.05236364\\\\\n",
       "\t20 & 19 & Animal\\_Type & 1 & 34 &  0.959 & 0.334 &   & 0.027 & 0.38171429\\\\\n",
       "\t21 & 20 & Animal\\_Type & 1 & 34 &  3.870 & 0.057 &   & 0.102 & 0.08550000\\\\\n",
       "\t22 & 21 & Animal\\_Type & 1 & 34 &  1.137 & 0.294 &   & 0.032 & 0.35280000\\\\\n",
       "\t23 & 22 & Animal\\_Type & 1 & 34 &  5.878 & 0.021 & * & 0.147 & 0.05040000\\\\\n",
       "\t24 & 23 & Animal\\_Type & 1 & 34 &  6.411 & 0.016 & * & 0.159 & 0.04800000\\\\\n",
       "\\end{tabular}\n"
      ],
      "text/markdown": [
       "\n",
       "A grouped_anova_test: 24 × 9\n",
       "\n",
       "| <!--/--> | hour &lt;int&gt; | Effect &lt;chr&gt; | DFn &lt;dbl&gt; | DFd &lt;dbl&gt; | F &lt;dbl&gt; | p &lt;dbl&gt; | p&lt;.05 &lt;chr&gt; | ges &lt;dbl&gt; | p.adj &lt;dbl&gt; |\n",
       "|---|---|---|---|---|---|---|---|---|---|\n",
       "| 1 |  0 | Animal_Type | 1 | 34 |  8.064 | 0.008 | * | 0.192 | 0.03840000 |\n",
       "| 2 |  1 | Animal_Type | 1 | 34 |  8.928 | 0.005 | * | 0.208 | 0.03000000 |\n",
       "| 3 |  2 | Animal_Type | 1 | 34 |  4.834 | 0.035 | * | 0.124 | 0.07000000 |\n",
       "| 4 |  3 | Animal_Type | 1 | 34 |  4.105 | 0.051 | <!----> | 0.108 | 0.08550000 |\n",
       "| 5 |  4 | Animal_Type | 1 | 34 | 12.502 | 0.001 | * | 0.269 | 0.02400000 |\n",
       "| 6 |  5 | Animal_Type | 1 | 34 | 10.248 | 0.003 | * | 0.232 | 0.02400000 |\n",
       "| 7 |  6 | Animal_Type | 1 | 34 | 11.505 | 0.002 | * | 0.253 | 0.02400000 |\n",
       "| 8 |  7 | Animal_Type | 1 | 34 |  2.962 | 0.094 | <!----> | 0.080 | 0.13270588 |\n",
       "| 9 |  8 | Animal_Type | 1 | 34 |  7.143 | 0.011 | * | 0.174 | 0.04400000 |\n",
       "| 10 |  9 | Animal_Type | 1 | 34 |  4.623 | 0.039 | * | 0.120 | 0.07200000 |\n",
       "| 11 | 10 | Animal_Type | 1 | 34 |  2.041 | 0.162 | <!----> | 0.057 | 0.21600000 |\n",
       "| 12 | 11 | Animal_Type | 1 | 34 |  0.606 | 0.442 | <!----> | 0.018 | 0.46121739 |\n",
       "| 13 | 12 | Animal_Type | 1 | 34 |  0.077 | 0.783 | <!----> | 0.002 | 0.78300000 |\n",
       "| 14 | 13 | Animal_Type | 1 | 34 |  0.801 | 0.377 | <!----> | 0.023 | 0.41127273 |\n",
       "| 15 | 14 | Animal_Type | 1 | 34 |  1.278 | 0.266 | <!----> | 0.036 | 0.33600000 |\n",
       "| 16 | 15 | Animal_Type | 1 | 34 |  3.973 | 0.054 | <!----> | 0.105 | 0.08550000 |\n",
       "| 17 | 16 | Animal_Type | 1 | 34 |  6.903 | 0.013 | * | 0.169 | 0.04457143 |\n",
       "| 18 | 17 | Animal_Type | 1 | 34 |  6.065 | 0.019 | * | 0.151 | 0.05040000 |\n",
       "| 19 | 18 | Animal_Type | 1 | 34 |  5.571 | 0.024 | * | 0.141 | 0.05236364 |\n",
       "| 20 | 19 | Animal_Type | 1 | 34 |  0.959 | 0.334 | <!----> | 0.027 | 0.38171429 |\n",
       "| 21 | 20 | Animal_Type | 1 | 34 |  3.870 | 0.057 | <!----> | 0.102 | 0.08550000 |\n",
       "| 22 | 21 | Animal_Type | 1 | 34 |  1.137 | 0.294 | <!----> | 0.032 | 0.35280000 |\n",
       "| 23 | 22 | Animal_Type | 1 | 34 |  5.878 | 0.021 | * | 0.147 | 0.05040000 |\n",
       "| 24 | 23 | Animal_Type | 1 | 34 |  6.411 | 0.016 | * | 0.159 | 0.04800000 |\n",
       "\n"
      ],
      "text/plain": [
       "   hour Effect      DFn DFd F      p     p<.05 ges   p.adj     \n",
       "1   0   Animal_Type 1   34   8.064 0.008 *     0.192 0.03840000\n",
       "2   1   Animal_Type 1   34   8.928 0.005 *     0.208 0.03000000\n",
       "3   2   Animal_Type 1   34   4.834 0.035 *     0.124 0.07000000\n",
       "4   3   Animal_Type 1   34   4.105 0.051       0.108 0.08550000\n",
       "5   4   Animal_Type 1   34  12.502 0.001 *     0.269 0.02400000\n",
       "6   5   Animal_Type 1   34  10.248 0.003 *     0.232 0.02400000\n",
       "7   6   Animal_Type 1   34  11.505 0.002 *     0.253 0.02400000\n",
       "8   7   Animal_Type 1   34   2.962 0.094       0.080 0.13270588\n",
       "9   8   Animal_Type 1   34   7.143 0.011 *     0.174 0.04400000\n",
       "10  9   Animal_Type 1   34   4.623 0.039 *     0.120 0.07200000\n",
       "11 10   Animal_Type 1   34   2.041 0.162       0.057 0.21600000\n",
       "12 11   Animal_Type 1   34   0.606 0.442       0.018 0.46121739\n",
       "13 12   Animal_Type 1   34   0.077 0.783       0.002 0.78300000\n",
       "14 13   Animal_Type 1   34   0.801 0.377       0.023 0.41127273\n",
       "15 14   Animal_Type 1   34   1.278 0.266       0.036 0.33600000\n",
       "16 15   Animal_Type 1   34   3.973 0.054       0.105 0.08550000\n",
       "17 16   Animal_Type 1   34   6.903 0.013 *     0.169 0.04457143\n",
       "18 17   Animal_Type 1   34   6.065 0.019 *     0.151 0.05040000\n",
       "19 18   Animal_Type 1   34   5.571 0.024 *     0.141 0.05236364\n",
       "20 19   Animal_Type 1   34   0.959 0.334       0.027 0.38171429\n",
       "21 20   Animal_Type 1   34   3.870 0.057       0.102 0.08550000\n",
       "22 21   Animal_Type 1   34   1.137 0.294       0.032 0.35280000\n",
       "23 22   Animal_Type 1   34   5.878 0.021 *     0.147 0.05040000\n",
       "24 23   Animal_Type 1   34   6.411 0.016 *     0.159 0.04800000"
      ]
     },
     "metadata": {},
     "output_type": "display_data"
    },
    {
     "name": "stderr",
     "output_type": "stream",
     "text": [
      "`summarise()` has grouped output by 'hour'. You can override using the `.groups` argument.\n"
     ]
    },
    {
     "data": {
      "image/png": "[encoded data removed]",
      "text/plain": [
       "plot without title"
      ]
     },
     "metadata": {
      "image/png": {
       "height": 377.9528,
       "width": 708.6614
      }
     },
     "output_type": "display_data"
    }
   ],
   "source": [
    "#Split-Plot ANOVA - Hourly Activity - Both Sexes\n",
    "ezANOVA(Activity%>%mutate(hour=as.factor(hour)), dv=.(Activity1), wid=.(Animal_ID), within=.(hour), between=.(Animal_Type))\n",
    "#Post-hoc tests - Hourly Activity - Both Sexes\n",
    "p_adjust_activity <- Activity%>%group_by(hour)%>%\n",
    "      anova_test(dv = Activity1, wid = Animal_ID, between = Animal_Type) %>%\n",
    "      get_anova_table() %>%\n",
    "      adjust_pvalue(method = \"BH\")\n",
    "p_adjust_activity\n",
    "#Plot - Hourly Activity - Both Sexes\n",
    "options(repr.plot.width=30/2.54, repr.plot.height=16/2.54)\n",
    "    Activity_Day_Figure(Activity,c(\"wild_type\",\"Dexras1 KO\") )+\n",
    "      annotate(\"text\",x=0, y=35, label=\"*\", angle=0, size=10)+\n",
    "      annotate(\"text\",x=1, y=15, label=\"*\", angle=0, size=10)+\n",
    "      annotate(\"text\",x=4, y=4.7, label=\"*\", angle=0, size=10)+\n",
    "      annotate(\"text\",x=5, y=5, label=\"*\", angle=0, size=10)+\n",
    "      annotate(\"text\",x=6, y=5.8, label=\"*\", angle=0, size=10)+\n",
    "      annotate(\"text\",x=8, y=5.8, label=\"*\", angle=0, size=10)+\n",
    "      annotate(\"text\",x=16, y=42.3, label=\"*\", angle=0, size=10)+\n",
    "    annotate(\"text\",x=23, y=39, label=\"*\", angle=0, size=10)\n",
    "    ggsave(\"Plots/Activity_Line_Plot.png\",width=30, height=16,units = \"cm\")"
   ]
  },
  {
   "cell_type": "code",
   "execution_count": 32,
   "id": "3be97fbb-807e-4507-94a4-7f65cef2c331",
   "metadata": {},
   "outputs": [
    {
     "name": "stderr",
     "output_type": "stream",
     "text": [
      "Warning message:\n",
      "\"Converting \"Animal_ID\" to factor for ANOVA.\"\n",
      "Warning message:\n",
      "\"Converting \"Animal_Type\" to factor for ANOVA.\"\n"
     ]
    },
    {
     "data": {
      "text/html": [
       "<strong>$ANOVA</strong> = <table class=\"dataframe\">\n",
       "<caption>A data.frame: 3 × 7</caption>\n",
       "<thead>\n",
       "\t<tr><th></th><th scope=col>Effect</th><th scope=col>DFn</th><th scope=col>DFd</th><th scope=col>F</th><th scope=col>p</th><th scope=col>p&lt;.05</th><th scope=col>ges</th></tr>\n",
       "\t<tr><th></th><th scope=col>&lt;chr&gt;</th><th scope=col>&lt;dbl&gt;</th><th scope=col>&lt;dbl&gt;</th><th scope=col>&lt;dbl&gt;</th><th scope=col>&lt;dbl&gt;</th><th scope=col>&lt;chr&gt;</th><th scope=col>&lt;dbl&gt;</th></tr>\n",
       "</thead>\n",
       "<tbody>\n",
       "\t<tr><th scope=row>1</th><td>Animal_Type     </td><td> 1</td><td> 16</td><td> 2.082464</td><td> 1.682920e-01</td><td> </td><td>0.03949633</td></tr>\n",
       "\t<tr><th scope=row>2</th><td>hour            </td><td>23</td><td>368</td><td>71.017180</td><td>3.931943e-120</td><td>*</td><td>0.75224620</td></tr>\n",
       "\t<tr><th scope=row>3</th><td>Animal_Type:hour</td><td>23</td><td>368</td><td> 1.791688</td><td> 1.475019e-02</td><td>*</td><td>0.07115143</td></tr>\n",
       "</tbody>\n",
       "</table>\n"
      ],
      "text/latex": [
       "\\textbf{\\$ANOVA} = A data.frame: 3 × 7\n",
       "\\begin{tabular}{r|lllllll}\n",
       "  & Effect & DFn & DFd & F & p & p<.05 & ges\\\\\n",
       "  & <chr> & <dbl> & <dbl> & <dbl> & <dbl> & <chr> & <dbl>\\\\\n",
       "\\hline\n",
       "\t1 & Animal\\_Type      &  1 &  16 &  2.082464 &  1.682920e-01 &   & 0.03949633\\\\\n",
       "\t2 & hour             & 23 & 368 & 71.017180 & 3.931943e-120 & * & 0.75224620\\\\\n",
       "\t3 & Animal\\_Type:hour & 23 & 368 &  1.791688 &  1.475019e-02 & * & 0.07115143\\\\\n",
       "\\end{tabular}\n"
      ],
      "text/markdown": [
       "**$ANOVA** = \n",
       "A data.frame: 3 × 7\n",
       "\n",
       "| <!--/--> | Effect &lt;chr&gt; | DFn &lt;dbl&gt; | DFd &lt;dbl&gt; | F &lt;dbl&gt; | p &lt;dbl&gt; | p&lt;.05 &lt;chr&gt; | ges &lt;dbl&gt; |\n",
       "|---|---|---|---|---|---|---|---|\n",
       "| 1 | Animal_Type      |  1 |  16 |  2.082464 |  1.682920e-01 | <!----> | 0.03949633 |\n",
       "| 2 | hour             | 23 | 368 | 71.017180 | 3.931943e-120 | * | 0.75224620 |\n",
       "| 3 | Animal_Type:hour | 23 | 368 |  1.791688 |  1.475019e-02 | * | 0.07115143 |\n",
       "\n"
      ],
      "text/plain": [
       "$ANOVA\n",
       "            Effect DFn DFd         F             p p<.05        ges\n",
       "1      Animal_Type   1  16  2.082464  1.682920e-01       0.03949633\n",
       "2             hour  23 368 71.017180 3.931943e-120     * 0.75224620\n",
       "3 Animal_Type:hour  23 368  1.791688  1.475019e-02     * 0.07115143\n"
      ]
     },
     "metadata": {},
     "output_type": "display_data"
    },
    {
     "name": "stderr",
     "output_type": "stream",
     "text": [
      "Coefficient covariances computed by hccm()\n",
      "\n",
      "Coefficient covariances computed by hccm()\n",
      "\n",
      "Coefficient covariances computed by hccm()\n",
      "\n",
      "Coefficient covariances computed by hccm()\n",
      "\n",
      "Coefficient covariances computed by hccm()\n",
      "\n",
      "Coefficient covariances computed by hccm()\n",
      "\n",
      "Coefficient covariances computed by hccm()\n",
      "\n",
      "Coefficient covariances computed by hccm()\n",
      "\n",
      "Coefficient covariances computed by hccm()\n",
      "\n",
      "Coefficient covariances computed by hccm()\n",
      "\n",
      "Coefficient covariances computed by hccm()\n",
      "\n",
      "Coefficient covariances computed by hccm()\n",
      "\n",
      "Coefficient covariances computed by hccm()\n",
      "\n",
      "Coefficient covariances computed by hccm()\n",
      "\n",
      "Coefficient covariances computed by hccm()\n",
      "\n",
      "Coefficient covariances computed by hccm()\n",
      "\n",
      "Coefficient covariances computed by hccm()\n",
      "\n",
      "Coefficient covariances computed by hccm()\n",
      "\n",
      "Coefficient covariances computed by hccm()\n",
      "\n",
      "Coefficient covariances computed by hccm()\n",
      "\n",
      "Coefficient covariances computed by hccm()\n",
      "\n",
      "Coefficient covariances computed by hccm()\n",
      "\n",
      "Coefficient covariances computed by hccm()\n",
      "\n",
      "Coefficient covariances computed by hccm()\n",
      "\n"
     ]
    },
    {
     "data": {
      "text/html": [
       "<table class=\"dataframe\">\n",
       "<caption>A grouped_anova_test: 24 × 9</caption>\n",
       "<thead>\n",
       "\t<tr><th></th><th scope=col>hour</th><th scope=col>Effect</th><th scope=col>DFn</th><th scope=col>DFd</th><th scope=col>F</th><th scope=col>p</th><th scope=col>p&lt;.05</th><th scope=col>ges</th><th scope=col>p.adj</th></tr>\n",
       "\t<tr><th></th><th scope=col>&lt;int&gt;</th><th scope=col>&lt;chr&gt;</th><th scope=col>&lt;dbl&gt;</th><th scope=col>&lt;dbl&gt;</th><th scope=col>&lt;dbl&gt;</th><th scope=col>&lt;dbl&gt;</th><th scope=col>&lt;chr&gt;</th><th scope=col>&lt;dbl&gt;</th><th scope=col>&lt;dbl&gt;</th></tr>\n",
       "</thead>\n",
       "<tbody>\n",
       "\t<tr><th scope=row>1</th><td> 0</td><td>Animal_Type</td><td>1</td><td>16</td><td> 2.451</td><td>0.137</td><td> </td><td>0.133000</td><td>0.3288000</td></tr>\n",
       "\t<tr><th scope=row>2</th><td> 1</td><td>Animal_Type</td><td>1</td><td>16</td><td> 7.262</td><td>0.016</td><td>*</td><td>0.312000</td><td>0.1920000</td></tr>\n",
       "\t<tr><th scope=row>3</th><td> 2</td><td>Animal_Type</td><td>1</td><td>16</td><td> 0.797</td><td>0.385</td><td> </td><td>0.047000</td><td>0.4400000</td></tr>\n",
       "\t<tr><th scope=row>4</th><td> 3</td><td>Animal_Type</td><td>1</td><td>16</td><td> 3.501</td><td>0.080</td><td> </td><td>0.180000</td><td>0.3200000</td></tr>\n",
       "\t<tr><th scope=row>5</th><td> 4</td><td>Animal_Type</td><td>1</td><td>16</td><td>10.805</td><td>0.005</td><td>*</td><td>0.403000</td><td>0.1200000</td></tr>\n",
       "\t<tr><th scope=row>6</th><td> 5</td><td>Animal_Type</td><td>1</td><td>16</td><td> 2.707</td><td>0.119</td><td> </td><td>0.145000</td><td>0.3288000</td></tr>\n",
       "\t<tr><th scope=row>7</th><td> 6</td><td>Animal_Type</td><td>1</td><td>16</td><td> 4.575</td><td>0.048</td><td>*</td><td>0.222000</td><td>0.2304000</td></tr>\n",
       "\t<tr><th scope=row>8</th><td> 7</td><td>Animal_Type</td><td>1</td><td>16</td><td> 2.703</td><td>0.120</td><td> </td><td>0.145000</td><td>0.3288000</td></tr>\n",
       "\t<tr><th scope=row>9</th><td> 8</td><td>Animal_Type</td><td>1</td><td>16</td><td> 2.463</td><td>0.136</td><td> </td><td>0.133000</td><td>0.3288000</td></tr>\n",
       "\t<tr><th scope=row>10</th><td> 9</td><td>Animal_Type</td><td>1</td><td>16</td><td> 1.553</td><td>0.231</td><td> </td><td>0.088000</td><td>0.3856000</td></tr>\n",
       "\t<tr><th scope=row>11</th><td>10</td><td>Animal_Type</td><td>1</td><td>16</td><td> 1.486</td><td>0.241</td><td> </td><td>0.085000</td><td>0.3856000</td></tr>\n",
       "\t<tr><th scope=row>12</th><td>11</td><td>Animal_Type</td><td>1</td><td>16</td><td> 1.372</td><td>0.259</td><td> </td><td>0.079000</td><td>0.3885000</td></tr>\n",
       "\t<tr><th scope=row>13</th><td>12</td><td>Animal_Type</td><td>1</td><td>16</td><td> 0.988</td><td>0.335</td><td> </td><td>0.058000</td><td>0.4231579</td></tr>\n",
       "\t<tr><th scope=row>14</th><td>13</td><td>Animal_Type</td><td>1</td><td>16</td><td> 0.866</td><td>0.366</td><td> </td><td>0.051000</td><td>0.4392000</td></tr>\n",
       "\t<tr><th scope=row>15</th><td>14</td><td>Animal_Type</td><td>1</td><td>16</td><td> 0.144</td><td>0.709</td><td> </td><td>0.009000</td><td>0.7734545</td></tr>\n",
       "\t<tr><th scope=row>16</th><td>15</td><td>Animal_Type</td><td>1</td><td>16</td><td> 1.588</td><td>0.226</td><td> </td><td>0.090000</td><td>0.3856000</td></tr>\n",
       "\t<tr><th scope=row>17</th><td>16</td><td>Animal_Type</td><td>1</td><td>16</td><td> 5.047</td><td>0.039</td><td>*</td><td>0.240000</td><td>0.2304000</td></tr>\n",
       "\t<tr><th scope=row>18</th><td>17</td><td>Animal_Type</td><td>1</td><td>16</td><td> 1.619</td><td>0.221</td><td> </td><td>0.092000</td><td>0.3856000</td></tr>\n",
       "\t<tr><th scope=row>19</th><td>18</td><td>Animal_Type</td><td>1</td><td>16</td><td> 2.137</td><td>0.163</td><td> </td><td>0.118000</td><td>0.3556364</td></tr>\n",
       "\t<tr><th scope=row>20</th><td>19</td><td>Animal_Type</td><td>1</td><td>16</td><td> 0.103</td><td>0.752</td><td> </td><td>0.006000</td><td>0.7846957</td></tr>\n",
       "\t<tr><th scope=row>21</th><td>20</td><td>Animal_Type</td><td>1</td><td>16</td><td> 1.009</td><td>0.330</td><td> </td><td>0.059000</td><td>0.4231579</td></tr>\n",
       "\t<tr><th scope=row>22</th><td>21</td><td>Animal_Type</td><td>1</td><td>16</td><td> 0.002</td><td>0.965</td><td> </td><td>0.000125</td><td>0.9650000</td></tr>\n",
       "\t<tr><th scope=row>23</th><td>22</td><td>Animal_Type</td><td>1</td><td>16</td><td> 5.323</td><td>0.035</td><td>*</td><td>0.250000</td><td>0.2304000</td></tr>\n",
       "\t<tr><th scope=row>24</th><td>23</td><td>Animal_Type</td><td>1</td><td>16</td><td> 1.210</td><td>0.288</td><td> </td><td>0.070000</td><td>0.4065882</td></tr>\n",
       "</tbody>\n",
       "</table>\n"
      ],
      "text/latex": [
       "A grouped\\_anova\\_test: 24 × 9\n",
       "\\begin{tabular}{r|lllllllll}\n",
       "  & hour & Effect & DFn & DFd & F & p & p<.05 & ges & p.adj\\\\\n",
       "  & <int> & <chr> & <dbl> & <dbl> & <dbl> & <dbl> & <chr> & <dbl> & <dbl>\\\\\n",
       "\\hline\n",
       "\t1 &  0 & Animal\\_Type & 1 & 16 &  2.451 & 0.137 &   & 0.133000 & 0.3288000\\\\\n",
       "\t2 &  1 & Animal\\_Type & 1 & 16 &  7.262 & 0.016 & * & 0.312000 & 0.1920000\\\\\n",
       "\t3 &  2 & Animal\\_Type & 1 & 16 &  0.797 & 0.385 &   & 0.047000 & 0.4400000\\\\\n",
       "\t4 &  3 & Animal\\_Type & 1 & 16 &  3.501 & 0.080 &   & 0.180000 & 0.3200000\\\\\n",
       "\t5 &  4 & Animal\\_Type & 1 & 16 & 10.805 & 0.005 & * & 0.403000 & 0.1200000\\\\\n",
       "\t6 &  5 & Animal\\_Type & 1 & 16 &  2.707 & 0.119 &   & 0.145000 & 0.3288000\\\\\n",
       "\t7 &  6 & Animal\\_Type & 1 & 16 &  4.575 & 0.048 & * & 0.222000 & 0.2304000\\\\\n",
       "\t8 &  7 & Animal\\_Type & 1 & 16 &  2.703 & 0.120 &   & 0.145000 & 0.3288000\\\\\n",
       "\t9 &  8 & Animal\\_Type & 1 & 16 &  2.463 & 0.136 &   & 0.133000 & 0.3288000\\\\\n",
       "\t10 &  9 & Animal\\_Type & 1 & 16 &  1.553 & 0.231 &   & 0.088000 & 0.3856000\\\\\n",
       "\t11 & 10 & Animal\\_Type & 1 & 16 &  1.486 & 0.241 &   & 0.085000 & 0.3856000\\\\\n",
       "\t12 & 11 & Animal\\_Type & 1 & 16 &  1.372 & 0.259 &   & 0.079000 & 0.3885000\\\\\n",
       "\t13 & 12 & Animal\\_Type & 1 & 16 &  0.988 & 0.335 &   & 0.058000 & 0.4231579\\\\\n",
       "\t14 & 13 & Animal\\_Type & 1 & 16 &  0.866 & 0.366 &   & 0.051000 & 0.4392000\\\\\n",
       "\t15 & 14 & Animal\\_Type & 1 & 16 &  0.144 & 0.709 &   & 0.009000 & 0.7734545\\\\\n",
       "\t16 & 15 & Animal\\_Type & 1 & 16 &  1.588 & 0.226 &   & 0.090000 & 0.3856000\\\\\n",
       "\t17 & 16 & Animal\\_Type & 1 & 16 &  5.047 & 0.039 & * & 0.240000 & 0.2304000\\\\\n",
       "\t18 & 17 & Animal\\_Type & 1 & 16 &  1.619 & 0.221 &   & 0.092000 & 0.3856000\\\\\n",
       "\t19 & 18 & Animal\\_Type & 1 & 16 &  2.137 & 0.163 &   & 0.118000 & 0.3556364\\\\\n",
       "\t20 & 19 & Animal\\_Type & 1 & 16 &  0.103 & 0.752 &   & 0.006000 & 0.7846957\\\\\n",
       "\t21 & 20 & Animal\\_Type & 1 & 16 &  1.009 & 0.330 &   & 0.059000 & 0.4231579\\\\\n",
       "\t22 & 21 & Animal\\_Type & 1 & 16 &  0.002 & 0.965 &   & 0.000125 & 0.9650000\\\\\n",
       "\t23 & 22 & Animal\\_Type & 1 & 16 &  5.323 & 0.035 & * & 0.250000 & 0.2304000\\\\\n",
       "\t24 & 23 & Animal\\_Type & 1 & 16 &  1.210 & 0.288 &   & 0.070000 & 0.4065882\\\\\n",
       "\\end{tabular}\n"
      ],
      "text/markdown": [
       "\n",
       "A grouped_anova_test: 24 × 9\n",
       "\n",
       "| <!--/--> | hour &lt;int&gt; | Effect &lt;chr&gt; | DFn &lt;dbl&gt; | DFd &lt;dbl&gt; | F &lt;dbl&gt; | p &lt;dbl&gt; | p&lt;.05 &lt;chr&gt; | ges &lt;dbl&gt; | p.adj &lt;dbl&gt; |\n",
       "|---|---|---|---|---|---|---|---|---|---|\n",
       "| 1 |  0 | Animal_Type | 1 | 16 |  2.451 | 0.137 | <!----> | 0.133000 | 0.3288000 |\n",
       "| 2 |  1 | Animal_Type | 1 | 16 |  7.262 | 0.016 | * | 0.312000 | 0.1920000 |\n",
       "| 3 |  2 | Animal_Type | 1 | 16 |  0.797 | 0.385 | <!----> | 0.047000 | 0.4400000 |\n",
       "| 4 |  3 | Animal_Type | 1 | 16 |  3.501 | 0.080 | <!----> | 0.180000 | 0.3200000 |\n",
       "| 5 |  4 | Animal_Type | 1 | 16 | 10.805 | 0.005 | * | 0.403000 | 0.1200000 |\n",
       "| 6 |  5 | Animal_Type | 1 | 16 |  2.707 | 0.119 | <!----> | 0.145000 | 0.3288000 |\n",
       "| 7 |  6 | Animal_Type | 1 | 16 |  4.575 | 0.048 | * | 0.222000 | 0.2304000 |\n",
       "| 8 |  7 | Animal_Type | 1 | 16 |  2.703 | 0.120 | <!----> | 0.145000 | 0.3288000 |\n",
       "| 9 |  8 | Animal_Type | 1 | 16 |  2.463 | 0.136 | <!----> | 0.133000 | 0.3288000 |\n",
       "| 10 |  9 | Animal_Type | 1 | 16 |  1.553 | 0.231 | <!----> | 0.088000 | 0.3856000 |\n",
       "| 11 | 10 | Animal_Type | 1 | 16 |  1.486 | 0.241 | <!----> | 0.085000 | 0.3856000 |\n",
       "| 12 | 11 | Animal_Type | 1 | 16 |  1.372 | 0.259 | <!----> | 0.079000 | 0.3885000 |\n",
       "| 13 | 12 | Animal_Type | 1 | 16 |  0.988 | 0.335 | <!----> | 0.058000 | 0.4231579 |\n",
       "| 14 | 13 | Animal_Type | 1 | 16 |  0.866 | 0.366 | <!----> | 0.051000 | 0.4392000 |\n",
       "| 15 | 14 | Animal_Type | 1 | 16 |  0.144 | 0.709 | <!----> | 0.009000 | 0.7734545 |\n",
       "| 16 | 15 | Animal_Type | 1 | 16 |  1.588 | 0.226 | <!----> | 0.090000 | 0.3856000 |\n",
       "| 17 | 16 | Animal_Type | 1 | 16 |  5.047 | 0.039 | * | 0.240000 | 0.2304000 |\n",
       "| 18 | 17 | Animal_Type | 1 | 16 |  1.619 | 0.221 | <!----> | 0.092000 | 0.3856000 |\n",
       "| 19 | 18 | Animal_Type | 1 | 16 |  2.137 | 0.163 | <!----> | 0.118000 | 0.3556364 |\n",
       "| 20 | 19 | Animal_Type | 1 | 16 |  0.103 | 0.752 | <!----> | 0.006000 | 0.7846957 |\n",
       "| 21 | 20 | Animal_Type | 1 | 16 |  1.009 | 0.330 | <!----> | 0.059000 | 0.4231579 |\n",
       "| 22 | 21 | Animal_Type | 1 | 16 |  0.002 | 0.965 | <!----> | 0.000125 | 0.9650000 |\n",
       "| 23 | 22 | Animal_Type | 1 | 16 |  5.323 | 0.035 | * | 0.250000 | 0.2304000 |\n",
       "| 24 | 23 | Animal_Type | 1 | 16 |  1.210 | 0.288 | <!----> | 0.070000 | 0.4065882 |\n",
       "\n"
      ],
      "text/plain": [
       "   hour Effect      DFn DFd F      p     p<.05 ges      p.adj    \n",
       "1   0   Animal_Type 1   16   2.451 0.137       0.133000 0.3288000\n",
       "2   1   Animal_Type 1   16   7.262 0.016 *     0.312000 0.1920000\n",
       "3   2   Animal_Type 1   16   0.797 0.385       0.047000 0.4400000\n",
       "4   3   Animal_Type 1   16   3.501 0.080       0.180000 0.3200000\n",
       "5   4   Animal_Type 1   16  10.805 0.005 *     0.403000 0.1200000\n",
       "6   5   Animal_Type 1   16   2.707 0.119       0.145000 0.3288000\n",
       "7   6   Animal_Type 1   16   4.575 0.048 *     0.222000 0.2304000\n",
       "8   7   Animal_Type 1   16   2.703 0.120       0.145000 0.3288000\n",
       "9   8   Animal_Type 1   16   2.463 0.136       0.133000 0.3288000\n",
       "10  9   Animal_Type 1   16   1.553 0.231       0.088000 0.3856000\n",
       "11 10   Animal_Type 1   16   1.486 0.241       0.085000 0.3856000\n",
       "12 11   Animal_Type 1   16   1.372 0.259       0.079000 0.3885000\n",
       "13 12   Animal_Type 1   16   0.988 0.335       0.058000 0.4231579\n",
       "14 13   Animal_Type 1   16   0.866 0.366       0.051000 0.4392000\n",
       "15 14   Animal_Type 1   16   0.144 0.709       0.009000 0.7734545\n",
       "16 15   Animal_Type 1   16   1.588 0.226       0.090000 0.3856000\n",
       "17 16   Animal_Type 1   16   5.047 0.039 *     0.240000 0.2304000\n",
       "18 17   Animal_Type 1   16   1.619 0.221       0.092000 0.3856000\n",
       "19 18   Animal_Type 1   16   2.137 0.163       0.118000 0.3556364\n",
       "20 19   Animal_Type 1   16   0.103 0.752       0.006000 0.7846957\n",
       "21 20   Animal_Type 1   16   1.009 0.330       0.059000 0.4231579\n",
       "22 21   Animal_Type 1   16   0.002 0.965       0.000125 0.9650000\n",
       "23 22   Animal_Type 1   16   5.323 0.035 *     0.250000 0.2304000\n",
       "24 23   Animal_Type 1   16   1.210 0.288       0.070000 0.4065882"
      ]
     },
     "metadata": {},
     "output_type": "display_data"
    },
    {
     "name": "stderr",
     "output_type": "stream",
     "text": [
      "`summarise()` has grouped output by 'hour'. You can override using the `.groups` argument.\n"
     ]
    },
    {
     "data": {
      "image/png": "[encoded data removed]",
      "text/plain": [
       "plot without title"
      ]
     },
     "metadata": {
      "image/png": {
       "height": 377.9528,
       "width": 708.6614
      }
     },
     "output_type": "display_data"
    }
   ],
   "source": [
    "#Split-Plot ANOVA - Hourly Activity - Males\n",
    "ezANOVA(Activity%>%mutate(hour=as.factor(hour))%>%filter(Sex==\"Male\"), dv=.(Activity1), wid=.(Animal_ID), within=.(hour), between=.(Animal_Type), type=1)\n",
    "#Post-hoc tests - Hourly Activity - Males   \n",
    "    p_adjust_activity_male <- Activity%>%filter(Sex==\"Male\")%>%group_by(hour)%>%\n",
    "      anova_test(dv = Activity1, wid = Animal_ID, between = Animal_Type) %>%\n",
    "      get_anova_table() %>%\n",
    "      adjust_pvalue(method = \"BH\")\n",
    "    p_adjust_activity_male\n",
    "#Plot - Hourly Activity - Males\n",
    "options(repr.plot.width=30/2.54, repr.plot.height=16/2.54)\n",
    "    Activity_Day_Figure(Activity%>%filter(Sex==\"Male\"),c(\"wild_type Male\",\"Dexras1 KO Male\") )\n",
    "    ggsave(\"Plots/Activity_Line_Plot_M.png\",width=30, height=16,units = \"cm\")"
   ]
  },
  {
   "cell_type": "code",
   "execution_count": 33,
   "id": "ec80f1be-1f99-4329-99ba-b97af23a2885",
   "metadata": {},
   "outputs": [
    {
     "name": "stderr",
     "output_type": "stream",
     "text": [
      "Warning message:\n",
      "\"Converting \"Animal_ID\" to factor for ANOVA.\"\n",
      "Warning message:\n",
      "\"Converting \"Animal_Type\" to factor for ANOVA.\"\n"
     ]
    },
    {
     "data": {
      "text/html": [
       "<strong>$ANOVA</strong> = <table class=\"dataframe\">\n",
       "<caption>A data.frame: 3 × 7</caption>\n",
       "<thead>\n",
       "\t<tr><th></th><th scope=col>Effect</th><th scope=col>DFn</th><th scope=col>DFd</th><th scope=col>F</th><th scope=col>p</th><th scope=col>p&lt;.05</th><th scope=col>ges</th></tr>\n",
       "\t<tr><th></th><th scope=col>&lt;chr&gt;</th><th scope=col>&lt;dbl&gt;</th><th scope=col>&lt;dbl&gt;</th><th scope=col>&lt;dbl&gt;</th><th scope=col>&lt;dbl&gt;</th><th scope=col>&lt;chr&gt;</th><th scope=col>&lt;dbl&gt;</th></tr>\n",
       "</thead>\n",
       "<tbody>\n",
       "\t<tr><th scope=row>1</th><td>Animal_Type     </td><td> 1</td><td> 16</td><td>  6.906274</td><td> 1.827105e-02</td><td>*</td><td>0.1224940</td></tr>\n",
       "\t<tr><th scope=row>2</th><td>hour            </td><td>23</td><td>368</td><td>113.086569</td><td>2.516701e-151</td><td>*</td><td>0.8270538</td></tr>\n",
       "\t<tr><th scope=row>3</th><td>Animal_Type:hour</td><td>23</td><td>368</td><td>  4.594342</td><td> 8.422076e-11</td><td>*</td><td>0.1626776</td></tr>\n",
       "</tbody>\n",
       "</table>\n"
      ],
      "text/latex": [
       "\\textbf{\\$ANOVA} = A data.frame: 3 × 7\n",
       "\\begin{tabular}{r|lllllll}\n",
       "  & Effect & DFn & DFd & F & p & p<.05 & ges\\\\\n",
       "  & <chr> & <dbl> & <dbl> & <dbl> & <dbl> & <chr> & <dbl>\\\\\n",
       "\\hline\n",
       "\t1 & Animal\\_Type      &  1 &  16 &   6.906274 &  1.827105e-02 & * & 0.1224940\\\\\n",
       "\t2 & hour             & 23 & 368 & 113.086569 & 2.516701e-151 & * & 0.8270538\\\\\n",
       "\t3 & Animal\\_Type:hour & 23 & 368 &   4.594342 &  8.422076e-11 & * & 0.1626776\\\\\n",
       "\\end{tabular}\n"
      ],
      "text/markdown": [
       "**$ANOVA** = \n",
       "A data.frame: 3 × 7\n",
       "\n",
       "| <!--/--> | Effect &lt;chr&gt; | DFn &lt;dbl&gt; | DFd &lt;dbl&gt; | F &lt;dbl&gt; | p &lt;dbl&gt; | p&lt;.05 &lt;chr&gt; | ges &lt;dbl&gt; |\n",
       "|---|---|---|---|---|---|---|---|\n",
       "| 1 | Animal_Type      |  1 |  16 |   6.906274 |  1.827105e-02 | * | 0.1224940 |\n",
       "| 2 | hour             | 23 | 368 | 113.086569 | 2.516701e-151 | * | 0.8270538 |\n",
       "| 3 | Animal_Type:hour | 23 | 368 |   4.594342 |  8.422076e-11 | * | 0.1626776 |\n",
       "\n"
      ],
      "text/plain": [
       "$ANOVA\n",
       "            Effect DFn DFd          F             p p<.05       ges\n",
       "1      Animal_Type   1  16   6.906274  1.827105e-02     * 0.1224940\n",
       "2             hour  23 368 113.086569 2.516701e-151     * 0.8270538\n",
       "3 Animal_Type:hour  23 368   4.594342  8.422076e-11     * 0.1626776\n"
      ]
     },
     "metadata": {},
     "output_type": "display_data"
    },
    {
     "name": "stderr",
     "output_type": "stream",
     "text": [
      "Coefficient covariances computed by hccm()\n",
      "\n",
      "Coefficient covariances computed by hccm()\n",
      "\n",
      "Coefficient covariances computed by hccm()\n",
      "\n",
      "Coefficient covariances computed by hccm()\n",
      "\n",
      "Coefficient covariances computed by hccm()\n",
      "\n",
      "Coefficient covariances computed by hccm()\n",
      "\n",
      "Coefficient covariances computed by hccm()\n",
      "\n",
      "Coefficient covariances computed by hccm()\n",
      "\n",
      "Coefficient covariances computed by hccm()\n",
      "\n",
      "Coefficient covariances computed by hccm()\n",
      "\n",
      "Coefficient covariances computed by hccm()\n",
      "\n",
      "Coefficient covariances computed by hccm()\n",
      "\n",
      "Coefficient covariances computed by hccm()\n",
      "\n",
      "Coefficient covariances computed by hccm()\n",
      "\n",
      "Coefficient covariances computed by hccm()\n",
      "\n",
      "Coefficient covariances computed by hccm()\n",
      "\n",
      "Coefficient covariances computed by hccm()\n",
      "\n",
      "Coefficient covariances computed by hccm()\n",
      "\n",
      "Coefficient covariances computed by hccm()\n",
      "\n",
      "Coefficient covariances computed by hccm()\n",
      "\n",
      "Coefficient covariances computed by hccm()\n",
      "\n",
      "Coefficient covariances computed by hccm()\n",
      "\n",
      "Coefficient covariances computed by hccm()\n",
      "\n",
      "Coefficient covariances computed by hccm()\n",
      "\n"
     ]
    },
    {
     "data": {
      "text/html": [
       "<table class=\"dataframe\">\n",
       "<caption>A grouped_anova_test: 24 × 9</caption>\n",
       "<thead>\n",
       "\t<tr><th></th><th scope=col>hour</th><th scope=col>Effect</th><th scope=col>DFn</th><th scope=col>DFd</th><th scope=col>F</th><th scope=col>p</th><th scope=col>p&lt;.05</th><th scope=col>ges</th><th scope=col>p.adj</th></tr>\n",
       "\t<tr><th></th><th scope=col>&lt;int&gt;</th><th scope=col>&lt;chr&gt;</th><th scope=col>&lt;dbl&gt;</th><th scope=col>&lt;dbl&gt;</th><th scope=col>&lt;dbl&gt;</th><th scope=col>&lt;dbl&gt;</th><th scope=col>&lt;chr&gt;</th><th scope=col>&lt;dbl&gt;</th><th scope=col>&lt;dbl&gt;</th></tr>\n",
       "</thead>\n",
       "<tbody>\n",
       "\t<tr><th scope=row>1</th><td> 0</td><td>Animal_Type</td><td>1</td><td>16</td><td> 5.500</td><td>0.032</td><td>*</td><td>0.256</td><td>0.0768000</td></tr>\n",
       "\t<tr><th scope=row>2</th><td> 1</td><td>Animal_Type</td><td>1</td><td>16</td><td> 7.920</td><td>0.012</td><td>*</td><td>0.331</td><td>0.0576000</td></tr>\n",
       "\t<tr><th scope=row>3</th><td> 2</td><td>Animal_Type</td><td>1</td><td>16</td><td> 4.188</td><td>0.058</td><td> </td><td>0.207</td><td>0.1070769</td></tr>\n",
       "\t<tr><th scope=row>4</th><td> 3</td><td>Animal_Type</td><td>1</td><td>16</td><td> 0.785</td><td>0.389</td><td> </td><td>0.047</td><td>0.4243636</td></tr>\n",
       "\t<tr><th scope=row>5</th><td> 4</td><td>Animal_Type</td><td>1</td><td>16</td><td> 3.370</td><td>0.085</td><td> </td><td>0.174</td><td>0.1350000</td></tr>\n",
       "\t<tr><th scope=row>6</th><td> 5</td><td>Animal_Type</td><td>1</td><td>16</td><td> 9.882</td><td>0.006</td><td>*</td><td>0.382</td><td>0.0480000</td></tr>\n",
       "\t<tr><th scope=row>7</th><td> 6</td><td>Animal_Type</td><td>1</td><td>16</td><td> 6.755</td><td>0.019</td><td>*</td><td>0.297</td><td>0.0630000</td></tr>\n",
       "\t<tr><th scope=row>8</th><td> 7</td><td>Animal_Type</td><td>1</td><td>16</td><td> 1.011</td><td>0.330</td><td> </td><td>0.059</td><td>0.3771429</td></tr>\n",
       "\t<tr><th scope=row>9</th><td> 8</td><td>Animal_Type</td><td>1</td><td>16</td><td>11.421</td><td>0.004</td><td>*</td><td>0.417</td><td>0.0480000</td></tr>\n",
       "\t<tr><th scope=row>10</th><td> 9</td><td>Animal_Type</td><td>1</td><td>16</td><td> 3.710</td><td>0.072</td><td> </td><td>0.188</td><td>0.1234286</td></tr>\n",
       "\t<tr><th scope=row>11</th><td>10</td><td>Animal_Type</td><td>1</td><td>16</td><td> 0.677</td><td>0.423</td><td> </td><td>0.041</td><td>0.4413913</td></tr>\n",
       "\t<tr><th scope=row>12</th><td>11</td><td>Animal_Type</td><td>1</td><td>16</td><td> 0.075</td><td>0.788</td><td> </td><td>0.005</td><td>0.7880000</td></tr>\n",
       "\t<tr><th scope=row>13</th><td>12</td><td>Animal_Type</td><td>1</td><td>16</td><td> 1.049</td><td>0.321</td><td> </td><td>0.062</td><td>0.3771429</td></tr>\n",
       "\t<tr><th scope=row>14</th><td>13</td><td>Animal_Type</td><td>1</td><td>16</td><td> 4.200</td><td>0.057</td><td> </td><td>0.208</td><td>0.1070769</td></tr>\n",
       "\t<tr><th scope=row>15</th><td>14</td><td>Animal_Type</td><td>1</td><td>16</td><td> 3.249</td><td>0.090</td><td> </td><td>0.169</td><td>0.1350000</td></tr>\n",
       "\t<tr><th scope=row>16</th><td>15</td><td>Animal_Type</td><td>1</td><td>16</td><td> 5.949</td><td>0.027</td><td>*</td><td>0.271</td><td>0.0720000</td></tr>\n",
       "\t<tr><th scope=row>17</th><td>16</td><td>Animal_Type</td><td>1</td><td>16</td><td> 8.845</td><td>0.009</td><td>*</td><td>0.356</td><td>0.0540000</td></tr>\n",
       "\t<tr><th scope=row>18</th><td>17</td><td>Animal_Type</td><td>1</td><td>16</td><td>10.456</td><td>0.005</td><td>*</td><td>0.395</td><td>0.0480000</td></tr>\n",
       "\t<tr><th scope=row>19</th><td>18</td><td>Animal_Type</td><td>1</td><td>16</td><td> 7.211</td><td>0.016</td><td>*</td><td>0.311</td><td>0.0630000</td></tr>\n",
       "\t<tr><th scope=row>20</th><td>19</td><td>Animal_Type</td><td>1</td><td>16</td><td> 1.478</td><td>0.242</td><td> </td><td>0.085</td><td>0.3056842</td></tr>\n",
       "\t<tr><th scope=row>21</th><td>20</td><td>Animal_Type</td><td>1</td><td>16</td><td> 4.703</td><td>0.046</td><td>*</td><td>0.227</td><td>0.1003636</td></tr>\n",
       "\t<tr><th scope=row>22</th><td>21</td><td>Animal_Type</td><td>1</td><td>16</td><td> 2.615</td><td>0.125</td><td> </td><td>0.140</td><td>0.1764706</td></tr>\n",
       "\t<tr><th scope=row>23</th><td>22</td><td>Animal_Type</td><td>1</td><td>16</td><td> 1.679</td><td>0.213</td><td> </td><td>0.095</td><td>0.2840000</td></tr>\n",
       "\t<tr><th scope=row>24</th><td>23</td><td>Animal_Type</td><td>1</td><td>16</td><td> 6.604</td><td>0.021</td><td>*</td><td>0.292</td><td>0.0630000</td></tr>\n",
       "</tbody>\n",
       "</table>\n"
      ],
      "text/latex": [
       "A grouped\\_anova\\_test: 24 × 9\n",
       "\\begin{tabular}{r|lllllllll}\n",
       "  & hour & Effect & DFn & DFd & F & p & p<.05 & ges & p.adj\\\\\n",
       "  & <int> & <chr> & <dbl> & <dbl> & <dbl> & <dbl> & <chr> & <dbl> & <dbl>\\\\\n",
       "\\hline\n",
       "\t1 &  0 & Animal\\_Type & 1 & 16 &  5.500 & 0.032 & * & 0.256 & 0.0768000\\\\\n",
       "\t2 &  1 & Animal\\_Type & 1 & 16 &  7.920 & 0.012 & * & 0.331 & 0.0576000\\\\\n",
       "\t3 &  2 & Animal\\_Type & 1 & 16 &  4.188 & 0.058 &   & 0.207 & 0.1070769\\\\\n",
       "\t4 &  3 & Animal\\_Type & 1 & 16 &  0.785 & 0.389 &   & 0.047 & 0.4243636\\\\\n",
       "\t5 &  4 & Animal\\_Type & 1 & 16 &  3.370 & 0.085 &   & 0.174 & 0.1350000\\\\\n",
       "\t6 &  5 & Animal\\_Type & 1 & 16 &  9.882 & 0.006 & * & 0.382 & 0.0480000\\\\\n",
       "\t7 &  6 & Animal\\_Type & 1 & 16 &  6.755 & 0.019 & * & 0.297 & 0.0630000\\\\\n",
       "\t8 &  7 & Animal\\_Type & 1 & 16 &  1.011 & 0.330 &   & 0.059 & 0.3771429\\\\\n",
       "\t9 &  8 & Animal\\_Type & 1 & 16 & 11.421 & 0.004 & * & 0.417 & 0.0480000\\\\\n",
       "\t10 &  9 & Animal\\_Type & 1 & 16 &  3.710 & 0.072 &   & 0.188 & 0.1234286\\\\\n",
       "\t11 & 10 & Animal\\_Type & 1 & 16 &  0.677 & 0.423 &   & 0.041 & 0.4413913\\\\\n",
       "\t12 & 11 & Animal\\_Type & 1 & 16 &  0.075 & 0.788 &   & 0.005 & 0.7880000\\\\\n",
       "\t13 & 12 & Animal\\_Type & 1 & 16 &  1.049 & 0.321 &   & 0.062 & 0.3771429\\\\\n",
       "\t14 & 13 & Animal\\_Type & 1 & 16 &  4.200 & 0.057 &   & 0.208 & 0.1070769\\\\\n",
       "\t15 & 14 & Animal\\_Type & 1 & 16 &  3.249 & 0.090 &   & 0.169 & 0.1350000\\\\\n",
       "\t16 & 15 & Animal\\_Type & 1 & 16 &  5.949 & 0.027 & * & 0.271 & 0.0720000\\\\\n",
       "\t17 & 16 & Animal\\_Type & 1 & 16 &  8.845 & 0.009 & * & 0.356 & 0.0540000\\\\\n",
       "\t18 & 17 & Animal\\_Type & 1 & 16 & 10.456 & 0.005 & * & 0.395 & 0.0480000\\\\\n",
       "\t19 & 18 & Animal\\_Type & 1 & 16 &  7.211 & 0.016 & * & 0.311 & 0.0630000\\\\\n",
       "\t20 & 19 & Animal\\_Type & 1 & 16 &  1.478 & 0.242 &   & 0.085 & 0.3056842\\\\\n",
       "\t21 & 20 & Animal\\_Type & 1 & 16 &  4.703 & 0.046 & * & 0.227 & 0.1003636\\\\\n",
       "\t22 & 21 & Animal\\_Type & 1 & 16 &  2.615 & 0.125 &   & 0.140 & 0.1764706\\\\\n",
       "\t23 & 22 & Animal\\_Type & 1 & 16 &  1.679 & 0.213 &   & 0.095 & 0.2840000\\\\\n",
       "\t24 & 23 & Animal\\_Type & 1 & 16 &  6.604 & 0.021 & * & 0.292 & 0.0630000\\\\\n",
       "\\end{tabular}\n"
      ],
      "text/markdown": [
       "\n",
       "A grouped_anova_test: 24 × 9\n",
       "\n",
       "| <!--/--> | hour &lt;int&gt; | Effect &lt;chr&gt; | DFn &lt;dbl&gt; | DFd &lt;dbl&gt; | F &lt;dbl&gt; | p &lt;dbl&gt; | p&lt;.05 &lt;chr&gt; | ges &lt;dbl&gt; | p.adj &lt;dbl&gt; |\n",
       "|---|---|---|---|---|---|---|---|---|---|\n",
       "| 1 |  0 | Animal_Type | 1 | 16 |  5.500 | 0.032 | * | 0.256 | 0.0768000 |\n",
       "| 2 |  1 | Animal_Type | 1 | 16 |  7.920 | 0.012 | * | 0.331 | 0.0576000 |\n",
       "| 3 |  2 | Animal_Type | 1 | 16 |  4.188 | 0.058 | <!----> | 0.207 | 0.1070769 |\n",
       "| 4 |  3 | Animal_Type | 1 | 16 |  0.785 | 0.389 | <!----> | 0.047 | 0.4243636 |\n",
       "| 5 |  4 | Animal_Type | 1 | 16 |  3.370 | 0.085 | <!----> | 0.174 | 0.1350000 |\n",
       "| 6 |  5 | Animal_Type | 1 | 16 |  9.882 | 0.006 | * | 0.382 | 0.0480000 |\n",
       "| 7 |  6 | Animal_Type | 1 | 16 |  6.755 | 0.019 | * | 0.297 | 0.0630000 |\n",
       "| 8 |  7 | Animal_Type | 1 | 16 |  1.011 | 0.330 | <!----> | 0.059 | 0.3771429 |\n",
       "| 9 |  8 | Animal_Type | 1 | 16 | 11.421 | 0.004 | * | 0.417 | 0.0480000 |\n",
       "| 10 |  9 | Animal_Type | 1 | 16 |  3.710 | 0.072 | <!----> | 0.188 | 0.1234286 |\n",
       "| 11 | 10 | Animal_Type | 1 | 16 |  0.677 | 0.423 | <!----> | 0.041 | 0.4413913 |\n",
       "| 12 | 11 | Animal_Type | 1 | 16 |  0.075 | 0.788 | <!----> | 0.005 | 0.7880000 |\n",
       "| 13 | 12 | Animal_Type | 1 | 16 |  1.049 | 0.321 | <!----> | 0.062 | 0.3771429 |\n",
       "| 14 | 13 | Animal_Type | 1 | 16 |  4.200 | 0.057 | <!----> | 0.208 | 0.1070769 |\n",
       "| 15 | 14 | Animal_Type | 1 | 16 |  3.249 | 0.090 | <!----> | 0.169 | 0.1350000 |\n",
       "| 16 | 15 | Animal_Type | 1 | 16 |  5.949 | 0.027 | * | 0.271 | 0.0720000 |\n",
       "| 17 | 16 | Animal_Type | 1 | 16 |  8.845 | 0.009 | * | 0.356 | 0.0540000 |\n",
       "| 18 | 17 | Animal_Type | 1 | 16 | 10.456 | 0.005 | * | 0.395 | 0.0480000 |\n",
       "| 19 | 18 | Animal_Type | 1 | 16 |  7.211 | 0.016 | * | 0.311 | 0.0630000 |\n",
       "| 20 | 19 | Animal_Type | 1 | 16 |  1.478 | 0.242 | <!----> | 0.085 | 0.3056842 |\n",
       "| 21 | 20 | Animal_Type | 1 | 16 |  4.703 | 0.046 | * | 0.227 | 0.1003636 |\n",
       "| 22 | 21 | Animal_Type | 1 | 16 |  2.615 | 0.125 | <!----> | 0.140 | 0.1764706 |\n",
       "| 23 | 22 | Animal_Type | 1 | 16 |  1.679 | 0.213 | <!----> | 0.095 | 0.2840000 |\n",
       "| 24 | 23 | Animal_Type | 1 | 16 |  6.604 | 0.021 | * | 0.292 | 0.0630000 |\n",
       "\n"
      ],
      "text/plain": [
       "   hour Effect      DFn DFd F      p     p<.05 ges   p.adj    \n",
       "1   0   Animal_Type 1   16   5.500 0.032 *     0.256 0.0768000\n",
       "2   1   Animal_Type 1   16   7.920 0.012 *     0.331 0.0576000\n",
       "3   2   Animal_Type 1   16   4.188 0.058       0.207 0.1070769\n",
       "4   3   Animal_Type 1   16   0.785 0.389       0.047 0.4243636\n",
       "5   4   Animal_Type 1   16   3.370 0.085       0.174 0.1350000\n",
       "6   5   Animal_Type 1   16   9.882 0.006 *     0.382 0.0480000\n",
       "7   6   Animal_Type 1   16   6.755 0.019 *     0.297 0.0630000\n",
       "8   7   Animal_Type 1   16   1.011 0.330       0.059 0.3771429\n",
       "9   8   Animal_Type 1   16  11.421 0.004 *     0.417 0.0480000\n",
       "10  9   Animal_Type 1   16   3.710 0.072       0.188 0.1234286\n",
       "11 10   Animal_Type 1   16   0.677 0.423       0.041 0.4413913\n",
       "12 11   Animal_Type 1   16   0.075 0.788       0.005 0.7880000\n",
       "13 12   Animal_Type 1   16   1.049 0.321       0.062 0.3771429\n",
       "14 13   Animal_Type 1   16   4.200 0.057       0.208 0.1070769\n",
       "15 14   Animal_Type 1   16   3.249 0.090       0.169 0.1350000\n",
       "16 15   Animal_Type 1   16   5.949 0.027 *     0.271 0.0720000\n",
       "17 16   Animal_Type 1   16   8.845 0.009 *     0.356 0.0540000\n",
       "18 17   Animal_Type 1   16  10.456 0.005 *     0.395 0.0480000\n",
       "19 18   Animal_Type 1   16   7.211 0.016 *     0.311 0.0630000\n",
       "20 19   Animal_Type 1   16   1.478 0.242       0.085 0.3056842\n",
       "21 20   Animal_Type 1   16   4.703 0.046 *     0.227 0.1003636\n",
       "22 21   Animal_Type 1   16   2.615 0.125       0.140 0.1764706\n",
       "23 22   Animal_Type 1   16   1.679 0.213       0.095 0.2840000\n",
       "24 23   Animal_Type 1   16   6.604 0.021 *     0.292 0.0630000"
      ]
     },
     "metadata": {},
     "output_type": "display_data"
    },
    {
     "name": "stderr",
     "output_type": "stream",
     "text": [
      "`summarise()` has grouped output by 'hour'. You can override using the `.groups` argument.\n"
     ]
    },
    {
     "data": {
      "image/png": "[encoded data removed]",
      "text/plain": [
       "plot without title"
      ]
     },
     "metadata": {
      "image/png": {
       "height": 377.9528,
       "width": 708.6614
      }
     },
     "output_type": "display_data"
    }
   ],
   "source": [
    "#Split-Plot ANOVA - Hourly Activity - Females\n",
    "ezANOVA(Activity%>%mutate(hour=as.factor(hour))%>%filter(Sex==\"Female\"), dv=.(Activity1), wid=.(Animal_ID), within=.(hour), between=.(Animal_Type), type=1)\n",
    "#Post-hoc-tests - Hourly Activity - Females   \n",
    "p_adjust_activity_female <- Activity%>%filter(Sex==\"Female\")%>%group_by(hour)%>%\n",
    "      anova_test(dv = Activity1, wid = Animal_ID, between = Animal_Type) %>%\n",
    "      get_anova_table() %>%\n",
    "      adjust_pvalue(method = \"BH\")\n",
    "p_adjust_activity_female\n",
    "#Plot - Hourly Activity - Females\n",
    "options(repr.plot.width=30/2.54, repr.plot.height=16/2.54)\n",
    "    Activity_Day_Figure(Activity%>%filter(Sex==\"Female\"),c(\"wild_type Female\",\"Dexras1 KO Female\") )+\n",
    "      annotate(\"text\",x=5, y=5.4, label=\"*\", angle=0, size=10)+\n",
    "      annotate(\"text\",x=8, y=5.4, label=\"*\", angle=0, size=10)+\n",
    "      annotate(\"text\",x=17, y=51, label=\"*\", angle=0, size=10)\n",
    "    ggsave(\"Plots/Activity_Line_Plot_F.png\",width=30, height=16,units = \"cm\")"
   ]
  }
 ],
 "metadata": {
  "kernelspec": {
   "display_name": "R",
   "language": "R",
   "name": "ir"
  },
  "language_info": {
   "codemirror_mode": "r",
   "file_extension": ".r",
   "mimetype": "text/x-r-source",
   "name": "R",
   "pygments_lexer": "r",
   "version": "4.1.2"
  }
 },
 "nbformat": 4,
 "nbformat_minor": 5
}
